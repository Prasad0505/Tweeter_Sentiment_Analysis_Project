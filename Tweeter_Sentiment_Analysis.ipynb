{
  "cells": [
    {
      "cell_type": "markdown",
      "metadata": {
        "id": "view-in-github",
        "colab_type": "text"
      },
      "source": [
        "<a href=\"https://colab.research.google.com/github/Prasad0505/Tweeter_Sentiment_Analysis_Project/blob/main/Tweeter_Sentiment_Analysis.ipynb\" target=\"_parent\"><img src=\"https://colab.research.google.com/assets/colab-badge.svg\" alt=\"Open In Colab\"/></a>"
      ]
    },
    {
      "cell_type": "markdown",
      "metadata": {
        "id": "JrMKy2u0Nbp3"
      },
      "source": [
        "##What is Sentiment Analysis?\n",
        "\n",
        "Sentiment analysis (also known as opinion mining) is one of the many applications of Natural Language Processing. It is a set of methods and techniques used for extracting subjective information from text or speech, such as opinions or attitudes. In simple terms, it involves classifying a piece of text as positive, negative or neutral.\n",
        "\n"
      ]
    },
    {
      "cell_type": "markdown",
      "metadata": {
        "id": "h1YCpgb3GyaX"
      },
      "source": [
        "![WhatsApp Image 2023-06-28 at 13.15.09 (1).jpeg](data:image/jpeg;base64,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)"
      ]
    },
    {
      "cell_type": "markdown",
      "metadata": {
        "id": "r7TCzKnkNfub"
      },
      "source": [
        "### **Problem Statement**\n",
        "\n",
        "The problem statement is as follows:\n",
        "\n",
        "The objective of this task is to detect hate speech in tweets. For the sake of simplicity, we say a tweet contains hate speech if it has a racist or sexist sentiment associated with it. So, the task is to classify racist or sexist tweets from other tweets.\n",
        "Formally, given a training sample of tweets and labels, where label ‘1’ denotes the tweet is racist/sexist and label ‘0’ denotes the tweet is not racist/sexist, your objective is to predict the labels on the labels on the given test dataset."
      ]
    },
    {
      "cell_type": "markdown",
      "metadata": {
        "id": "VvQiBNkJNmtV"
      },
      "source": [
        "### **Importing Required Libraries And Importing Dataset**"
      ]
    },
    {
      "cell_type": "code",
      "execution_count": null,
      "metadata": {
        "id": "v7Qbc34RrzdY"
      },
      "outputs": [],
      "source": [
        "import re\n",
        "import nltk\n",
        "import string\n",
        "import numpy as np\n",
        "import warnings\n",
        "import pandas as pd\n",
        "import seaborn as sns\n",
        "import plotly.express as px\n",
        "import matplotlib.pyplot as pl\n",
        "%matplotlib inline\n",
        "pd.set_option(\"display.max_colwidth\",200)\n",
        "from keras.utils import to_categorical\n",
        "from keras import models\n",
        "from keras import layers"
      ]
    },
    {
      "cell_type": "code",
      "source": [
        "from google.colab import drive\n",
        "drive.mount('/content/drive')"
      ],
      "metadata": {
        "id": "e8lWIstUy2sL",
        "outputId": "9f0a89e6-cb0c-46cf-cc0f-b2e07728fe7e",
        "colab": {
          "base_uri": "https://localhost:8080/"
        }
      },
      "execution_count": null,
      "outputs": [
        {
          "output_type": "stream",
          "name": "stdout",
          "text": [
            "Drive already mounted at /content/drive; to attempt to forcibly remount, call drive.mount(\"/content/drive\", force_remount=True).\n"
          ]
        }
      ]
    },
    {
      "cell_type": "code",
      "execution_count": null,
      "metadata": {
        "id": "nhK-edcnr0rp"
      },
      "outputs": [],
      "source": [
        "train_data = pd.read_csv(\"/content/drive/MyDrive/train_tweets_data.csv\")\n",
        "test_data = pd.read_csv(\"/content/drive/MyDrive/test_tweets_data.csv\")"
      ]
    },
    {
      "cell_type": "markdown",
      "metadata": {
        "id": "iIeFfVFSNypn"
      },
      "source": [
        "\n",
        "### **Concatinate test data and train data**"
      ]
    },
    {
      "cell_type": "code",
      "execution_count": null,
      "metadata": {
        "id": "GMvRDZnaN0cl",
        "colab": {
          "base_uri": "https://localhost:8080/",
          "height": 423
        },
        "outputId": "ea0a645e-eccf-425e-b1b7-960c31b652b1"
      },
      "outputs": [
        {
          "output_type": "execute_result",
          "data": {
            "text/plain": [
              "          id  label  \\\n",
              "0          1    0.0   \n",
              "1          2    0.0   \n",
              "2          3    0.0   \n",
              "3          4    0.0   \n",
              "4          5    0.0   \n",
              "...      ...    ...   \n",
              "49154  49155    NaN   \n",
              "49155  49156    NaN   \n",
              "49156  49157    NaN   \n",
              "49157  49158    NaN   \n",
              "49158  49159    NaN   \n",
              "\n",
              "                                                                                                                                                   tweet  \n",
              "0                                                  @user when a father is dysfunctional and is so selfish he drags his kids into his dysfunction.   #run  \n",
              "1                             @user @user thanks for #lyft credit i can't use cause they don't offer wheelchair vans in pdx.    #disapointed #getthanked  \n",
              "2                                                                                                                                    bihday your majesty  \n",
              "3                                                                 #model   i love u take with u all the time in urð±!!! ðððð\n",
              "ð¦ð¦ð¦    \n",
              "4                                                                                                                 factsguide: society now    #motivation  \n",
              "...                                                                                                                                                  ...  \n",
              "49154                                       thought factory: left-right polarisation! #trump #uselections2016 #leadership #politics  #brexit #blm &gt;3   \n",
              "49155                                                   feeling like a mermaid ð #hairflip #neverready #formal #wedding #gown #dresses #mermaid  â¦   \n",
              "49156  #hillary #campaigned today in #ohio((omg)) &amp; used words like \"assets&amp;liability\" never once did #clinton say thee(word) #radicalization     \n",
              "49157                                           happy, at work conference: right mindset leads to culture-of-development organizations    #work #mindset  \n",
              "49158                                                                                   my   song \"so glad\" free download!  #shoegaze #newmusic #newsong  \n",
              "\n",
              "[49159 rows x 3 columns]"
            ],
            "text/html": [
              "\n",
              "  <div id=\"df-7dc01f5f-6f28-41f8-9fa9-b1d61b51ad91\" class=\"colab-df-container\">\n",
              "    <div>\n",
              "<style scoped>\n",
              "    .dataframe tbody tr th:only-of-type {\n",
              "        vertical-align: middle;\n",
              "    }\n",
              "\n",
              "    .dataframe tbody tr th {\n",
              "        vertical-align: top;\n",
              "    }\n",
              "\n",
              "    .dataframe thead th {\n",
              "        text-align: right;\n",
              "    }\n",
              "</style>\n",
              "<table border=\"1\" class=\"dataframe\">\n",
              "  <thead>\n",
              "    <tr style=\"text-align: right;\">\n",
              "      <th></th>\n",
              "      <th>id</th>\n",
              "      <th>label</th>\n",
              "      <th>tweet</th>\n",
              "    </tr>\n",
              "  </thead>\n",
              "  <tbody>\n",
              "    <tr>\n",
              "      <th>0</th>\n",
              "      <td>1</td>\n",
              "      <td>0.0</td>\n",
              "      <td>@user when a father is dysfunctional and is so selfish he drags his kids into his dysfunction.   #run</td>\n",
              "    </tr>\n",
              "    <tr>\n",
              "      <th>1</th>\n",
              "      <td>2</td>\n",
              "      <td>0.0</td>\n",
              "      <td>@user @user thanks for #lyft credit i can't use cause they don't offer wheelchair vans in pdx.    #disapointed #getthanked</td>\n",
              "    </tr>\n",
              "    <tr>\n",
              "      <th>2</th>\n",
              "      <td>3</td>\n",
              "      <td>0.0</td>\n",
              "      <td>bihday your majesty</td>\n",
              "    </tr>\n",
              "    <tr>\n",
              "      <th>3</th>\n",
              "      <td>4</td>\n",
              "      <td>0.0</td>\n",
              "      <td>#model   i love u take with u all the time in urð±!!! ððððð¦ð¦ð¦</td>\n",
              "    </tr>\n",
              "    <tr>\n",
              "      <th>4</th>\n",
              "      <td>5</td>\n",
              "      <td>0.0</td>\n",
              "      <td>factsguide: society now    #motivation</td>\n",
              "    </tr>\n",
              "    <tr>\n",
              "      <th>...</th>\n",
              "      <td>...</td>\n",
              "      <td>...</td>\n",
              "      <td>...</td>\n",
              "    </tr>\n",
              "    <tr>\n",
              "      <th>49154</th>\n",
              "      <td>49155</td>\n",
              "      <td>NaN</td>\n",
              "      <td>thought factory: left-right polarisation! #trump #uselections2016 #leadership #politics  #brexit #blm &amp;gt;3</td>\n",
              "    </tr>\n",
              "    <tr>\n",
              "      <th>49155</th>\n",
              "      <td>49156</td>\n",
              "      <td>NaN</td>\n",
              "      <td>feeling like a mermaid ð #hairflip #neverready #formal #wedding #gown #dresses #mermaid  â¦</td>\n",
              "    </tr>\n",
              "    <tr>\n",
              "      <th>49156</th>\n",
              "      <td>49157</td>\n",
              "      <td>NaN</td>\n",
              "      <td>#hillary #campaigned today in #ohio((omg)) &amp;amp; used words like \"assets&amp;amp;liability\" never once did #clinton say thee(word) #radicalization</td>\n",
              "    </tr>\n",
              "    <tr>\n",
              "      <th>49157</th>\n",
              "      <td>49158</td>\n",
              "      <td>NaN</td>\n",
              "      <td>happy, at work conference: right mindset leads to culture-of-development organizations    #work #mindset</td>\n",
              "    </tr>\n",
              "    <tr>\n",
              "      <th>49158</th>\n",
              "      <td>49159</td>\n",
              "      <td>NaN</td>\n",
              "      <td>my   song \"so glad\" free download!  #shoegaze #newmusic #newsong</td>\n",
              "    </tr>\n",
              "  </tbody>\n",
              "</table>\n",
              "<p>49159 rows × 3 columns</p>\n",
              "</div>\n",
              "    <div class=\"colab-df-buttons\">\n",
              "\n",
              "  <div class=\"colab-df-container\">\n",
              "    <button class=\"colab-df-convert\" onclick=\"convertToInteractive('df-7dc01f5f-6f28-41f8-9fa9-b1d61b51ad91')\"\n",
              "            title=\"Convert this dataframe to an interactive table.\"\n",
              "            style=\"display:none;\">\n",
              "\n",
              "  <svg xmlns=\"http://www.w3.org/2000/svg\" height=\"24px\" viewBox=\"0 -960 960 960\">\n",
              "    <path d=\"M120-120v-720h720v720H120Zm60-500h600v-160H180v160Zm220 220h160v-160H400v160Zm0 220h160v-160H400v160ZM180-400h160v-160H180v160Zm440 0h160v-160H620v160ZM180-180h160v-160H180v160Zm440 0h160v-160H620v160Z\"/>\n",
              "  </svg>\n",
              "    </button>\n",
              "\n",
              "  <style>\n",
              "    .colab-df-container {\n",
              "      display:flex;\n",
              "      gap: 12px;\n",
              "    }\n",
              "\n",
              "    .colab-df-convert {\n",
              "      background-color: #E8F0FE;\n",
              "      border: none;\n",
              "      border-radius: 50%;\n",
              "      cursor: pointer;\n",
              "      display: none;\n",
              "      fill: #1967D2;\n",
              "      height: 32px;\n",
              "      padding: 0 0 0 0;\n",
              "      width: 32px;\n",
              "    }\n",
              "\n",
              "    .colab-df-convert:hover {\n",
              "      background-color: #E2EBFA;\n",
              "      box-shadow: 0px 1px 2px rgba(60, 64, 67, 0.3), 0px 1px 3px 1px rgba(60, 64, 67, 0.15);\n",
              "      fill: #174EA6;\n",
              "    }\n",
              "\n",
              "    .colab-df-buttons div {\n",
              "      margin-bottom: 4px;\n",
              "    }\n",
              "\n",
              "    [theme=dark] .colab-df-convert {\n",
              "      background-color: #3B4455;\n",
              "      fill: #D2E3FC;\n",
              "    }\n",
              "\n",
              "    [theme=dark] .colab-df-convert:hover {\n",
              "      background-color: #434B5C;\n",
              "      box-shadow: 0px 1px 3px 1px rgba(0, 0, 0, 0.15);\n",
              "      filter: drop-shadow(0px 1px 2px rgba(0, 0, 0, 0.3));\n",
              "      fill: #FFFFFF;\n",
              "    }\n",
              "  </style>\n",
              "\n",
              "    <script>\n",
              "      const buttonEl =\n",
              "        document.querySelector('#df-7dc01f5f-6f28-41f8-9fa9-b1d61b51ad91 button.colab-df-convert');\n",
              "      buttonEl.style.display =\n",
              "        google.colab.kernel.accessAllowed ? 'block' : 'none';\n",
              "\n",
              "      async function convertToInteractive(key) {\n",
              "        const element = document.querySelector('#df-7dc01f5f-6f28-41f8-9fa9-b1d61b51ad91');\n",
              "        const dataTable =\n",
              "          await google.colab.kernel.invokeFunction('convertToInteractive',\n",
              "                                                    [key], {});\n",
              "        if (!dataTable) return;\n",
              "\n",
              "        const docLinkHtml = 'Like what you see? Visit the ' +\n",
              "          '<a target=\"_blank\" href=https://colab.research.google.com/notebooks/data_table.ipynb>data table notebook</a>'\n",
              "          + ' to learn more about interactive tables.';\n",
              "        element.innerHTML = '';\n",
              "        dataTable['output_type'] = 'display_data';\n",
              "        await google.colab.output.renderOutput(dataTable, element);\n",
              "        const docLink = document.createElement('div');\n",
              "        docLink.innerHTML = docLinkHtml;\n",
              "        element.appendChild(docLink);\n",
              "      }\n",
              "    </script>\n",
              "  </div>\n",
              "\n",
              "\n",
              "<div id=\"df-aa162f47-aad1-40c5-90e2-2bc427e1b390\">\n",
              "  <button class=\"colab-df-quickchart\" onclick=\"quickchart('df-aa162f47-aad1-40c5-90e2-2bc427e1b390')\"\n",
              "            title=\"Suggest charts.\"\n",
              "            style=\"display:none;\">\n",
              "\n",
              "<svg xmlns=\"http://www.w3.org/2000/svg\" height=\"24px\"viewBox=\"0 0 24 24\"\n",
              "     width=\"24px\">\n",
              "    <g>\n",
              "        <path d=\"M19 3H5c-1.1 0-2 .9-2 2v14c0 1.1.9 2 2 2h14c1.1 0 2-.9 2-2V5c0-1.1-.9-2-2-2zM9 17H7v-7h2v7zm4 0h-2V7h2v10zm4 0h-2v-4h2v4z\"/>\n",
              "    </g>\n",
              "</svg>\n",
              "  </button>\n",
              "\n",
              "<style>\n",
              "  .colab-df-quickchart {\n",
              "      --bg-color: #E8F0FE;\n",
              "      --fill-color: #1967D2;\n",
              "      --hover-bg-color: #E2EBFA;\n",
              "      --hover-fill-color: #174EA6;\n",
              "      --disabled-fill-color: #AAA;\n",
              "      --disabled-bg-color: #DDD;\n",
              "  }\n",
              "\n",
              "  [theme=dark] .colab-df-quickchart {\n",
              "      --bg-color: #3B4455;\n",
              "      --fill-color: #D2E3FC;\n",
              "      --hover-bg-color: #434B5C;\n",
              "      --hover-fill-color: #FFFFFF;\n",
              "      --disabled-bg-color: #3B4455;\n",
              "      --disabled-fill-color: #666;\n",
              "  }\n",
              "\n",
              "  .colab-df-quickchart {\n",
              "    background-color: var(--bg-color);\n",
              "    border: none;\n",
              "    border-radius: 50%;\n",
              "    cursor: pointer;\n",
              "    display: none;\n",
              "    fill: var(--fill-color);\n",
              "    height: 32px;\n",
              "    padding: 0;\n",
              "    width: 32px;\n",
              "  }\n",
              "\n",
              "  .colab-df-quickchart:hover {\n",
              "    background-color: var(--hover-bg-color);\n",
              "    box-shadow: 0 1px 2px rgba(60, 64, 67, 0.3), 0 1px 3px 1px rgba(60, 64, 67, 0.15);\n",
              "    fill: var(--button-hover-fill-color);\n",
              "  }\n",
              "\n",
              "  .colab-df-quickchart-complete:disabled,\n",
              "  .colab-df-quickchart-complete:disabled:hover {\n",
              "    background-color: var(--disabled-bg-color);\n",
              "    fill: var(--disabled-fill-color);\n",
              "    box-shadow: none;\n",
              "  }\n",
              "\n",
              "  .colab-df-spinner {\n",
              "    border: 2px solid var(--fill-color);\n",
              "    border-color: transparent;\n",
              "    border-bottom-color: var(--fill-color);\n",
              "    animation:\n",
              "      spin 1s steps(1) infinite;\n",
              "  }\n",
              "\n",
              "  @keyframes spin {\n",
              "    0% {\n",
              "      border-color: transparent;\n",
              "      border-bottom-color: var(--fill-color);\n",
              "      border-left-color: var(--fill-color);\n",
              "    }\n",
              "    20% {\n",
              "      border-color: transparent;\n",
              "      border-left-color: var(--fill-color);\n",
              "      border-top-color: var(--fill-color);\n",
              "    }\n",
              "    30% {\n",
              "      border-color: transparent;\n",
              "      border-left-color: var(--fill-color);\n",
              "      border-top-color: var(--fill-color);\n",
              "      border-right-color: var(--fill-color);\n",
              "    }\n",
              "    40% {\n",
              "      border-color: transparent;\n",
              "      border-right-color: var(--fill-color);\n",
              "      border-top-color: var(--fill-color);\n",
              "    }\n",
              "    60% {\n",
              "      border-color: transparent;\n",
              "      border-right-color: var(--fill-color);\n",
              "    }\n",
              "    80% {\n",
              "      border-color: transparent;\n",
              "      border-right-color: var(--fill-color);\n",
              "      border-bottom-color: var(--fill-color);\n",
              "    }\n",
              "    90% {\n",
              "      border-color: transparent;\n",
              "      border-bottom-color: var(--fill-color);\n",
              "    }\n",
              "  }\n",
              "</style>\n",
              "\n",
              "  <script>\n",
              "    async function quickchart(key) {\n",
              "      const quickchartButtonEl =\n",
              "        document.querySelector('#' + key + ' button');\n",
              "      quickchartButtonEl.disabled = true;  // To prevent multiple clicks.\n",
              "      quickchartButtonEl.classList.add('colab-df-spinner');\n",
              "      try {\n",
              "        const charts = await google.colab.kernel.invokeFunction(\n",
              "            'suggestCharts', [key], {});\n",
              "      } catch (error) {\n",
              "        console.error('Error during call to suggestCharts:', error);\n",
              "      }\n",
              "      quickchartButtonEl.classList.remove('colab-df-spinner');\n",
              "      quickchartButtonEl.classList.add('colab-df-quickchart-complete');\n",
              "    }\n",
              "    (() => {\n",
              "      let quickchartButtonEl =\n",
              "        document.querySelector('#df-aa162f47-aad1-40c5-90e2-2bc427e1b390 button');\n",
              "      quickchartButtonEl.style.display =\n",
              "        google.colab.kernel.accessAllowed ? 'block' : 'none';\n",
              "    })();\n",
              "  </script>\n",
              "</div>\n",
              "    </div>\n",
              "  </div>\n"
            ]
          },
          "metadata": {},
          "execution_count": 7
        }
      ],
      "source": [
        "df = pd.concat([train_data,test_data],axis=0,ignore_index=True)\n",
        "df"
      ]
    },
    {
      "cell_type": "markdown",
      "metadata": {
        "id": "DUldTxHcN-bk"
      },
      "source": [
        "### **Data Inspection**\n",
        "\n",
        "\n",
        "Text is a highly unstructured form of data, various types of noise are present in it and the data is not readily analyzable without any pre-processing. The entire process of cleaning and standardization of text, making it noise-free and ready for analysis is known as text preprocessing.\n",
        "\n",
        "We will divide it into 2 parts:\n",
        "* Data Inspection\n",
        "* Data Cleaning"
      ]
    },
    {
      "cell_type": "code",
      "execution_count": null,
      "metadata": {
        "colab": {
          "base_uri": "https://localhost:8080/"
        },
        "id": "fAKOLcvD1kGn",
        "outputId": "4e539439-409f-4473-8c7a-2c5024994388"
      },
      "outputs": [
        {
          "output_type": "execute_result",
          "data": {
            "text/plain": [
              "(49159, 3)"
            ]
          },
          "metadata": {},
          "execution_count": 8
        }
      ],
      "source": [
        "df.shape"
      ]
    },
    {
      "cell_type": "markdown",
      "metadata": {
        "id": "riBuxA-71n8c"
      },
      "source": [
        "There are 49159 records and 3 features in our hole dataset"
      ]
    },
    {
      "cell_type": "code",
      "execution_count": null,
      "metadata": {
        "colab": {
          "base_uri": "https://localhost:8080/"
        },
        "id": "nAqghmp-2M3k",
        "outputId": "cdeca533-fd67-466a-fb8b-18f8429e2aef"
      },
      "outputs": [
        {
          "output_type": "stream",
          "name": "stdout",
          "text": [
            "<class 'pandas.core.frame.DataFrame'>\n",
            "RangeIndex: 49159 entries, 0 to 49158\n",
            "Data columns (total 3 columns):\n",
            " #   Column  Non-Null Count  Dtype  \n",
            "---  ------  --------------  -----  \n",
            " 0   id      49159 non-null  int64  \n",
            " 1   label   31962 non-null  float64\n",
            " 2   tweet   49159 non-null  object \n",
            "dtypes: float64(1), int64(1), object(1)\n",
            "memory usage: 1.1+ MB\n"
          ]
        }
      ],
      "source": [
        "df.info()"
      ]
    },
    {
      "cell_type": "markdown",
      "metadata": {
        "id": "1gNfXkY02QDh"
      },
      "source": [
        "THis dataset contain tweet as categorical and label as iteger value"
      ]
    },
    {
      "cell_type": "code",
      "execution_count": null,
      "metadata": {
        "colab": {
          "base_uri": "https://localhost:8080/"
        },
        "id": "m7QWfyaW2fAV",
        "outputId": "2fa66be8-4500-48fa-a3ff-178473e51b45"
      },
      "outputs": [
        {
          "output_type": "execute_result",
          "data": {
            "text/plain": [
              "0.0    29720\n",
              "1.0     2242\n",
              "Name: label, dtype: int64"
            ]
          },
          "metadata": {},
          "execution_count": 10
        }
      ],
      "source": [
        "df[\"label\"].value_counts()"
      ]
    },
    {
      "cell_type": "markdown",
      "metadata": {
        "id": "jzfanXFa2pmy"
      },
      "source": [
        "This dataset contain 0 and 1 value in label(target) feature and have inbalance in nature in wich 0 is majority class and 1 is minority class"
      ]
    },
    {
      "cell_type": "code",
      "execution_count": null,
      "metadata": {
        "id": "_IcIB2k_ORMC"
      },
      "outputs": [],
      "source": [
        "length=train_data[\"length\"]=train_data[\"tweet\"].apply(lambda x:len(x))"
      ]
    },
    {
      "cell_type": "markdown",
      "metadata": {
        "id": "CvrzRq4_OXXs"
      },
      "source": [
        "### **Data Cleaning In NLP**"
      ]
    },
    {
      "cell_type": "markdown",
      "metadata": {
        "id": "Ajnh5oW4OcNj"
      },
      "source": [
        "**1. converting text into lower case**"
      ]
    },
    {
      "cell_type": "code",
      "execution_count": null,
      "metadata": {
        "colab": {
          "base_uri": "https://localhost:8080/",
          "height": 423
        },
        "id": "5i6K5EJQsHOH",
        "outputId": "271a35d2-78ce-41e0-fe9d-a672ec779acd"
      },
      "outputs": [
        {
          "output_type": "execute_result",
          "data": {
            "text/plain": [
              "          id  label  \\\n",
              "0          1    0.0   \n",
              "1          2    0.0   \n",
              "2          3    0.0   \n",
              "3          4    0.0   \n",
              "4          5    0.0   \n",
              "...      ...    ...   \n",
              "49154  49155    NaN   \n",
              "49155  49156    NaN   \n",
              "49156  49157    NaN   \n",
              "49157  49158    NaN   \n",
              "49158  49159    NaN   \n",
              "\n",
              "                                                                                                                                                tweet  \n",
              "0                                                 @user when a father is dysfunctional and is so selfish he drags his kids into his dysfunction. #run  \n",
              "1                             @user @user thanks for #lyft credit i can't use cause they don't offer wheelchair vans in pdx. #disapointed #getthanked  \n",
              "2                                                                                                                                 bihday your majesty  \n",
              "3                                                                  #model i love u take with u all the time in urð±!!! ðððð ð¦ð¦ð¦  \n",
              "4                                                                                                                 factsguide: society now #motivation  \n",
              "...                                                                                                                                               ...  \n",
              "49154                                      thought factory: left-right polarisation! #trump #uselections2016 #leadership #politics #brexit #blm &gt;3  \n",
              "49155                                                  feeling like a mermaid ð #hairflip #neverready #formal #wedding #gown #dresses #mermaid â¦  \n",
              "49156  #hillary #campaigned today in #ohio((omg)) &amp; used words like \"assets&amp;liability\" never once did #clinton say thee(word) #radicalization  \n",
              "49157                                           happy, at work conference: right mindset leads to culture-of-development organizations #work #mindset  \n",
              "49158                                                                                   my song \"so glad\" free download! #shoegaze #newmusic #newsong  \n",
              "\n",
              "[49159 rows x 3 columns]"
            ],
            "text/html": [
              "\n",
              "  <div id=\"df-9081e1d3-80cd-4560-b33a-48d5fc07d6f8\" class=\"colab-df-container\">\n",
              "    <div>\n",
              "<style scoped>\n",
              "    .dataframe tbody tr th:only-of-type {\n",
              "        vertical-align: middle;\n",
              "    }\n",
              "\n",
              "    .dataframe tbody tr th {\n",
              "        vertical-align: top;\n",
              "    }\n",
              "\n",
              "    .dataframe thead th {\n",
              "        text-align: right;\n",
              "    }\n",
              "</style>\n",
              "<table border=\"1\" class=\"dataframe\">\n",
              "  <thead>\n",
              "    <tr style=\"text-align: right;\">\n",
              "      <th></th>\n",
              "      <th>id</th>\n",
              "      <th>label</th>\n",
              "      <th>tweet</th>\n",
              "    </tr>\n",
              "  </thead>\n",
              "  <tbody>\n",
              "    <tr>\n",
              "      <th>0</th>\n",
              "      <td>1</td>\n",
              "      <td>0.0</td>\n",
              "      <td>@user when a father is dysfunctional and is so selfish he drags his kids into his dysfunction. #run</td>\n",
              "    </tr>\n",
              "    <tr>\n",
              "      <th>1</th>\n",
              "      <td>2</td>\n",
              "      <td>0.0</td>\n",
              "      <td>@user @user thanks for #lyft credit i can't use cause they don't offer wheelchair vans in pdx. #disapointed #getthanked</td>\n",
              "    </tr>\n",
              "    <tr>\n",
              "      <th>2</th>\n",
              "      <td>3</td>\n",
              "      <td>0.0</td>\n",
              "      <td>bihday your majesty</td>\n",
              "    </tr>\n",
              "    <tr>\n",
              "      <th>3</th>\n",
              "      <td>4</td>\n",
              "      <td>0.0</td>\n",
              "      <td>#model i love u take with u all the time in urð±!!! ðððð ð¦ð¦ð¦</td>\n",
              "    </tr>\n",
              "    <tr>\n",
              "      <th>4</th>\n",
              "      <td>5</td>\n",
              "      <td>0.0</td>\n",
              "      <td>factsguide: society now #motivation</td>\n",
              "    </tr>\n",
              "    <tr>\n",
              "      <th>...</th>\n",
              "      <td>...</td>\n",
              "      <td>...</td>\n",
              "      <td>...</td>\n",
              "    </tr>\n",
              "    <tr>\n",
              "      <th>49154</th>\n",
              "      <td>49155</td>\n",
              "      <td>NaN</td>\n",
              "      <td>thought factory: left-right polarisation! #trump #uselections2016 #leadership #politics #brexit #blm &amp;gt;3</td>\n",
              "    </tr>\n",
              "    <tr>\n",
              "      <th>49155</th>\n",
              "      <td>49156</td>\n",
              "      <td>NaN</td>\n",
              "      <td>feeling like a mermaid ð #hairflip #neverready #formal #wedding #gown #dresses #mermaid â¦</td>\n",
              "    </tr>\n",
              "    <tr>\n",
              "      <th>49156</th>\n",
              "      <td>49157</td>\n",
              "      <td>NaN</td>\n",
              "      <td>#hillary #campaigned today in #ohio((omg)) &amp;amp; used words like \"assets&amp;amp;liability\" never once did #clinton say thee(word) #radicalization</td>\n",
              "    </tr>\n",
              "    <tr>\n",
              "      <th>49157</th>\n",
              "      <td>49158</td>\n",
              "      <td>NaN</td>\n",
              "      <td>happy, at work conference: right mindset leads to culture-of-development organizations #work #mindset</td>\n",
              "    </tr>\n",
              "    <tr>\n",
              "      <th>49158</th>\n",
              "      <td>49159</td>\n",
              "      <td>NaN</td>\n",
              "      <td>my song \"so glad\" free download! #shoegaze #newmusic #newsong</td>\n",
              "    </tr>\n",
              "  </tbody>\n",
              "</table>\n",
              "<p>49159 rows × 3 columns</p>\n",
              "</div>\n",
              "    <div class=\"colab-df-buttons\">\n",
              "\n",
              "  <div class=\"colab-df-container\">\n",
              "    <button class=\"colab-df-convert\" onclick=\"convertToInteractive('df-9081e1d3-80cd-4560-b33a-48d5fc07d6f8')\"\n",
              "            title=\"Convert this dataframe to an interactive table.\"\n",
              "            style=\"display:none;\">\n",
              "\n",
              "  <svg xmlns=\"http://www.w3.org/2000/svg\" height=\"24px\" viewBox=\"0 -960 960 960\">\n",
              "    <path d=\"M120-120v-720h720v720H120Zm60-500h600v-160H180v160Zm220 220h160v-160H400v160Zm0 220h160v-160H400v160ZM180-400h160v-160H180v160Zm440 0h160v-160H620v160ZM180-180h160v-160H180v160Zm440 0h160v-160H620v160Z\"/>\n",
              "  </svg>\n",
              "    </button>\n",
              "\n",
              "  <style>\n",
              "    .colab-df-container {\n",
              "      display:flex;\n",
              "      gap: 12px;\n",
              "    }\n",
              "\n",
              "    .colab-df-convert {\n",
              "      background-color: #E8F0FE;\n",
              "      border: none;\n",
              "      border-radius: 50%;\n",
              "      cursor: pointer;\n",
              "      display: none;\n",
              "      fill: #1967D2;\n",
              "      height: 32px;\n",
              "      padding: 0 0 0 0;\n",
              "      width: 32px;\n",
              "    }\n",
              "\n",
              "    .colab-df-convert:hover {\n",
              "      background-color: #E2EBFA;\n",
              "      box-shadow: 0px 1px 2px rgba(60, 64, 67, 0.3), 0px 1px 3px 1px rgba(60, 64, 67, 0.15);\n",
              "      fill: #174EA6;\n",
              "    }\n",
              "\n",
              "    .colab-df-buttons div {\n",
              "      margin-bottom: 4px;\n",
              "    }\n",
              "\n",
              "    [theme=dark] .colab-df-convert {\n",
              "      background-color: #3B4455;\n",
              "      fill: #D2E3FC;\n",
              "    }\n",
              "\n",
              "    [theme=dark] .colab-df-convert:hover {\n",
              "      background-color: #434B5C;\n",
              "      box-shadow: 0px 1px 3px 1px rgba(0, 0, 0, 0.15);\n",
              "      filter: drop-shadow(0px 1px 2px rgba(0, 0, 0, 0.3));\n",
              "      fill: #FFFFFF;\n",
              "    }\n",
              "  </style>\n",
              "\n",
              "    <script>\n",
              "      const buttonEl =\n",
              "        document.querySelector('#df-9081e1d3-80cd-4560-b33a-48d5fc07d6f8 button.colab-df-convert');\n",
              "      buttonEl.style.display =\n",
              "        google.colab.kernel.accessAllowed ? 'block' : 'none';\n",
              "\n",
              "      async function convertToInteractive(key) {\n",
              "        const element = document.querySelector('#df-9081e1d3-80cd-4560-b33a-48d5fc07d6f8');\n",
              "        const dataTable =\n",
              "          await google.colab.kernel.invokeFunction('convertToInteractive',\n",
              "                                                    [key], {});\n",
              "        if (!dataTable) return;\n",
              "\n",
              "        const docLinkHtml = 'Like what you see? Visit the ' +\n",
              "          '<a target=\"_blank\" href=https://colab.research.google.com/notebooks/data_table.ipynb>data table notebook</a>'\n",
              "          + ' to learn more about interactive tables.';\n",
              "        element.innerHTML = '';\n",
              "        dataTable['output_type'] = 'display_data';\n",
              "        await google.colab.output.renderOutput(dataTable, element);\n",
              "        const docLink = document.createElement('div');\n",
              "        docLink.innerHTML = docLinkHtml;\n",
              "        element.appendChild(docLink);\n",
              "      }\n",
              "    </script>\n",
              "  </div>\n",
              "\n",
              "\n",
              "<div id=\"df-e10e37e2-7627-4bbc-83ad-670664467964\">\n",
              "  <button class=\"colab-df-quickchart\" onclick=\"quickchart('df-e10e37e2-7627-4bbc-83ad-670664467964')\"\n",
              "            title=\"Suggest charts.\"\n",
              "            style=\"display:none;\">\n",
              "\n",
              "<svg xmlns=\"http://www.w3.org/2000/svg\" height=\"24px\"viewBox=\"0 0 24 24\"\n",
              "     width=\"24px\">\n",
              "    <g>\n",
              "        <path d=\"M19 3H5c-1.1 0-2 .9-2 2v14c0 1.1.9 2 2 2h14c1.1 0 2-.9 2-2V5c0-1.1-.9-2-2-2zM9 17H7v-7h2v7zm4 0h-2V7h2v10zm4 0h-2v-4h2v4z\"/>\n",
              "    </g>\n",
              "</svg>\n",
              "  </button>\n",
              "\n",
              "<style>\n",
              "  .colab-df-quickchart {\n",
              "      --bg-color: #E8F0FE;\n",
              "      --fill-color: #1967D2;\n",
              "      --hover-bg-color: #E2EBFA;\n",
              "      --hover-fill-color: #174EA6;\n",
              "      --disabled-fill-color: #AAA;\n",
              "      --disabled-bg-color: #DDD;\n",
              "  }\n",
              "\n",
              "  [theme=dark] .colab-df-quickchart {\n",
              "      --bg-color: #3B4455;\n",
              "      --fill-color: #D2E3FC;\n",
              "      --hover-bg-color: #434B5C;\n",
              "      --hover-fill-color: #FFFFFF;\n",
              "      --disabled-bg-color: #3B4455;\n",
              "      --disabled-fill-color: #666;\n",
              "  }\n",
              "\n",
              "  .colab-df-quickchart {\n",
              "    background-color: var(--bg-color);\n",
              "    border: none;\n",
              "    border-radius: 50%;\n",
              "    cursor: pointer;\n",
              "    display: none;\n",
              "    fill: var(--fill-color);\n",
              "    height: 32px;\n",
              "    padding: 0;\n",
              "    width: 32px;\n",
              "  }\n",
              "\n",
              "  .colab-df-quickchart:hover {\n",
              "    background-color: var(--hover-bg-color);\n",
              "    box-shadow: 0 1px 2px rgba(60, 64, 67, 0.3), 0 1px 3px 1px rgba(60, 64, 67, 0.15);\n",
              "    fill: var(--button-hover-fill-color);\n",
              "  }\n",
              "\n",
              "  .colab-df-quickchart-complete:disabled,\n",
              "  .colab-df-quickchart-complete:disabled:hover {\n",
              "    background-color: var(--disabled-bg-color);\n",
              "    fill: var(--disabled-fill-color);\n",
              "    box-shadow: none;\n",
              "  }\n",
              "\n",
              "  .colab-df-spinner {\n",
              "    border: 2px solid var(--fill-color);\n",
              "    border-color: transparent;\n",
              "    border-bottom-color: var(--fill-color);\n",
              "    animation:\n",
              "      spin 1s steps(1) infinite;\n",
              "  }\n",
              "\n",
              "  @keyframes spin {\n",
              "    0% {\n",
              "      border-color: transparent;\n",
              "      border-bottom-color: var(--fill-color);\n",
              "      border-left-color: var(--fill-color);\n",
              "    }\n",
              "    20% {\n",
              "      border-color: transparent;\n",
              "      border-left-color: var(--fill-color);\n",
              "      border-top-color: var(--fill-color);\n",
              "    }\n",
              "    30% {\n",
              "      border-color: transparent;\n",
              "      border-left-color: var(--fill-color);\n",
              "      border-top-color: var(--fill-color);\n",
              "      border-right-color: var(--fill-color);\n",
              "    }\n",
              "    40% {\n",
              "      border-color: transparent;\n",
              "      border-right-color: var(--fill-color);\n",
              "      border-top-color: var(--fill-color);\n",
              "    }\n",
              "    60% {\n",
              "      border-color: transparent;\n",
              "      border-right-color: var(--fill-color);\n",
              "    }\n",
              "    80% {\n",
              "      border-color: transparent;\n",
              "      border-right-color: var(--fill-color);\n",
              "      border-bottom-color: var(--fill-color);\n",
              "    }\n",
              "    90% {\n",
              "      border-color: transparent;\n",
              "      border-bottom-color: var(--fill-color);\n",
              "    }\n",
              "  }\n",
              "</style>\n",
              "\n",
              "  <script>\n",
              "    async function quickchart(key) {\n",
              "      const quickchartButtonEl =\n",
              "        document.querySelector('#' + key + ' button');\n",
              "      quickchartButtonEl.disabled = true;  // To prevent multiple clicks.\n",
              "      quickchartButtonEl.classList.add('colab-df-spinner');\n",
              "      try {\n",
              "        const charts = await google.colab.kernel.invokeFunction(\n",
              "            'suggestCharts', [key], {});\n",
              "      } catch (error) {\n",
              "        console.error('Error during call to suggestCharts:', error);\n",
              "      }\n",
              "      quickchartButtonEl.classList.remove('colab-df-spinner');\n",
              "      quickchartButtonEl.classList.add('colab-df-quickchart-complete');\n",
              "    }\n",
              "    (() => {\n",
              "      let quickchartButtonEl =\n",
              "        document.querySelector('#df-e10e37e2-7627-4bbc-83ad-670664467964 button');\n",
              "      quickchartButtonEl.style.display =\n",
              "        google.colab.kernel.accessAllowed ? 'block' : 'none';\n",
              "    })();\n",
              "  </script>\n",
              "</div>\n",
              "    </div>\n",
              "  </div>\n"
            ]
          },
          "metadata": {},
          "execution_count": 12
        }
      ],
      "source": [
        "#convert all letter in lower case\n",
        "df[\"tweet\"]= df['tweet'].apply(lambda x: \" \".join(x.lower()  for x in x.split()))\n",
        "df"
      ]
    },
    {
      "cell_type": "markdown",
      "metadata": {
        "id": "002MC6y5P5_a"
      },
      "source": [
        "**2. Removing Tweeter Handels**"
      ]
    },
    {
      "cell_type": "code",
      "execution_count": null,
      "metadata": {
        "id": "Y2fcUVIpP60a"
      },
      "outputs": [],
      "source": [
        "def remove_pattern(input_text, pattern):\n",
        "    \"\"\"fuction to remove the tweeter handels\n",
        "     data = df[tweet]\"\"\"\n",
        "    r = re.findall(pattern, input_text)\n",
        "    for i in r:\n",
        "        input_text =  re.sub(i,\"\", input_text)\n",
        "    return input_text"
      ]
    },
    {
      "cell_type": "code",
      "execution_count": null,
      "metadata": {
        "colab": {
          "base_uri": "https://localhost:8080/",
          "height": 423
        },
        "id": "W3uBPkX1QPQB",
        "outputId": "fe0e40fb-967c-4f2f-e20c-c9b7c00e3748"
      },
      "outputs": [
        {
          "output_type": "execute_result",
          "data": {
            "text/plain": [
              "          id  label  \\\n",
              "0          1    0.0   \n",
              "1          2    0.0   \n",
              "2          3    0.0   \n",
              "3          4    0.0   \n",
              "4          5    0.0   \n",
              "...      ...    ...   \n",
              "49154  49155    NaN   \n",
              "49155  49156    NaN   \n",
              "49156  49157    NaN   \n",
              "49157  49158    NaN   \n",
              "49158  49159    NaN   \n",
              "\n",
              "                                                                                                                                                tweet  \n",
              "0                                                       when a father is dysfunctional and is so selfish he drags his kids into his dysfunction. #run  \n",
              "1                                         thanks for #lyft credit i can't use cause they don't offer wheelchair vans in pdx. #disapointed #getthanked  \n",
              "2                                                                                                                                 bihday your majesty  \n",
              "3                                                                  #model i love u take with u all the time in urð±!!! ðððð ð¦ð¦ð¦  \n",
              "4                                                                                                                 factsguide: society now #motivation  \n",
              "...                                                                                                                                               ...  \n",
              "49154                                      thought factory: left-right polarisation! #trump #uselections2016 #leadership #politics #brexit #blm &gt;3  \n",
              "49155                                                  feeling like a mermaid ð #hairflip #neverready #formal #wedding #gown #dresses #mermaid â¦  \n",
              "49156  #hillary #campaigned today in #ohio((omg)) &amp; used words like \"assets&amp;liability\" never once did #clinton say thee(word) #radicalization  \n",
              "49157                                           happy, at work conference: right mindset leads to culture-of-development organizations #work #mindset  \n",
              "49158                                                                                   my song \"so glad\" free download! #shoegaze #newmusic #newsong  \n",
              "\n",
              "[49159 rows x 3 columns]"
            ],
            "text/html": [
              "\n",
              "  <div id=\"df-69b64236-bff9-4da5-9045-a76a20b41742\" class=\"colab-df-container\">\n",
              "    <div>\n",
              "<style scoped>\n",
              "    .dataframe tbody tr th:only-of-type {\n",
              "        vertical-align: middle;\n",
              "    }\n",
              "\n",
              "    .dataframe tbody tr th {\n",
              "        vertical-align: top;\n",
              "    }\n",
              "\n",
              "    .dataframe thead th {\n",
              "        text-align: right;\n",
              "    }\n",
              "</style>\n",
              "<table border=\"1\" class=\"dataframe\">\n",
              "  <thead>\n",
              "    <tr style=\"text-align: right;\">\n",
              "      <th></th>\n",
              "      <th>id</th>\n",
              "      <th>label</th>\n",
              "      <th>tweet</th>\n",
              "    </tr>\n",
              "  </thead>\n",
              "  <tbody>\n",
              "    <tr>\n",
              "      <th>0</th>\n",
              "      <td>1</td>\n",
              "      <td>0.0</td>\n",
              "      <td>when a father is dysfunctional and is so selfish he drags his kids into his dysfunction. #run</td>\n",
              "    </tr>\n",
              "    <tr>\n",
              "      <th>1</th>\n",
              "      <td>2</td>\n",
              "      <td>0.0</td>\n",
              "      <td>thanks for #lyft credit i can't use cause they don't offer wheelchair vans in pdx. #disapointed #getthanked</td>\n",
              "    </tr>\n",
              "    <tr>\n",
              "      <th>2</th>\n",
              "      <td>3</td>\n",
              "      <td>0.0</td>\n",
              "      <td>bihday your majesty</td>\n",
              "    </tr>\n",
              "    <tr>\n",
              "      <th>3</th>\n",
              "      <td>4</td>\n",
              "      <td>0.0</td>\n",
              "      <td>#model i love u take with u all the time in urð±!!! ðððð ð¦ð¦ð¦</td>\n",
              "    </tr>\n",
              "    <tr>\n",
              "      <th>4</th>\n",
              "      <td>5</td>\n",
              "      <td>0.0</td>\n",
              "      <td>factsguide: society now #motivation</td>\n",
              "    </tr>\n",
              "    <tr>\n",
              "      <th>...</th>\n",
              "      <td>...</td>\n",
              "      <td>...</td>\n",
              "      <td>...</td>\n",
              "    </tr>\n",
              "    <tr>\n",
              "      <th>49154</th>\n",
              "      <td>49155</td>\n",
              "      <td>NaN</td>\n",
              "      <td>thought factory: left-right polarisation! #trump #uselections2016 #leadership #politics #brexit #blm &amp;gt;3</td>\n",
              "    </tr>\n",
              "    <tr>\n",
              "      <th>49155</th>\n",
              "      <td>49156</td>\n",
              "      <td>NaN</td>\n",
              "      <td>feeling like a mermaid ð #hairflip #neverready #formal #wedding #gown #dresses #mermaid â¦</td>\n",
              "    </tr>\n",
              "    <tr>\n",
              "      <th>49156</th>\n",
              "      <td>49157</td>\n",
              "      <td>NaN</td>\n",
              "      <td>#hillary #campaigned today in #ohio((omg)) &amp;amp; used words like \"assets&amp;amp;liability\" never once did #clinton say thee(word) #radicalization</td>\n",
              "    </tr>\n",
              "    <tr>\n",
              "      <th>49157</th>\n",
              "      <td>49158</td>\n",
              "      <td>NaN</td>\n",
              "      <td>happy, at work conference: right mindset leads to culture-of-development organizations #work #mindset</td>\n",
              "    </tr>\n",
              "    <tr>\n",
              "      <th>49158</th>\n",
              "      <td>49159</td>\n",
              "      <td>NaN</td>\n",
              "      <td>my song \"so glad\" free download! #shoegaze #newmusic #newsong</td>\n",
              "    </tr>\n",
              "  </tbody>\n",
              "</table>\n",
              "<p>49159 rows × 3 columns</p>\n",
              "</div>\n",
              "    <div class=\"colab-df-buttons\">\n",
              "\n",
              "  <div class=\"colab-df-container\">\n",
              "    <button class=\"colab-df-convert\" onclick=\"convertToInteractive('df-69b64236-bff9-4da5-9045-a76a20b41742')\"\n",
              "            title=\"Convert this dataframe to an interactive table.\"\n",
              "            style=\"display:none;\">\n",
              "\n",
              "  <svg xmlns=\"http://www.w3.org/2000/svg\" height=\"24px\" viewBox=\"0 -960 960 960\">\n",
              "    <path d=\"M120-120v-720h720v720H120Zm60-500h600v-160H180v160Zm220 220h160v-160H400v160Zm0 220h160v-160H400v160ZM180-400h160v-160H180v160Zm440 0h160v-160H620v160ZM180-180h160v-160H180v160Zm440 0h160v-160H620v160Z\"/>\n",
              "  </svg>\n",
              "    </button>\n",
              "\n",
              "  <style>\n",
              "    .colab-df-container {\n",
              "      display:flex;\n",
              "      gap: 12px;\n",
              "    }\n",
              "\n",
              "    .colab-df-convert {\n",
              "      background-color: #E8F0FE;\n",
              "      border: none;\n",
              "      border-radius: 50%;\n",
              "      cursor: pointer;\n",
              "      display: none;\n",
              "      fill: #1967D2;\n",
              "      height: 32px;\n",
              "      padding: 0 0 0 0;\n",
              "      width: 32px;\n",
              "    }\n",
              "\n",
              "    .colab-df-convert:hover {\n",
              "      background-color: #E2EBFA;\n",
              "      box-shadow: 0px 1px 2px rgba(60, 64, 67, 0.3), 0px 1px 3px 1px rgba(60, 64, 67, 0.15);\n",
              "      fill: #174EA6;\n",
              "    }\n",
              "\n",
              "    .colab-df-buttons div {\n",
              "      margin-bottom: 4px;\n",
              "    }\n",
              "\n",
              "    [theme=dark] .colab-df-convert {\n",
              "      background-color: #3B4455;\n",
              "      fill: #D2E3FC;\n",
              "    }\n",
              "\n",
              "    [theme=dark] .colab-df-convert:hover {\n",
              "      background-color: #434B5C;\n",
              "      box-shadow: 0px 1px 3px 1px rgba(0, 0, 0, 0.15);\n",
              "      filter: drop-shadow(0px 1px 2px rgba(0, 0, 0, 0.3));\n",
              "      fill: #FFFFFF;\n",
              "    }\n",
              "  </style>\n",
              "\n",
              "    <script>\n",
              "      const buttonEl =\n",
              "        document.querySelector('#df-69b64236-bff9-4da5-9045-a76a20b41742 button.colab-df-convert');\n",
              "      buttonEl.style.display =\n",
              "        google.colab.kernel.accessAllowed ? 'block' : 'none';\n",
              "\n",
              "      async function convertToInteractive(key) {\n",
              "        const element = document.querySelector('#df-69b64236-bff9-4da5-9045-a76a20b41742');\n",
              "        const dataTable =\n",
              "          await google.colab.kernel.invokeFunction('convertToInteractive',\n",
              "                                                    [key], {});\n",
              "        if (!dataTable) return;\n",
              "\n",
              "        const docLinkHtml = 'Like what you see? Visit the ' +\n",
              "          '<a target=\"_blank\" href=https://colab.research.google.com/notebooks/data_table.ipynb>data table notebook</a>'\n",
              "          + ' to learn more about interactive tables.';\n",
              "        element.innerHTML = '';\n",
              "        dataTable['output_type'] = 'display_data';\n",
              "        await google.colab.output.renderOutput(dataTable, element);\n",
              "        const docLink = document.createElement('div');\n",
              "        docLink.innerHTML = docLinkHtml;\n",
              "        element.appendChild(docLink);\n",
              "      }\n",
              "    </script>\n",
              "  </div>\n",
              "\n",
              "\n",
              "<div id=\"df-2447b140-5237-4325-8a3c-2169419fe915\">\n",
              "  <button class=\"colab-df-quickchart\" onclick=\"quickchart('df-2447b140-5237-4325-8a3c-2169419fe915')\"\n",
              "            title=\"Suggest charts.\"\n",
              "            style=\"display:none;\">\n",
              "\n",
              "<svg xmlns=\"http://www.w3.org/2000/svg\" height=\"24px\"viewBox=\"0 0 24 24\"\n",
              "     width=\"24px\">\n",
              "    <g>\n",
              "        <path d=\"M19 3H5c-1.1 0-2 .9-2 2v14c0 1.1.9 2 2 2h14c1.1 0 2-.9 2-2V5c0-1.1-.9-2-2-2zM9 17H7v-7h2v7zm4 0h-2V7h2v10zm4 0h-2v-4h2v4z\"/>\n",
              "    </g>\n",
              "</svg>\n",
              "  </button>\n",
              "\n",
              "<style>\n",
              "  .colab-df-quickchart {\n",
              "      --bg-color: #E8F0FE;\n",
              "      --fill-color: #1967D2;\n",
              "      --hover-bg-color: #E2EBFA;\n",
              "      --hover-fill-color: #174EA6;\n",
              "      --disabled-fill-color: #AAA;\n",
              "      --disabled-bg-color: #DDD;\n",
              "  }\n",
              "\n",
              "  [theme=dark] .colab-df-quickchart {\n",
              "      --bg-color: #3B4455;\n",
              "      --fill-color: #D2E3FC;\n",
              "      --hover-bg-color: #434B5C;\n",
              "      --hover-fill-color: #FFFFFF;\n",
              "      --disabled-bg-color: #3B4455;\n",
              "      --disabled-fill-color: #666;\n",
              "  }\n",
              "\n",
              "  .colab-df-quickchart {\n",
              "    background-color: var(--bg-color);\n",
              "    border: none;\n",
              "    border-radius: 50%;\n",
              "    cursor: pointer;\n",
              "    display: none;\n",
              "    fill: var(--fill-color);\n",
              "    height: 32px;\n",
              "    padding: 0;\n",
              "    width: 32px;\n",
              "  }\n",
              "\n",
              "  .colab-df-quickchart:hover {\n",
              "    background-color: var(--hover-bg-color);\n",
              "    box-shadow: 0 1px 2px rgba(60, 64, 67, 0.3), 0 1px 3px 1px rgba(60, 64, 67, 0.15);\n",
              "    fill: var(--button-hover-fill-color);\n",
              "  }\n",
              "\n",
              "  .colab-df-quickchart-complete:disabled,\n",
              "  .colab-df-quickchart-complete:disabled:hover {\n",
              "    background-color: var(--disabled-bg-color);\n",
              "    fill: var(--disabled-fill-color);\n",
              "    box-shadow: none;\n",
              "  }\n",
              "\n",
              "  .colab-df-spinner {\n",
              "    border: 2px solid var(--fill-color);\n",
              "    border-color: transparent;\n",
              "    border-bottom-color: var(--fill-color);\n",
              "    animation:\n",
              "      spin 1s steps(1) infinite;\n",
              "  }\n",
              "\n",
              "  @keyframes spin {\n",
              "    0% {\n",
              "      border-color: transparent;\n",
              "      border-bottom-color: var(--fill-color);\n",
              "      border-left-color: var(--fill-color);\n",
              "    }\n",
              "    20% {\n",
              "      border-color: transparent;\n",
              "      border-left-color: var(--fill-color);\n",
              "      border-top-color: var(--fill-color);\n",
              "    }\n",
              "    30% {\n",
              "      border-color: transparent;\n",
              "      border-left-color: var(--fill-color);\n",
              "      border-top-color: var(--fill-color);\n",
              "      border-right-color: var(--fill-color);\n",
              "    }\n",
              "    40% {\n",
              "      border-color: transparent;\n",
              "      border-right-color: var(--fill-color);\n",
              "      border-top-color: var(--fill-color);\n",
              "    }\n",
              "    60% {\n",
              "      border-color: transparent;\n",
              "      border-right-color: var(--fill-color);\n",
              "    }\n",
              "    80% {\n",
              "      border-color: transparent;\n",
              "      border-right-color: var(--fill-color);\n",
              "      border-bottom-color: var(--fill-color);\n",
              "    }\n",
              "    90% {\n",
              "      border-color: transparent;\n",
              "      border-bottom-color: var(--fill-color);\n",
              "    }\n",
              "  }\n",
              "</style>\n",
              "\n",
              "  <script>\n",
              "    async function quickchart(key) {\n",
              "      const quickchartButtonEl =\n",
              "        document.querySelector('#' + key + ' button');\n",
              "      quickchartButtonEl.disabled = true;  // To prevent multiple clicks.\n",
              "      quickchartButtonEl.classList.add('colab-df-spinner');\n",
              "      try {\n",
              "        const charts = await google.colab.kernel.invokeFunction(\n",
              "            'suggestCharts', [key], {});\n",
              "      } catch (error) {\n",
              "        console.error('Error during call to suggestCharts:', error);\n",
              "      }\n",
              "      quickchartButtonEl.classList.remove('colab-df-spinner');\n",
              "      quickchartButtonEl.classList.add('colab-df-quickchart-complete');\n",
              "    }\n",
              "    (() => {\n",
              "      let quickchartButtonEl =\n",
              "        document.querySelector('#df-2447b140-5237-4325-8a3c-2169419fe915 button');\n",
              "      quickchartButtonEl.style.display =\n",
              "        google.colab.kernel.accessAllowed ? 'block' : 'none';\n",
              "    })();\n",
              "  </script>\n",
              "</div>\n",
              "    </div>\n",
              "  </div>\n"
            ]
          },
          "metadata": {},
          "execution_count": 14
        }
      ],
      "source": [
        "df[\"tweet\"]=np.vectorize(remove_pattern)(df[\"tweet\"], \"@[\\w]*\")\n",
        "df"
      ]
    },
    {
      "cell_type": "markdown",
      "metadata": {
        "id": "2jviJ4ol38ta"
      },
      "source": [
        "From the above function we remove the tweeter handels (@user) from tweet feature of the data set"
      ]
    },
    {
      "cell_type": "markdown",
      "metadata": {
        "id": "StrUhtqCOpSn"
      },
      "source": [
        "**3. Punctuation Removal from tweet feature**"
      ]
    },
    {
      "cell_type": "code",
      "execution_count": null,
      "metadata": {
        "colab": {
          "base_uri": "https://localhost:8080/"
        },
        "id": "V5Zca1T0TZx8",
        "outputId": "138ff6da-5cf6-446c-ac02-4586cae4de92"
      },
      "outputs": [
        {
          "output_type": "stream",
          "name": "stderr",
          "text": [
            "<ipython-input-15-f0775bccaf37>:1: FutureWarning: The default value of regex will change from True to False in a future version.\n",
            "  df['tweet'] = df['tweet'].str.replace(\"[^a-zA-Z#]\", \" \")\n"
          ]
        }
      ],
      "source": [
        "df['tweet'] = df['tweet'].str.replace(\"[^a-zA-Z#]\", \" \")"
      ]
    },
    {
      "cell_type": "code",
      "execution_count": null,
      "metadata": {
        "colab": {
          "base_uri": "https://localhost:8080/",
          "height": 423
        },
        "id": "fEZbpiioTKcJ",
        "outputId": "d6adc3fc-5d4f-4f45-c998-10b9a83a61f6"
      },
      "outputs": [
        {
          "output_type": "execute_result",
          "data": {
            "text/plain": [
              "          id  label  \\\n",
              "0          1    0.0   \n",
              "1          2    0.0   \n",
              "2          3    0.0   \n",
              "3          4    0.0   \n",
              "4          5    0.0   \n",
              "...      ...    ...   \n",
              "49154  49155    NaN   \n",
              "49155  49156    NaN   \n",
              "49156  49157    NaN   \n",
              "49157  49158    NaN   \n",
              "49158  49159    NaN   \n",
              "\n",
              "                                                                                                                                                tweet  \n",
              "0                                                       when a father is dysfunctional and is so selfish he drags his kids into his dysfunction  #run  \n",
              "1                                         thanks for #lyft credit i can t use cause they don t offer wheelchair vans in pdx  #disapointed #getthanked  \n",
              "2                                                                                                                                 bihday your majesty  \n",
              "3                                                                  #model i love u take with u all the time in ur                                      \n",
              "4                                                                                                                 factsguide  society now #motivation  \n",
              "...                                                                                                                                               ...  \n",
              "49154                                      thought factory  left right polarisation  #trump #uselections     #leadership #politics #brexit #blm  gt    \n",
              "49155                                                  feeling like a mermaid      #hairflip #neverready #formal #wedding #gown #dresses #mermaid      \n",
              "49156  #hillary #campaigned today in #ohio  omg    amp  used words like  assets amp liability  never once did #clinton say thee word  #radicalization  \n",
              "49157                                           happy  at work conference  right mindset leads to culture of development organizations #work #mindset  \n",
              "49158                                                                                   my song  so glad  free download  #shoegaze #newmusic #newsong  \n",
              "\n",
              "[49159 rows x 3 columns]"
            ],
            "text/html": [
              "\n",
              "  <div id=\"df-9818d2d0-54d7-42ce-be4b-ca8ffc2cde41\" class=\"colab-df-container\">\n",
              "    <div>\n",
              "<style scoped>\n",
              "    .dataframe tbody tr th:only-of-type {\n",
              "        vertical-align: middle;\n",
              "    }\n",
              "\n",
              "    .dataframe tbody tr th {\n",
              "        vertical-align: top;\n",
              "    }\n",
              "\n",
              "    .dataframe thead th {\n",
              "        text-align: right;\n",
              "    }\n",
              "</style>\n",
              "<table border=\"1\" class=\"dataframe\">\n",
              "  <thead>\n",
              "    <tr style=\"text-align: right;\">\n",
              "      <th></th>\n",
              "      <th>id</th>\n",
              "      <th>label</th>\n",
              "      <th>tweet</th>\n",
              "    </tr>\n",
              "  </thead>\n",
              "  <tbody>\n",
              "    <tr>\n",
              "      <th>0</th>\n",
              "      <td>1</td>\n",
              "      <td>0.0</td>\n",
              "      <td>when a father is dysfunctional and is so selfish he drags his kids into his dysfunction  #run</td>\n",
              "    </tr>\n",
              "    <tr>\n",
              "      <th>1</th>\n",
              "      <td>2</td>\n",
              "      <td>0.0</td>\n",
              "      <td>thanks for #lyft credit i can t use cause they don t offer wheelchair vans in pdx  #disapointed #getthanked</td>\n",
              "    </tr>\n",
              "    <tr>\n",
              "      <th>2</th>\n",
              "      <td>3</td>\n",
              "      <td>0.0</td>\n",
              "      <td>bihday your majesty</td>\n",
              "    </tr>\n",
              "    <tr>\n",
              "      <th>3</th>\n",
              "      <td>4</td>\n",
              "      <td>0.0</td>\n",
              "      <td>#model i love u take with u all the time in ur</td>\n",
              "    </tr>\n",
              "    <tr>\n",
              "      <th>4</th>\n",
              "      <td>5</td>\n",
              "      <td>0.0</td>\n",
              "      <td>factsguide  society now #motivation</td>\n",
              "    </tr>\n",
              "    <tr>\n",
              "      <th>...</th>\n",
              "      <td>...</td>\n",
              "      <td>...</td>\n",
              "      <td>...</td>\n",
              "    </tr>\n",
              "    <tr>\n",
              "      <th>49154</th>\n",
              "      <td>49155</td>\n",
              "      <td>NaN</td>\n",
              "      <td>thought factory  left right polarisation  #trump #uselections     #leadership #politics #brexit #blm  gt</td>\n",
              "    </tr>\n",
              "    <tr>\n",
              "      <th>49155</th>\n",
              "      <td>49156</td>\n",
              "      <td>NaN</td>\n",
              "      <td>feeling like a mermaid      #hairflip #neverready #formal #wedding #gown #dresses #mermaid</td>\n",
              "    </tr>\n",
              "    <tr>\n",
              "      <th>49156</th>\n",
              "      <td>49157</td>\n",
              "      <td>NaN</td>\n",
              "      <td>#hillary #campaigned today in #ohio  omg    amp  used words like  assets amp liability  never once did #clinton say thee word  #radicalization</td>\n",
              "    </tr>\n",
              "    <tr>\n",
              "      <th>49157</th>\n",
              "      <td>49158</td>\n",
              "      <td>NaN</td>\n",
              "      <td>happy  at work conference  right mindset leads to culture of development organizations #work #mindset</td>\n",
              "    </tr>\n",
              "    <tr>\n",
              "      <th>49158</th>\n",
              "      <td>49159</td>\n",
              "      <td>NaN</td>\n",
              "      <td>my song  so glad  free download  #shoegaze #newmusic #newsong</td>\n",
              "    </tr>\n",
              "  </tbody>\n",
              "</table>\n",
              "<p>49159 rows × 3 columns</p>\n",
              "</div>\n",
              "    <div class=\"colab-df-buttons\">\n",
              "\n",
              "  <div class=\"colab-df-container\">\n",
              "    <button class=\"colab-df-convert\" onclick=\"convertToInteractive('df-9818d2d0-54d7-42ce-be4b-ca8ffc2cde41')\"\n",
              "            title=\"Convert this dataframe to an interactive table.\"\n",
              "            style=\"display:none;\">\n",
              "\n",
              "  <svg xmlns=\"http://www.w3.org/2000/svg\" height=\"24px\" viewBox=\"0 -960 960 960\">\n",
              "    <path d=\"M120-120v-720h720v720H120Zm60-500h600v-160H180v160Zm220 220h160v-160H400v160Zm0 220h160v-160H400v160ZM180-400h160v-160H180v160Zm440 0h160v-160H620v160ZM180-180h160v-160H180v160Zm440 0h160v-160H620v160Z\"/>\n",
              "  </svg>\n",
              "    </button>\n",
              "\n",
              "  <style>\n",
              "    .colab-df-container {\n",
              "      display:flex;\n",
              "      gap: 12px;\n",
              "    }\n",
              "\n",
              "    .colab-df-convert {\n",
              "      background-color: #E8F0FE;\n",
              "      border: none;\n",
              "      border-radius: 50%;\n",
              "      cursor: pointer;\n",
              "      display: none;\n",
              "      fill: #1967D2;\n",
              "      height: 32px;\n",
              "      padding: 0 0 0 0;\n",
              "      width: 32px;\n",
              "    }\n",
              "\n",
              "    .colab-df-convert:hover {\n",
              "      background-color: #E2EBFA;\n",
              "      box-shadow: 0px 1px 2px rgba(60, 64, 67, 0.3), 0px 1px 3px 1px rgba(60, 64, 67, 0.15);\n",
              "      fill: #174EA6;\n",
              "    }\n",
              "\n",
              "    .colab-df-buttons div {\n",
              "      margin-bottom: 4px;\n",
              "    }\n",
              "\n",
              "    [theme=dark] .colab-df-convert {\n",
              "      background-color: #3B4455;\n",
              "      fill: #D2E3FC;\n",
              "    }\n",
              "\n",
              "    [theme=dark] .colab-df-convert:hover {\n",
              "      background-color: #434B5C;\n",
              "      box-shadow: 0px 1px 3px 1px rgba(0, 0, 0, 0.15);\n",
              "      filter: drop-shadow(0px 1px 2px rgba(0, 0, 0, 0.3));\n",
              "      fill: #FFFFFF;\n",
              "    }\n",
              "  </style>\n",
              "\n",
              "    <script>\n",
              "      const buttonEl =\n",
              "        document.querySelector('#df-9818d2d0-54d7-42ce-be4b-ca8ffc2cde41 button.colab-df-convert');\n",
              "      buttonEl.style.display =\n",
              "        google.colab.kernel.accessAllowed ? 'block' : 'none';\n",
              "\n",
              "      async function convertToInteractive(key) {\n",
              "        const element = document.querySelector('#df-9818d2d0-54d7-42ce-be4b-ca8ffc2cde41');\n",
              "        const dataTable =\n",
              "          await google.colab.kernel.invokeFunction('convertToInteractive',\n",
              "                                                    [key], {});\n",
              "        if (!dataTable) return;\n",
              "\n",
              "        const docLinkHtml = 'Like what you see? Visit the ' +\n",
              "          '<a target=\"_blank\" href=https://colab.research.google.com/notebooks/data_table.ipynb>data table notebook</a>'\n",
              "          + ' to learn more about interactive tables.';\n",
              "        element.innerHTML = '';\n",
              "        dataTable['output_type'] = 'display_data';\n",
              "        await google.colab.output.renderOutput(dataTable, element);\n",
              "        const docLink = document.createElement('div');\n",
              "        docLink.innerHTML = docLinkHtml;\n",
              "        element.appendChild(docLink);\n",
              "      }\n",
              "    </script>\n",
              "  </div>\n",
              "\n",
              "\n",
              "<div id=\"df-45327d82-8c4e-4bdc-9b39-29f89458271d\">\n",
              "  <button class=\"colab-df-quickchart\" onclick=\"quickchart('df-45327d82-8c4e-4bdc-9b39-29f89458271d')\"\n",
              "            title=\"Suggest charts.\"\n",
              "            style=\"display:none;\">\n",
              "\n",
              "<svg xmlns=\"http://www.w3.org/2000/svg\" height=\"24px\"viewBox=\"0 0 24 24\"\n",
              "     width=\"24px\">\n",
              "    <g>\n",
              "        <path d=\"M19 3H5c-1.1 0-2 .9-2 2v14c0 1.1.9 2 2 2h14c1.1 0 2-.9 2-2V5c0-1.1-.9-2-2-2zM9 17H7v-7h2v7zm4 0h-2V7h2v10zm4 0h-2v-4h2v4z\"/>\n",
              "    </g>\n",
              "</svg>\n",
              "  </button>\n",
              "\n",
              "<style>\n",
              "  .colab-df-quickchart {\n",
              "      --bg-color: #E8F0FE;\n",
              "      --fill-color: #1967D2;\n",
              "      --hover-bg-color: #E2EBFA;\n",
              "      --hover-fill-color: #174EA6;\n",
              "      --disabled-fill-color: #AAA;\n",
              "      --disabled-bg-color: #DDD;\n",
              "  }\n",
              "\n",
              "  [theme=dark] .colab-df-quickchart {\n",
              "      --bg-color: #3B4455;\n",
              "      --fill-color: #D2E3FC;\n",
              "      --hover-bg-color: #434B5C;\n",
              "      --hover-fill-color: #FFFFFF;\n",
              "      --disabled-bg-color: #3B4455;\n",
              "      --disabled-fill-color: #666;\n",
              "  }\n",
              "\n",
              "  .colab-df-quickchart {\n",
              "    background-color: var(--bg-color);\n",
              "    border: none;\n",
              "    border-radius: 50%;\n",
              "    cursor: pointer;\n",
              "    display: none;\n",
              "    fill: var(--fill-color);\n",
              "    height: 32px;\n",
              "    padding: 0;\n",
              "    width: 32px;\n",
              "  }\n",
              "\n",
              "  .colab-df-quickchart:hover {\n",
              "    background-color: var(--hover-bg-color);\n",
              "    box-shadow: 0 1px 2px rgba(60, 64, 67, 0.3), 0 1px 3px 1px rgba(60, 64, 67, 0.15);\n",
              "    fill: var(--button-hover-fill-color);\n",
              "  }\n",
              "\n",
              "  .colab-df-quickchart-complete:disabled,\n",
              "  .colab-df-quickchart-complete:disabled:hover {\n",
              "    background-color: var(--disabled-bg-color);\n",
              "    fill: var(--disabled-fill-color);\n",
              "    box-shadow: none;\n",
              "  }\n",
              "\n",
              "  .colab-df-spinner {\n",
              "    border: 2px solid var(--fill-color);\n",
              "    border-color: transparent;\n",
              "    border-bottom-color: var(--fill-color);\n",
              "    animation:\n",
              "      spin 1s steps(1) infinite;\n",
              "  }\n",
              "\n",
              "  @keyframes spin {\n",
              "    0% {\n",
              "      border-color: transparent;\n",
              "      border-bottom-color: var(--fill-color);\n",
              "      border-left-color: var(--fill-color);\n",
              "    }\n",
              "    20% {\n",
              "      border-color: transparent;\n",
              "      border-left-color: var(--fill-color);\n",
              "      border-top-color: var(--fill-color);\n",
              "    }\n",
              "    30% {\n",
              "      border-color: transparent;\n",
              "      border-left-color: var(--fill-color);\n",
              "      border-top-color: var(--fill-color);\n",
              "      border-right-color: var(--fill-color);\n",
              "    }\n",
              "    40% {\n",
              "      border-color: transparent;\n",
              "      border-right-color: var(--fill-color);\n",
              "      border-top-color: var(--fill-color);\n",
              "    }\n",
              "    60% {\n",
              "      border-color: transparent;\n",
              "      border-right-color: var(--fill-color);\n",
              "    }\n",
              "    80% {\n",
              "      border-color: transparent;\n",
              "      border-right-color: var(--fill-color);\n",
              "      border-bottom-color: var(--fill-color);\n",
              "    }\n",
              "    90% {\n",
              "      border-color: transparent;\n",
              "      border-bottom-color: var(--fill-color);\n",
              "    }\n",
              "  }\n",
              "</style>\n",
              "\n",
              "  <script>\n",
              "    async function quickchart(key) {\n",
              "      const quickchartButtonEl =\n",
              "        document.querySelector('#' + key + ' button');\n",
              "      quickchartButtonEl.disabled = true;  // To prevent multiple clicks.\n",
              "      quickchartButtonEl.classList.add('colab-df-spinner');\n",
              "      try {\n",
              "        const charts = await google.colab.kernel.invokeFunction(\n",
              "            'suggestCharts', [key], {});\n",
              "      } catch (error) {\n",
              "        console.error('Error during call to suggestCharts:', error);\n",
              "      }\n",
              "      quickchartButtonEl.classList.remove('colab-df-spinner');\n",
              "      quickchartButtonEl.classList.add('colab-df-quickchart-complete');\n",
              "    }\n",
              "    (() => {\n",
              "      let quickchartButtonEl =\n",
              "        document.querySelector('#df-45327d82-8c4e-4bdc-9b39-29f89458271d button');\n",
              "      quickchartButtonEl.style.display =\n",
              "        google.colab.kernel.accessAllowed ? 'block' : 'none';\n",
              "    })();\n",
              "  </script>\n",
              "</div>\n",
              "    </div>\n",
              "  </div>\n"
            ]
          },
          "metadata": {},
          "execution_count": 16
        }
      ],
      "source": [
        "\n",
        "df"
      ]
    },
    {
      "cell_type": "markdown",
      "metadata": {
        "id": "Ar2z2vpl5Af4"
      },
      "source": [
        "By using string Punctuation we remove the All punctuation from the tweet feature of our dataset"
      ]
    },
    {
      "cell_type": "markdown",
      "metadata": {
        "id": "8Ty-gUFKPtd7"
      },
      "source": [
        "**4. Stop Words Removal from dataset**"
      ]
    },
    {
      "cell_type": "code",
      "execution_count": null,
      "metadata": {
        "colab": {
          "base_uri": "https://localhost:8080/"
        },
        "id": "wkQWVWZ4sR8N",
        "outputId": "56e94e8f-d679-46d3-bb44-0a0467817399"
      },
      "outputs": [
        {
          "output_type": "stream",
          "name": "stderr",
          "text": [
            "[nltk_data] Downloading package stopwords to /root/nltk_data...\n",
            "[nltk_data]   Unzipping corpora/stopwords.zip.\n"
          ]
        }
      ],
      "source": [
        "nltk.download('stopwords')\n",
        "from nltk.corpus import stopwords\n",
        "allstopwords = stopwords.words('english')\n",
        "df[\"tweet\"]= df[\"tweet\"].apply(lambda x: \" \".join(i for i in x.split() if i not in allstopwords))"
      ]
    },
    {
      "cell_type": "markdown",
      "metadata": {
        "id": "6HO3em9C5Sr9"
      },
      "source": [
        "In our dataset many stopwords are available so we need remove all stop words and we remove it by downlaoding from nltk library  "
      ]
    },
    {
      "cell_type": "code",
      "execution_count": null,
      "metadata": {
        "id": "gFPxWLB9tdYP"
      },
      "outputs": [],
      "source": [
        "df5 = df.copy()"
      ]
    },
    {
      "cell_type": "markdown",
      "metadata": {
        "id": "RFjMmN0EP1qc"
      },
      "source": [
        "**5.Spelling Correction**"
      ]
    },
    {
      "cell_type": "code",
      "execution_count": null,
      "metadata": {
        "colab": {
          "base_uri": "https://localhost:8080/"
        },
        "id": "aFuW86mftkNm",
        "outputId": "0612a586-7f22-40fd-b5e4-1f82277837f2"
      },
      "outputs": [
        {
          "output_type": "stream",
          "name": "stdout",
          "text": [
            "Requirement already satisfied: textblob in /usr/local/lib/python3.10/dist-packages (0.17.1)\n",
            "Requirement already satisfied: nltk>=3.1 in /usr/local/lib/python3.10/dist-packages (from textblob) (3.8.1)\n",
            "Requirement already satisfied: click in /usr/local/lib/python3.10/dist-packages (from nltk>=3.1->textblob) (8.1.7)\n",
            "Requirement already satisfied: joblib in /usr/local/lib/python3.10/dist-packages (from nltk>=3.1->textblob) (1.3.2)\n",
            "Requirement already satisfied: regex>=2021.8.3 in /usr/local/lib/python3.10/dist-packages (from nltk>=3.1->textblob) (2023.6.3)\n",
            "Requirement already satisfied: tqdm in /usr/local/lib/python3.10/dist-packages (from nltk>=3.1->textblob) (4.66.1)\n"
          ]
        }
      ],
      "source": [
        "\n",
        "#Install textblob library\n",
        "! pip install textblob\n",
        "from textblob import TextBlob"
      ]
    },
    {
      "cell_type": "code",
      "execution_count": null,
      "metadata": {
        "id": "Vrj7fod-QGx0"
      },
      "outputs": [],
      "source": [
        "# df[\"tweet\"] = df[\"tweet\"].apply(lambda x: str(TextBlob(x).correct()))"
      ]
    },
    {
      "cell_type": "markdown",
      "metadata": {
        "id": "a2rEfiZwQSwt"
      },
      "source": [
        "**6. Removing ShortWords from dataframe**"
      ]
    },
    {
      "cell_type": "code",
      "execution_count": null,
      "metadata": {
        "id": "-nOBZkV-QTcJ"
      },
      "outputs": [],
      "source": [
        "#removing short words from tweet\n",
        "df[\"tweet\"] = df[\"tweet\"].apply(lambda x: \" \".join(i for i in x.split()if len(i)>3))"
      ]
    },
    {
      "cell_type": "markdown",
      "metadata": {
        "id": "WV45zjPuQbR_"
      },
      "source": [
        "**7. Lemmatization**"
      ]
    },
    {
      "cell_type": "code",
      "execution_count": null,
      "metadata": {
        "colab": {
          "base_uri": "https://localhost:8080/"
        },
        "id": "koIZNSDNQanK",
        "outputId": "0296cf0f-3b88-4cf5-ca7c-cbea2dcab6ad"
      },
      "outputs": [
        {
          "output_type": "stream",
          "name": "stderr",
          "text": [
            "[nltk_data] Downloading package wordnet to /root/nltk_data...\n",
            "[nltk_data] Downloading package omw-1.4 to /root/nltk_data...\n"
          ]
        },
        {
          "output_type": "execute_result",
          "data": {
            "text/plain": [
              "True"
            ]
          },
          "metadata": {},
          "execution_count": 22
        }
      ],
      "source": [
        "# # Download Wordnet through NLTK in python console:\n",
        "import nltk\n",
        "nltk.download('wordnet')\n",
        "nltk.download('omw-1.4')"
      ]
    },
    {
      "cell_type": "code",
      "execution_count": null,
      "metadata": {
        "id": "dHdePUp-QncB"
      },
      "outputs": [],
      "source": [
        "import nltk\n",
        "from nltk.stem import WordNetLemmatizer\n",
        "\n",
        "# Init the Wordnet Lemmatizer\n",
        "lemmatizer = WordNetLemmatizer()\n",
        "import textblob\n",
        "from textblob import Word\n",
        "df[\"tweet\"]=df[\"tweet\"].apply(lambda x: \",\".join([Word(word).lemmatize() for word in x.split()]))"
      ]
    },
    {
      "cell_type": "code",
      "execution_count": null,
      "metadata": {
        "colab": {
          "base_uri": "https://localhost:8080/",
          "height": 423
        },
        "id": "ltH0KJANZ30X",
        "outputId": "6e4851a1-02fd-4202-8c03-11c1967cf2e0"
      },
      "outputs": [
        {
          "output_type": "execute_result",
          "data": {
            "text/plain": [
              "          id  label  \\\n",
              "0          1    0.0   \n",
              "1          2    0.0   \n",
              "2          3    0.0   \n",
              "3          4    0.0   \n",
              "4          5    0.0   \n",
              "...      ...    ...   \n",
              "49154  49155    NaN   \n",
              "49155  49156    NaN   \n",
              "49156  49157    NaN   \n",
              "49157  49158    NaN   \n",
              "49158  49159    NaN   \n",
              "\n",
              "                                                                                                          tweet  \n",
              "0                                                        father,dysfunctional,selfish,drag,kid,dysfunction,#run  \n",
              "1                                       thanks,#lyft,credit,cause,offer,wheelchair,van,#disapointed,#getthanked  \n",
              "2                                                                                                bihday,majesty  \n",
              "3                                                                                         #model,love,take,time  \n",
              "4                                                                                factsguide,society,#motivation  \n",
              "...                                                                                                         ...  \n",
              "49154            thought,factory,left,right,polarisation,#trump,#uselections,#leadership,#politics,#brexit,#blm  \n",
              "49155                       feeling,like,mermaid,#hairflip,#neverready,#formal,#wedding,#gown,#dresses,#mermaid  \n",
              "49156  #hillary,#campaigned,today,#ohio,used,word,like,asset,liability,never,#clinton,thee,word,#radicalization  \n",
              "49157                  happy,work,conference,right,mindset,lead,culture,development,organization,#work,#mindset  \n",
              "49158                                                      song,glad,free,download,#shoegaze,#newmusic,#newsong  \n",
              "\n",
              "[49159 rows x 3 columns]"
            ],
            "text/html": [
              "\n",
              "  <div id=\"df-3ded6f17-b90d-4433-8648-66f8e7fe6878\" class=\"colab-df-container\">\n",
              "    <div>\n",
              "<style scoped>\n",
              "    .dataframe tbody tr th:only-of-type {\n",
              "        vertical-align: middle;\n",
              "    }\n",
              "\n",
              "    .dataframe tbody tr th {\n",
              "        vertical-align: top;\n",
              "    }\n",
              "\n",
              "    .dataframe thead th {\n",
              "        text-align: right;\n",
              "    }\n",
              "</style>\n",
              "<table border=\"1\" class=\"dataframe\">\n",
              "  <thead>\n",
              "    <tr style=\"text-align: right;\">\n",
              "      <th></th>\n",
              "      <th>id</th>\n",
              "      <th>label</th>\n",
              "      <th>tweet</th>\n",
              "    </tr>\n",
              "  </thead>\n",
              "  <tbody>\n",
              "    <tr>\n",
              "      <th>0</th>\n",
              "      <td>1</td>\n",
              "      <td>0.0</td>\n",
              "      <td>father,dysfunctional,selfish,drag,kid,dysfunction,#run</td>\n",
              "    </tr>\n",
              "    <tr>\n",
              "      <th>1</th>\n",
              "      <td>2</td>\n",
              "      <td>0.0</td>\n",
              "      <td>thanks,#lyft,credit,cause,offer,wheelchair,van,#disapointed,#getthanked</td>\n",
              "    </tr>\n",
              "    <tr>\n",
              "      <th>2</th>\n",
              "      <td>3</td>\n",
              "      <td>0.0</td>\n",
              "      <td>bihday,majesty</td>\n",
              "    </tr>\n",
              "    <tr>\n",
              "      <th>3</th>\n",
              "      <td>4</td>\n",
              "      <td>0.0</td>\n",
              "      <td>#model,love,take,time</td>\n",
              "    </tr>\n",
              "    <tr>\n",
              "      <th>4</th>\n",
              "      <td>5</td>\n",
              "      <td>0.0</td>\n",
              "      <td>factsguide,society,#motivation</td>\n",
              "    </tr>\n",
              "    <tr>\n",
              "      <th>...</th>\n",
              "      <td>...</td>\n",
              "      <td>...</td>\n",
              "      <td>...</td>\n",
              "    </tr>\n",
              "    <tr>\n",
              "      <th>49154</th>\n",
              "      <td>49155</td>\n",
              "      <td>NaN</td>\n",
              "      <td>thought,factory,left,right,polarisation,#trump,#uselections,#leadership,#politics,#brexit,#blm</td>\n",
              "    </tr>\n",
              "    <tr>\n",
              "      <th>49155</th>\n",
              "      <td>49156</td>\n",
              "      <td>NaN</td>\n",
              "      <td>feeling,like,mermaid,#hairflip,#neverready,#formal,#wedding,#gown,#dresses,#mermaid</td>\n",
              "    </tr>\n",
              "    <tr>\n",
              "      <th>49156</th>\n",
              "      <td>49157</td>\n",
              "      <td>NaN</td>\n",
              "      <td>#hillary,#campaigned,today,#ohio,used,word,like,asset,liability,never,#clinton,thee,word,#radicalization</td>\n",
              "    </tr>\n",
              "    <tr>\n",
              "      <th>49157</th>\n",
              "      <td>49158</td>\n",
              "      <td>NaN</td>\n",
              "      <td>happy,work,conference,right,mindset,lead,culture,development,organization,#work,#mindset</td>\n",
              "    </tr>\n",
              "    <tr>\n",
              "      <th>49158</th>\n",
              "      <td>49159</td>\n",
              "      <td>NaN</td>\n",
              "      <td>song,glad,free,download,#shoegaze,#newmusic,#newsong</td>\n",
              "    </tr>\n",
              "  </tbody>\n",
              "</table>\n",
              "<p>49159 rows × 3 columns</p>\n",
              "</div>\n",
              "    <div class=\"colab-df-buttons\">\n",
              "\n",
              "  <div class=\"colab-df-container\">\n",
              "    <button class=\"colab-df-convert\" onclick=\"convertToInteractive('df-3ded6f17-b90d-4433-8648-66f8e7fe6878')\"\n",
              "            title=\"Convert this dataframe to an interactive table.\"\n",
              "            style=\"display:none;\">\n",
              "\n",
              "  <svg xmlns=\"http://www.w3.org/2000/svg\" height=\"24px\" viewBox=\"0 -960 960 960\">\n",
              "    <path d=\"M120-120v-720h720v720H120Zm60-500h600v-160H180v160Zm220 220h160v-160H400v160Zm0 220h160v-160H400v160ZM180-400h160v-160H180v160Zm440 0h160v-160H620v160ZM180-180h160v-160H180v160Zm440 0h160v-160H620v160Z\"/>\n",
              "  </svg>\n",
              "    </button>\n",
              "\n",
              "  <style>\n",
              "    .colab-df-container {\n",
              "      display:flex;\n",
              "      gap: 12px;\n",
              "    }\n",
              "\n",
              "    .colab-df-convert {\n",
              "      background-color: #E8F0FE;\n",
              "      border: none;\n",
              "      border-radius: 50%;\n",
              "      cursor: pointer;\n",
              "      display: none;\n",
              "      fill: #1967D2;\n",
              "      height: 32px;\n",
              "      padding: 0 0 0 0;\n",
              "      width: 32px;\n",
              "    }\n",
              "\n",
              "    .colab-df-convert:hover {\n",
              "      background-color: #E2EBFA;\n",
              "      box-shadow: 0px 1px 2px rgba(60, 64, 67, 0.3), 0px 1px 3px 1px rgba(60, 64, 67, 0.15);\n",
              "      fill: #174EA6;\n",
              "    }\n",
              "\n",
              "    .colab-df-buttons div {\n",
              "      margin-bottom: 4px;\n",
              "    }\n",
              "\n",
              "    [theme=dark] .colab-df-convert {\n",
              "      background-color: #3B4455;\n",
              "      fill: #D2E3FC;\n",
              "    }\n",
              "\n",
              "    [theme=dark] .colab-df-convert:hover {\n",
              "      background-color: #434B5C;\n",
              "      box-shadow: 0px 1px 3px 1px rgba(0, 0, 0, 0.15);\n",
              "      filter: drop-shadow(0px 1px 2px rgba(0, 0, 0, 0.3));\n",
              "      fill: #FFFFFF;\n",
              "    }\n",
              "  </style>\n",
              "\n",
              "    <script>\n",
              "      const buttonEl =\n",
              "        document.querySelector('#df-3ded6f17-b90d-4433-8648-66f8e7fe6878 button.colab-df-convert');\n",
              "      buttonEl.style.display =\n",
              "        google.colab.kernel.accessAllowed ? 'block' : 'none';\n",
              "\n",
              "      async function convertToInteractive(key) {\n",
              "        const element = document.querySelector('#df-3ded6f17-b90d-4433-8648-66f8e7fe6878');\n",
              "        const dataTable =\n",
              "          await google.colab.kernel.invokeFunction('convertToInteractive',\n",
              "                                                    [key], {});\n",
              "        if (!dataTable) return;\n",
              "\n",
              "        const docLinkHtml = 'Like what you see? Visit the ' +\n",
              "          '<a target=\"_blank\" href=https://colab.research.google.com/notebooks/data_table.ipynb>data table notebook</a>'\n",
              "          + ' to learn more about interactive tables.';\n",
              "        element.innerHTML = '';\n",
              "        dataTable['output_type'] = 'display_data';\n",
              "        await google.colab.output.renderOutput(dataTable, element);\n",
              "        const docLink = document.createElement('div');\n",
              "        docLink.innerHTML = docLinkHtml;\n",
              "        element.appendChild(docLink);\n",
              "      }\n",
              "    </script>\n",
              "  </div>\n",
              "\n",
              "\n",
              "<div id=\"df-08aea0ab-f453-4b54-b8f8-9fa8ce0d31fd\">\n",
              "  <button class=\"colab-df-quickchart\" onclick=\"quickchart('df-08aea0ab-f453-4b54-b8f8-9fa8ce0d31fd')\"\n",
              "            title=\"Suggest charts.\"\n",
              "            style=\"display:none;\">\n",
              "\n",
              "<svg xmlns=\"http://www.w3.org/2000/svg\" height=\"24px\"viewBox=\"0 0 24 24\"\n",
              "     width=\"24px\">\n",
              "    <g>\n",
              "        <path d=\"M19 3H5c-1.1 0-2 .9-2 2v14c0 1.1.9 2 2 2h14c1.1 0 2-.9 2-2V5c0-1.1-.9-2-2-2zM9 17H7v-7h2v7zm4 0h-2V7h2v10zm4 0h-2v-4h2v4z\"/>\n",
              "    </g>\n",
              "</svg>\n",
              "  </button>\n",
              "\n",
              "<style>\n",
              "  .colab-df-quickchart {\n",
              "      --bg-color: #E8F0FE;\n",
              "      --fill-color: #1967D2;\n",
              "      --hover-bg-color: #E2EBFA;\n",
              "      --hover-fill-color: #174EA6;\n",
              "      --disabled-fill-color: #AAA;\n",
              "      --disabled-bg-color: #DDD;\n",
              "  }\n",
              "\n",
              "  [theme=dark] .colab-df-quickchart {\n",
              "      --bg-color: #3B4455;\n",
              "      --fill-color: #D2E3FC;\n",
              "      --hover-bg-color: #434B5C;\n",
              "      --hover-fill-color: #FFFFFF;\n",
              "      --disabled-bg-color: #3B4455;\n",
              "      --disabled-fill-color: #666;\n",
              "  }\n",
              "\n",
              "  .colab-df-quickchart {\n",
              "    background-color: var(--bg-color);\n",
              "    border: none;\n",
              "    border-radius: 50%;\n",
              "    cursor: pointer;\n",
              "    display: none;\n",
              "    fill: var(--fill-color);\n",
              "    height: 32px;\n",
              "    padding: 0;\n",
              "    width: 32px;\n",
              "  }\n",
              "\n",
              "  .colab-df-quickchart:hover {\n",
              "    background-color: var(--hover-bg-color);\n",
              "    box-shadow: 0 1px 2px rgba(60, 64, 67, 0.3), 0 1px 3px 1px rgba(60, 64, 67, 0.15);\n",
              "    fill: var(--button-hover-fill-color);\n",
              "  }\n",
              "\n",
              "  .colab-df-quickchart-complete:disabled,\n",
              "  .colab-df-quickchart-complete:disabled:hover {\n",
              "    background-color: var(--disabled-bg-color);\n",
              "    fill: var(--disabled-fill-color);\n",
              "    box-shadow: none;\n",
              "  }\n",
              "\n",
              "  .colab-df-spinner {\n",
              "    border: 2px solid var(--fill-color);\n",
              "    border-color: transparent;\n",
              "    border-bottom-color: var(--fill-color);\n",
              "    animation:\n",
              "      spin 1s steps(1) infinite;\n",
              "  }\n",
              "\n",
              "  @keyframes spin {\n",
              "    0% {\n",
              "      border-color: transparent;\n",
              "      border-bottom-color: var(--fill-color);\n",
              "      border-left-color: var(--fill-color);\n",
              "    }\n",
              "    20% {\n",
              "      border-color: transparent;\n",
              "      border-left-color: var(--fill-color);\n",
              "      border-top-color: var(--fill-color);\n",
              "    }\n",
              "    30% {\n",
              "      border-color: transparent;\n",
              "      border-left-color: var(--fill-color);\n",
              "      border-top-color: var(--fill-color);\n",
              "      border-right-color: var(--fill-color);\n",
              "    }\n",
              "    40% {\n",
              "      border-color: transparent;\n",
              "      border-right-color: var(--fill-color);\n",
              "      border-top-color: var(--fill-color);\n",
              "    }\n",
              "    60% {\n",
              "      border-color: transparent;\n",
              "      border-right-color: var(--fill-color);\n",
              "    }\n",
              "    80% {\n",
              "      border-color: transparent;\n",
              "      border-right-color: var(--fill-color);\n",
              "      border-bottom-color: var(--fill-color);\n",
              "    }\n",
              "    90% {\n",
              "      border-color: transparent;\n",
              "      border-bottom-color: var(--fill-color);\n",
              "    }\n",
              "  }\n",
              "</style>\n",
              "\n",
              "  <script>\n",
              "    async function quickchart(key) {\n",
              "      const quickchartButtonEl =\n",
              "        document.querySelector('#' + key + ' button');\n",
              "      quickchartButtonEl.disabled = true;  // To prevent multiple clicks.\n",
              "      quickchartButtonEl.classList.add('colab-df-spinner');\n",
              "      try {\n",
              "        const charts = await google.colab.kernel.invokeFunction(\n",
              "            'suggestCharts', [key], {});\n",
              "      } catch (error) {\n",
              "        console.error('Error during call to suggestCharts:', error);\n",
              "      }\n",
              "      quickchartButtonEl.classList.remove('colab-df-spinner');\n",
              "      quickchartButtonEl.classList.add('colab-df-quickchart-complete');\n",
              "    }\n",
              "    (() => {\n",
              "      let quickchartButtonEl =\n",
              "        document.querySelector('#df-08aea0ab-f453-4b54-b8f8-9fa8ce0d31fd button');\n",
              "      quickchartButtonEl.style.display =\n",
              "        google.colab.kernel.accessAllowed ? 'block' : 'none';\n",
              "    })();\n",
              "  </script>\n",
              "</div>\n",
              "    </div>\n",
              "  </div>\n"
            ]
          },
          "metadata": {},
          "execution_count": 24
        }
      ],
      "source": [
        "df"
      ]
    },
    {
      "cell_type": "markdown",
      "metadata": {
        "id": "p7vhdCMCQtkq"
      },
      "source": [
        "**8. Tokenization on dataset**"
      ]
    },
    {
      "cell_type": "code",
      "execution_count": null,
      "metadata": {
        "colab": {
          "base_uri": "https://localhost:8080/",
          "height": 206
        },
        "id": "Az2FXkbAbEtj",
        "outputId": "ed2abbb3-66c4-4efd-dcaa-0d1aa7d661e4"
      },
      "outputs": [
        {
          "output_type": "execute_result",
          "data": {
            "text/plain": [
              "   id  label  \\\n",
              "0   1    0.0   \n",
              "1   2    0.0   \n",
              "2   3    0.0   \n",
              "3   4    0.0   \n",
              "4   5    0.0   \n",
              "\n",
              "                                                                       tweet  \n",
              "0                   [father,dysfunctional,selfish,drag,kid,dysfunction,#run]  \n",
              "1  [thanks,#lyft,credit,cause,offer,wheelchair,van,#disapointed,#getthanked]  \n",
              "2                                                           [bihday,majesty]  \n",
              "3                                                    [#model,love,take,time]  \n",
              "4                                           [factsguide,society,#motivation]  "
            ],
            "text/html": [
              "\n",
              "  <div id=\"df-64326c51-24cd-4c94-80a5-b682b2272970\" class=\"colab-df-container\">\n",
              "    <div>\n",
              "<style scoped>\n",
              "    .dataframe tbody tr th:only-of-type {\n",
              "        vertical-align: middle;\n",
              "    }\n",
              "\n",
              "    .dataframe tbody tr th {\n",
              "        vertical-align: top;\n",
              "    }\n",
              "\n",
              "    .dataframe thead th {\n",
              "        text-align: right;\n",
              "    }\n",
              "</style>\n",
              "<table border=\"1\" class=\"dataframe\">\n",
              "  <thead>\n",
              "    <tr style=\"text-align: right;\">\n",
              "      <th></th>\n",
              "      <th>id</th>\n",
              "      <th>label</th>\n",
              "      <th>tweet</th>\n",
              "    </tr>\n",
              "  </thead>\n",
              "  <tbody>\n",
              "    <tr>\n",
              "      <th>0</th>\n",
              "      <td>1</td>\n",
              "      <td>0.0</td>\n",
              "      <td>[father,dysfunctional,selfish,drag,kid,dysfunction,#run]</td>\n",
              "    </tr>\n",
              "    <tr>\n",
              "      <th>1</th>\n",
              "      <td>2</td>\n",
              "      <td>0.0</td>\n",
              "      <td>[thanks,#lyft,credit,cause,offer,wheelchair,van,#disapointed,#getthanked]</td>\n",
              "    </tr>\n",
              "    <tr>\n",
              "      <th>2</th>\n",
              "      <td>3</td>\n",
              "      <td>0.0</td>\n",
              "      <td>[bihday,majesty]</td>\n",
              "    </tr>\n",
              "    <tr>\n",
              "      <th>3</th>\n",
              "      <td>4</td>\n",
              "      <td>0.0</td>\n",
              "      <td>[#model,love,take,time]</td>\n",
              "    </tr>\n",
              "    <tr>\n",
              "      <th>4</th>\n",
              "      <td>5</td>\n",
              "      <td>0.0</td>\n",
              "      <td>[factsguide,society,#motivation]</td>\n",
              "    </tr>\n",
              "  </tbody>\n",
              "</table>\n",
              "</div>\n",
              "    <div class=\"colab-df-buttons\">\n",
              "\n",
              "  <div class=\"colab-df-container\">\n",
              "    <button class=\"colab-df-convert\" onclick=\"convertToInteractive('df-64326c51-24cd-4c94-80a5-b682b2272970')\"\n",
              "            title=\"Convert this dataframe to an interactive table.\"\n",
              "            style=\"display:none;\">\n",
              "\n",
              "  <svg xmlns=\"http://www.w3.org/2000/svg\" height=\"24px\" viewBox=\"0 -960 960 960\">\n",
              "    <path d=\"M120-120v-720h720v720H120Zm60-500h600v-160H180v160Zm220 220h160v-160H400v160Zm0 220h160v-160H400v160ZM180-400h160v-160H180v160Zm440 0h160v-160H620v160ZM180-180h160v-160H180v160Zm440 0h160v-160H620v160Z\"/>\n",
              "  </svg>\n",
              "    </button>\n",
              "\n",
              "  <style>\n",
              "    .colab-df-container {\n",
              "      display:flex;\n",
              "      gap: 12px;\n",
              "    }\n",
              "\n",
              "    .colab-df-convert {\n",
              "      background-color: #E8F0FE;\n",
              "      border: none;\n",
              "      border-radius: 50%;\n",
              "      cursor: pointer;\n",
              "      display: none;\n",
              "      fill: #1967D2;\n",
              "      height: 32px;\n",
              "      padding: 0 0 0 0;\n",
              "      width: 32px;\n",
              "    }\n",
              "\n",
              "    .colab-df-convert:hover {\n",
              "      background-color: #E2EBFA;\n",
              "      box-shadow: 0px 1px 2px rgba(60, 64, 67, 0.3), 0px 1px 3px 1px rgba(60, 64, 67, 0.15);\n",
              "      fill: #174EA6;\n",
              "    }\n",
              "\n",
              "    .colab-df-buttons div {\n",
              "      margin-bottom: 4px;\n",
              "    }\n",
              "\n",
              "    [theme=dark] .colab-df-convert {\n",
              "      background-color: #3B4455;\n",
              "      fill: #D2E3FC;\n",
              "    }\n",
              "\n",
              "    [theme=dark] .colab-df-convert:hover {\n",
              "      background-color: #434B5C;\n",
              "      box-shadow: 0px 1px 3px 1px rgba(0, 0, 0, 0.15);\n",
              "      filter: drop-shadow(0px 1px 2px rgba(0, 0, 0, 0.3));\n",
              "      fill: #FFFFFF;\n",
              "    }\n",
              "  </style>\n",
              "\n",
              "    <script>\n",
              "      const buttonEl =\n",
              "        document.querySelector('#df-64326c51-24cd-4c94-80a5-b682b2272970 button.colab-df-convert');\n",
              "      buttonEl.style.display =\n",
              "        google.colab.kernel.accessAllowed ? 'block' : 'none';\n",
              "\n",
              "      async function convertToInteractive(key) {\n",
              "        const element = document.querySelector('#df-64326c51-24cd-4c94-80a5-b682b2272970');\n",
              "        const dataTable =\n",
              "          await google.colab.kernel.invokeFunction('convertToInteractive',\n",
              "                                                    [key], {});\n",
              "        if (!dataTable) return;\n",
              "\n",
              "        const docLinkHtml = 'Like what you see? Visit the ' +\n",
              "          '<a target=\"_blank\" href=https://colab.research.google.com/notebooks/data_table.ipynb>data table notebook</a>'\n",
              "          + ' to learn more about interactive tables.';\n",
              "        element.innerHTML = '';\n",
              "        dataTable['output_type'] = 'display_data';\n",
              "        await google.colab.output.renderOutput(dataTable, element);\n",
              "        const docLink = document.createElement('div');\n",
              "        docLink.innerHTML = docLinkHtml;\n",
              "        element.appendChild(docLink);\n",
              "      }\n",
              "    </script>\n",
              "  </div>\n",
              "\n",
              "\n",
              "<div id=\"df-095c4394-d4f4-4303-887a-182e894d0634\">\n",
              "  <button class=\"colab-df-quickchart\" onclick=\"quickchart('df-095c4394-d4f4-4303-887a-182e894d0634')\"\n",
              "            title=\"Suggest charts.\"\n",
              "            style=\"display:none;\">\n",
              "\n",
              "<svg xmlns=\"http://www.w3.org/2000/svg\" height=\"24px\"viewBox=\"0 0 24 24\"\n",
              "     width=\"24px\">\n",
              "    <g>\n",
              "        <path d=\"M19 3H5c-1.1 0-2 .9-2 2v14c0 1.1.9 2 2 2h14c1.1 0 2-.9 2-2V5c0-1.1-.9-2-2-2zM9 17H7v-7h2v7zm4 0h-2V7h2v10zm4 0h-2v-4h2v4z\"/>\n",
              "    </g>\n",
              "</svg>\n",
              "  </button>\n",
              "\n",
              "<style>\n",
              "  .colab-df-quickchart {\n",
              "      --bg-color: #E8F0FE;\n",
              "      --fill-color: #1967D2;\n",
              "      --hover-bg-color: #E2EBFA;\n",
              "      --hover-fill-color: #174EA6;\n",
              "      --disabled-fill-color: #AAA;\n",
              "      --disabled-bg-color: #DDD;\n",
              "  }\n",
              "\n",
              "  [theme=dark] .colab-df-quickchart {\n",
              "      --bg-color: #3B4455;\n",
              "      --fill-color: #D2E3FC;\n",
              "      --hover-bg-color: #434B5C;\n",
              "      --hover-fill-color: #FFFFFF;\n",
              "      --disabled-bg-color: #3B4455;\n",
              "      --disabled-fill-color: #666;\n",
              "  }\n",
              "\n",
              "  .colab-df-quickchart {\n",
              "    background-color: var(--bg-color);\n",
              "    border: none;\n",
              "    border-radius: 50%;\n",
              "    cursor: pointer;\n",
              "    display: none;\n",
              "    fill: var(--fill-color);\n",
              "    height: 32px;\n",
              "    padding: 0;\n",
              "    width: 32px;\n",
              "  }\n",
              "\n",
              "  .colab-df-quickchart:hover {\n",
              "    background-color: var(--hover-bg-color);\n",
              "    box-shadow: 0 1px 2px rgba(60, 64, 67, 0.3), 0 1px 3px 1px rgba(60, 64, 67, 0.15);\n",
              "    fill: var(--button-hover-fill-color);\n",
              "  }\n",
              "\n",
              "  .colab-df-quickchart-complete:disabled,\n",
              "  .colab-df-quickchart-complete:disabled:hover {\n",
              "    background-color: var(--disabled-bg-color);\n",
              "    fill: var(--disabled-fill-color);\n",
              "    box-shadow: none;\n",
              "  }\n",
              "\n",
              "  .colab-df-spinner {\n",
              "    border: 2px solid var(--fill-color);\n",
              "    border-color: transparent;\n",
              "    border-bottom-color: var(--fill-color);\n",
              "    animation:\n",
              "      spin 1s steps(1) infinite;\n",
              "  }\n",
              "\n",
              "  @keyframes spin {\n",
              "    0% {\n",
              "      border-color: transparent;\n",
              "      border-bottom-color: var(--fill-color);\n",
              "      border-left-color: var(--fill-color);\n",
              "    }\n",
              "    20% {\n",
              "      border-color: transparent;\n",
              "      border-left-color: var(--fill-color);\n",
              "      border-top-color: var(--fill-color);\n",
              "    }\n",
              "    30% {\n",
              "      border-color: transparent;\n",
              "      border-left-color: var(--fill-color);\n",
              "      border-top-color: var(--fill-color);\n",
              "      border-right-color: var(--fill-color);\n",
              "    }\n",
              "    40% {\n",
              "      border-color: transparent;\n",
              "      border-right-color: var(--fill-color);\n",
              "      border-top-color: var(--fill-color);\n",
              "    }\n",
              "    60% {\n",
              "      border-color: transparent;\n",
              "      border-right-color: var(--fill-color);\n",
              "    }\n",
              "    80% {\n",
              "      border-color: transparent;\n",
              "      border-right-color: var(--fill-color);\n",
              "      border-bottom-color: var(--fill-color);\n",
              "    }\n",
              "    90% {\n",
              "      border-color: transparent;\n",
              "      border-bottom-color: var(--fill-color);\n",
              "    }\n",
              "  }\n",
              "</style>\n",
              "\n",
              "  <script>\n",
              "    async function quickchart(key) {\n",
              "      const quickchartButtonEl =\n",
              "        document.querySelector('#' + key + ' button');\n",
              "      quickchartButtonEl.disabled = true;  // To prevent multiple clicks.\n",
              "      quickchartButtonEl.classList.add('colab-df-spinner');\n",
              "      try {\n",
              "        const charts = await google.colab.kernel.invokeFunction(\n",
              "            'suggestCharts', [key], {});\n",
              "      } catch (error) {\n",
              "        console.error('Error during call to suggestCharts:', error);\n",
              "      }\n",
              "      quickchartButtonEl.classList.remove('colab-df-spinner');\n",
              "      quickchartButtonEl.classList.add('colab-df-quickchart-complete');\n",
              "    }\n",
              "    (() => {\n",
              "      let quickchartButtonEl =\n",
              "        document.querySelector('#df-095c4394-d4f4-4303-887a-182e894d0634 button');\n",
              "      quickchartButtonEl.style.display =\n",
              "        google.colab.kernel.accessAllowed ? 'block' : 'none';\n",
              "    })();\n",
              "  </script>\n",
              "</div>\n",
              "    </div>\n",
              "  </div>\n"
            ]
          },
          "metadata": {},
          "execution_count": 25
        }
      ],
      "source": [
        "df[\"tweet\"]= df['tweet'].apply(lambda x: x.split())\n",
        "df.head()"
      ]
    },
    {
      "cell_type": "code",
      "execution_count": null,
      "metadata": {
        "colab": {
          "base_uri": "https://localhost:8080/"
        },
        "id": "MfQdRXLhiYXa",
        "outputId": "2452d983-8ab9-400f-d04c-fa34a5abe0a4"
      },
      "outputs": [
        {
          "output_type": "stream",
          "name": "stderr",
          "text": [
            "<ipython-input-26-f13fa04ce2f0>:2: SettingWithCopyWarning: \n",
            "A value is trying to be set on a copy of a slice from a DataFrame\n",
            "\n",
            "See the caveats in the documentation: https://pandas.pydata.org/pandas-docs/stable/user_guide/indexing.html#returning-a-view-versus-a-copy\n",
            "  df[\"tweet\"][i] = ' '.join(df[\"tweet\"][i])\n"
          ]
        }
      ],
      "source": [
        "for i in range(len(df[\"tweet\"])):\n",
        "    df[\"tweet\"][i] = ' '.join(df[\"tweet\"][i])\n",
        "\n",
        "\n",
        "#combi['tweet'] = tokenized_tweet\n"
      ]
    },
    {
      "cell_type": "code",
      "execution_count": null,
      "metadata": {
        "colab": {
          "base_uri": "https://localhost:8080/",
          "height": 423
        },
        "id": "YVB6gBiLfrdH",
        "outputId": "8e25a966-18a0-44b3-e0ad-970b8f7b5fb9"
      },
      "outputs": [
        {
          "output_type": "execute_result",
          "data": {
            "text/plain": [
              "          id  label  \\\n",
              "0          1    0.0   \n",
              "1          2    0.0   \n",
              "2          3    0.0   \n",
              "3          4    0.0   \n",
              "4          5    0.0   \n",
              "...      ...    ...   \n",
              "49154  49155    NaN   \n",
              "49155  49156    NaN   \n",
              "49156  49157    NaN   \n",
              "49157  49158    NaN   \n",
              "49158  49159    NaN   \n",
              "\n",
              "                                                                                                          tweet  \n",
              "0                                                        father,dysfunctional,selfish,drag,kid,dysfunction,#run  \n",
              "1                                       thanks,#lyft,credit,cause,offer,wheelchair,van,#disapointed,#getthanked  \n",
              "2                                                                                                bihday,majesty  \n",
              "3                                                                                         #model,love,take,time  \n",
              "4                                                                                factsguide,society,#motivation  \n",
              "...                                                                                                         ...  \n",
              "49154            thought,factory,left,right,polarisation,#trump,#uselections,#leadership,#politics,#brexit,#blm  \n",
              "49155                       feeling,like,mermaid,#hairflip,#neverready,#formal,#wedding,#gown,#dresses,#mermaid  \n",
              "49156  #hillary,#campaigned,today,#ohio,used,word,like,asset,liability,never,#clinton,thee,word,#radicalization  \n",
              "49157                  happy,work,conference,right,mindset,lead,culture,development,organization,#work,#mindset  \n",
              "49158                                                      song,glad,free,download,#shoegaze,#newmusic,#newsong  \n",
              "\n",
              "[49159 rows x 3 columns]"
            ],
            "text/html": [
              "\n",
              "  <div id=\"df-bac86cf3-597b-4ca3-bcc9-5a858a87878f\" class=\"colab-df-container\">\n",
              "    <div>\n",
              "<style scoped>\n",
              "    .dataframe tbody tr th:only-of-type {\n",
              "        vertical-align: middle;\n",
              "    }\n",
              "\n",
              "    .dataframe tbody tr th {\n",
              "        vertical-align: top;\n",
              "    }\n",
              "\n",
              "    .dataframe thead th {\n",
              "        text-align: right;\n",
              "    }\n",
              "</style>\n",
              "<table border=\"1\" class=\"dataframe\">\n",
              "  <thead>\n",
              "    <tr style=\"text-align: right;\">\n",
              "      <th></th>\n",
              "      <th>id</th>\n",
              "      <th>label</th>\n",
              "      <th>tweet</th>\n",
              "    </tr>\n",
              "  </thead>\n",
              "  <tbody>\n",
              "    <tr>\n",
              "      <th>0</th>\n",
              "      <td>1</td>\n",
              "      <td>0.0</td>\n",
              "      <td>father,dysfunctional,selfish,drag,kid,dysfunction,#run</td>\n",
              "    </tr>\n",
              "    <tr>\n",
              "      <th>1</th>\n",
              "      <td>2</td>\n",
              "      <td>0.0</td>\n",
              "      <td>thanks,#lyft,credit,cause,offer,wheelchair,van,#disapointed,#getthanked</td>\n",
              "    </tr>\n",
              "    <tr>\n",
              "      <th>2</th>\n",
              "      <td>3</td>\n",
              "      <td>0.0</td>\n",
              "      <td>bihday,majesty</td>\n",
              "    </tr>\n",
              "    <tr>\n",
              "      <th>3</th>\n",
              "      <td>4</td>\n",
              "      <td>0.0</td>\n",
              "      <td>#model,love,take,time</td>\n",
              "    </tr>\n",
              "    <tr>\n",
              "      <th>4</th>\n",
              "      <td>5</td>\n",
              "      <td>0.0</td>\n",
              "      <td>factsguide,society,#motivation</td>\n",
              "    </tr>\n",
              "    <tr>\n",
              "      <th>...</th>\n",
              "      <td>...</td>\n",
              "      <td>...</td>\n",
              "      <td>...</td>\n",
              "    </tr>\n",
              "    <tr>\n",
              "      <th>49154</th>\n",
              "      <td>49155</td>\n",
              "      <td>NaN</td>\n",
              "      <td>thought,factory,left,right,polarisation,#trump,#uselections,#leadership,#politics,#brexit,#blm</td>\n",
              "    </tr>\n",
              "    <tr>\n",
              "      <th>49155</th>\n",
              "      <td>49156</td>\n",
              "      <td>NaN</td>\n",
              "      <td>feeling,like,mermaid,#hairflip,#neverready,#formal,#wedding,#gown,#dresses,#mermaid</td>\n",
              "    </tr>\n",
              "    <tr>\n",
              "      <th>49156</th>\n",
              "      <td>49157</td>\n",
              "      <td>NaN</td>\n",
              "      <td>#hillary,#campaigned,today,#ohio,used,word,like,asset,liability,never,#clinton,thee,word,#radicalization</td>\n",
              "    </tr>\n",
              "    <tr>\n",
              "      <th>49157</th>\n",
              "      <td>49158</td>\n",
              "      <td>NaN</td>\n",
              "      <td>happy,work,conference,right,mindset,lead,culture,development,organization,#work,#mindset</td>\n",
              "    </tr>\n",
              "    <tr>\n",
              "      <th>49158</th>\n",
              "      <td>49159</td>\n",
              "      <td>NaN</td>\n",
              "      <td>song,glad,free,download,#shoegaze,#newmusic,#newsong</td>\n",
              "    </tr>\n",
              "  </tbody>\n",
              "</table>\n",
              "<p>49159 rows × 3 columns</p>\n",
              "</div>\n",
              "    <div class=\"colab-df-buttons\">\n",
              "\n",
              "  <div class=\"colab-df-container\">\n",
              "    <button class=\"colab-df-convert\" onclick=\"convertToInteractive('df-bac86cf3-597b-4ca3-bcc9-5a858a87878f')\"\n",
              "            title=\"Convert this dataframe to an interactive table.\"\n",
              "            style=\"display:none;\">\n",
              "\n",
              "  <svg xmlns=\"http://www.w3.org/2000/svg\" height=\"24px\" viewBox=\"0 -960 960 960\">\n",
              "    <path d=\"M120-120v-720h720v720H120Zm60-500h600v-160H180v160Zm220 220h160v-160H400v160Zm0 220h160v-160H400v160ZM180-400h160v-160H180v160Zm440 0h160v-160H620v160ZM180-180h160v-160H180v160Zm440 0h160v-160H620v160Z\"/>\n",
              "  </svg>\n",
              "    </button>\n",
              "\n",
              "  <style>\n",
              "    .colab-df-container {\n",
              "      display:flex;\n",
              "      gap: 12px;\n",
              "    }\n",
              "\n",
              "    .colab-df-convert {\n",
              "      background-color: #E8F0FE;\n",
              "      border: none;\n",
              "      border-radius: 50%;\n",
              "      cursor: pointer;\n",
              "      display: none;\n",
              "      fill: #1967D2;\n",
              "      height: 32px;\n",
              "      padding: 0 0 0 0;\n",
              "      width: 32px;\n",
              "    }\n",
              "\n",
              "    .colab-df-convert:hover {\n",
              "      background-color: #E2EBFA;\n",
              "      box-shadow: 0px 1px 2px rgba(60, 64, 67, 0.3), 0px 1px 3px 1px rgba(60, 64, 67, 0.15);\n",
              "      fill: #174EA6;\n",
              "    }\n",
              "\n",
              "    .colab-df-buttons div {\n",
              "      margin-bottom: 4px;\n",
              "    }\n",
              "\n",
              "    [theme=dark] .colab-df-convert {\n",
              "      background-color: #3B4455;\n",
              "      fill: #D2E3FC;\n",
              "    }\n",
              "\n",
              "    [theme=dark] .colab-df-convert:hover {\n",
              "      background-color: #434B5C;\n",
              "      box-shadow: 0px 1px 3px 1px rgba(0, 0, 0, 0.15);\n",
              "      filter: drop-shadow(0px 1px 2px rgba(0, 0, 0, 0.3));\n",
              "      fill: #FFFFFF;\n",
              "    }\n",
              "  </style>\n",
              "\n",
              "    <script>\n",
              "      const buttonEl =\n",
              "        document.querySelector('#df-bac86cf3-597b-4ca3-bcc9-5a858a87878f button.colab-df-convert');\n",
              "      buttonEl.style.display =\n",
              "        google.colab.kernel.accessAllowed ? 'block' : 'none';\n",
              "\n",
              "      async function convertToInteractive(key) {\n",
              "        const element = document.querySelector('#df-bac86cf3-597b-4ca3-bcc9-5a858a87878f');\n",
              "        const dataTable =\n",
              "          await google.colab.kernel.invokeFunction('convertToInteractive',\n",
              "                                                    [key], {});\n",
              "        if (!dataTable) return;\n",
              "\n",
              "        const docLinkHtml = 'Like what you see? Visit the ' +\n",
              "          '<a target=\"_blank\" href=https://colab.research.google.com/notebooks/data_table.ipynb>data table notebook</a>'\n",
              "          + ' to learn more about interactive tables.';\n",
              "        element.innerHTML = '';\n",
              "        dataTable['output_type'] = 'display_data';\n",
              "        await google.colab.output.renderOutput(dataTable, element);\n",
              "        const docLink = document.createElement('div');\n",
              "        docLink.innerHTML = docLinkHtml;\n",
              "        element.appendChild(docLink);\n",
              "      }\n",
              "    </script>\n",
              "  </div>\n",
              "\n",
              "\n",
              "<div id=\"df-93dea2b6-f0a6-4b51-9d4a-6f3a9e0b9df2\">\n",
              "  <button class=\"colab-df-quickchart\" onclick=\"quickchart('df-93dea2b6-f0a6-4b51-9d4a-6f3a9e0b9df2')\"\n",
              "            title=\"Suggest charts.\"\n",
              "            style=\"display:none;\">\n",
              "\n",
              "<svg xmlns=\"http://www.w3.org/2000/svg\" height=\"24px\"viewBox=\"0 0 24 24\"\n",
              "     width=\"24px\">\n",
              "    <g>\n",
              "        <path d=\"M19 3H5c-1.1 0-2 .9-2 2v14c0 1.1.9 2 2 2h14c1.1 0 2-.9 2-2V5c0-1.1-.9-2-2-2zM9 17H7v-7h2v7zm4 0h-2V7h2v10zm4 0h-2v-4h2v4z\"/>\n",
              "    </g>\n",
              "</svg>\n",
              "  </button>\n",
              "\n",
              "<style>\n",
              "  .colab-df-quickchart {\n",
              "      --bg-color: #E8F0FE;\n",
              "      --fill-color: #1967D2;\n",
              "      --hover-bg-color: #E2EBFA;\n",
              "      --hover-fill-color: #174EA6;\n",
              "      --disabled-fill-color: #AAA;\n",
              "      --disabled-bg-color: #DDD;\n",
              "  }\n",
              "\n",
              "  [theme=dark] .colab-df-quickchart {\n",
              "      --bg-color: #3B4455;\n",
              "      --fill-color: #D2E3FC;\n",
              "      --hover-bg-color: #434B5C;\n",
              "      --hover-fill-color: #FFFFFF;\n",
              "      --disabled-bg-color: #3B4455;\n",
              "      --disabled-fill-color: #666;\n",
              "  }\n",
              "\n",
              "  .colab-df-quickchart {\n",
              "    background-color: var(--bg-color);\n",
              "    border: none;\n",
              "    border-radius: 50%;\n",
              "    cursor: pointer;\n",
              "    display: none;\n",
              "    fill: var(--fill-color);\n",
              "    height: 32px;\n",
              "    padding: 0;\n",
              "    width: 32px;\n",
              "  }\n",
              "\n",
              "  .colab-df-quickchart:hover {\n",
              "    background-color: var(--hover-bg-color);\n",
              "    box-shadow: 0 1px 2px rgba(60, 64, 67, 0.3), 0 1px 3px 1px rgba(60, 64, 67, 0.15);\n",
              "    fill: var(--button-hover-fill-color);\n",
              "  }\n",
              "\n",
              "  .colab-df-quickchart-complete:disabled,\n",
              "  .colab-df-quickchart-complete:disabled:hover {\n",
              "    background-color: var(--disabled-bg-color);\n",
              "    fill: var(--disabled-fill-color);\n",
              "    box-shadow: none;\n",
              "  }\n",
              "\n",
              "  .colab-df-spinner {\n",
              "    border: 2px solid var(--fill-color);\n",
              "    border-color: transparent;\n",
              "    border-bottom-color: var(--fill-color);\n",
              "    animation:\n",
              "      spin 1s steps(1) infinite;\n",
              "  }\n",
              "\n",
              "  @keyframes spin {\n",
              "    0% {\n",
              "      border-color: transparent;\n",
              "      border-bottom-color: var(--fill-color);\n",
              "      border-left-color: var(--fill-color);\n",
              "    }\n",
              "    20% {\n",
              "      border-color: transparent;\n",
              "      border-left-color: var(--fill-color);\n",
              "      border-top-color: var(--fill-color);\n",
              "    }\n",
              "    30% {\n",
              "      border-color: transparent;\n",
              "      border-left-color: var(--fill-color);\n",
              "      border-top-color: var(--fill-color);\n",
              "      border-right-color: var(--fill-color);\n",
              "    }\n",
              "    40% {\n",
              "      border-color: transparent;\n",
              "      border-right-color: var(--fill-color);\n",
              "      border-top-color: var(--fill-color);\n",
              "    }\n",
              "    60% {\n",
              "      border-color: transparent;\n",
              "      border-right-color: var(--fill-color);\n",
              "    }\n",
              "    80% {\n",
              "      border-color: transparent;\n",
              "      border-right-color: var(--fill-color);\n",
              "      border-bottom-color: var(--fill-color);\n",
              "    }\n",
              "    90% {\n",
              "      border-color: transparent;\n",
              "      border-bottom-color: var(--fill-color);\n",
              "    }\n",
              "  }\n",
              "</style>\n",
              "\n",
              "  <script>\n",
              "    async function quickchart(key) {\n",
              "      const quickchartButtonEl =\n",
              "        document.querySelector('#' + key + ' button');\n",
              "      quickchartButtonEl.disabled = true;  // To prevent multiple clicks.\n",
              "      quickchartButtonEl.classList.add('colab-df-spinner');\n",
              "      try {\n",
              "        const charts = await google.colab.kernel.invokeFunction(\n",
              "            'suggestCharts', [key], {});\n",
              "      } catch (error) {\n",
              "        console.error('Error during call to suggestCharts:', error);\n",
              "      }\n",
              "      quickchartButtonEl.classList.remove('colab-df-spinner');\n",
              "      quickchartButtonEl.classList.add('colab-df-quickchart-complete');\n",
              "    }\n",
              "    (() => {\n",
              "      let quickchartButtonEl =\n",
              "        document.querySelector('#df-93dea2b6-f0a6-4b51-9d4a-6f3a9e0b9df2 button');\n",
              "      quickchartButtonEl.style.display =\n",
              "        google.colab.kernel.accessAllowed ? 'block' : 'none';\n",
              "    })();\n",
              "  </script>\n",
              "</div>\n",
              "    </div>\n",
              "  </div>\n"
            ]
          },
          "metadata": {},
          "execution_count": 27
        }
      ],
      "source": [
        "df"
      ]
    },
    {
      "cell_type": "markdown",
      "metadata": {
        "id": "HXjOiiF_eFgI"
      },
      "source": [
        "### **EDA and Visualization**"
      ]
    },
    {
      "cell_type": "markdown",
      "metadata": {
        "id": "FOWa40rQeK18"
      },
      "source": [
        "**1.WordCloud Graph on All Tweets**"
      ]
    },
    {
      "cell_type": "code",
      "execution_count": null,
      "metadata": {
        "colab": {
          "base_uri": "https://localhost:8080/",
          "height": 424
        },
        "id": "LFgnvB4udLYL",
        "outputId": "bd330f72-b1ec-4cd3-df46-1273427200cb"
      },
      "outputs": [
        {
          "output_type": "display_data",
          "data": {
            "text/plain": [
              "<Figure size 1000x700 with 1 Axes>"
            ],
            "image/png": "[encoded data removed]"
          },
          "metadata": {}
        }
      ],
      "source": [
        "import matplotlib.pyplot as plt\n",
        "all_words = ' '.join([text for text in df['tweet']])\n",
        "from wordcloud import WordCloud\n",
        "wordcloud = WordCloud(width=1000, height=500, random_state=21, max_font_size=110).generate(all_words)\n",
        "\n",
        "plt.figure(figsize=(10, 7))\n",
        "plt.imshow(wordcloud, interpolation=\"bilinear\")\n",
        "plt.axis('off')\n",
        "plt.show()"
      ]
    },
    {
      "cell_type": "markdown",
      "metadata": {
        "id": "FOznk8uBkmBb"
      },
      "source": [
        "**2.Wordcloud Graph Racist/Sexist Tweets**"
      ]
    },
    {
      "cell_type": "code",
      "execution_count": 40,
      "metadata": {
        "colab": {
          "base_uri": "https://localhost:8080/",
          "height": 403
        },
        "id": "3HDLAYBKf-wj",
        "outputId": "f7f38dff-e04a-40ec-8861-e2d3c429043e"
      },
      "outputs": [
        {
          "output_type": "display_data",
          "data": {
            "text/plain": [
              "<Figure size 500x700 with 1 Axes>"
            ],
            "image/png": "[encoded data removed]"
          },
          "metadata": {}
        }
      ],
      "source": [
        "from PIL import Image\n",
        "im = Image.open('/content/drive/MyDrive/download (1).png')\n",
        "import numpy as np\n",
        "from PIL import Image\n",
        "from wordcloud import WordCloud\n",
        "import matplotlib.pyplot as plt\n",
        "\n",
        "twitter_mask = np.array(Image.open('/content/drive/MyDrive/download (1).png'))\n",
        "\n",
        "wc = WordCloud(\n",
        "    background_color='white',\n",
        "    max_words=100,\n",
        "    mask=twitter_mask\n",
        ")\n",
        "\n",
        "wc.generate(' '.join(text for text in df.loc[df['label'] == 0, 'tweet']))\n",
        "\n",
        "plt.figure(figsize=(5, 7))\n",
        "plt.title('Top words for Twitter - Label=0', fontdict={'size': 10, 'verticalalignment': 'bottom'})\n",
        "plt.imshow(wc)\n",
        "plt.show()"
      ]
    },
    {
      "cell_type": "markdown",
      "metadata": {
        "id": "8z4QqbdLqflN"
      },
      "source": [
        "**3. Understanding the impact of Hashtags on tweets sentiment**"
      ]
    },
    {
      "cell_type": "code",
      "execution_count": 41,
      "metadata": {
        "id": "aueEnGVXrFDm"
      },
      "outputs": [],
      "source": [
        "# function to collect hashtags\n",
        "def hashtag_extract(x):\n",
        "    hashtags = []\n",
        "    # Loop over the words in the tweet\n",
        "    for i in x:\n",
        "        ht = re.findall(r\"#(\\w+)\", i)\n",
        "        hashtags.append(ht)\n",
        "\n",
        "    return hashtags"
      ]
    },
    {
      "cell_type": "code",
      "execution_count": 42,
      "metadata": {
        "id": "N6qU3fZDrTza"
      },
      "outputs": [],
      "source": [
        "# extracting hashtags from non racist/sexist tweets\n",
        "\n",
        "HT_non_racist = hashtag_extract(df['tweet'][df['label'] == 0])"
      ]
    },
    {
      "cell_type": "code",
      "execution_count": 43,
      "metadata": {
        "id": "HeHn6bparqIY"
      },
      "outputs": [],
      "source": [
        "# extracting hashtags from racist/sexist tweets\n",
        "HT_racist = hashtag_extract(df['tweet'][df['label'] == 1])"
      ]
    },
    {
      "cell_type": "code",
      "execution_count": 44,
      "metadata": {
        "id": "f-P7sJ1Fr4C8"
      },
      "outputs": [],
      "source": [
        "# unnesting list\n",
        "HT_non_racist = sum(HT_non_racist,[])\n",
        "HT_racist = sum(HT_racist,[])"
      ]
    },
    {
      "cell_type": "code",
      "execution_count": 45,
      "metadata": {
        "id": "Dp4qKRe5sbtf",
        "colab": {
          "base_uri": "https://localhost:8080/",
          "height": 465
        },
        "outputId": "985edcd5-c213-4234-cc50-6353e8f6bf5a"
      },
      "outputs": [
        {
          "output_type": "display_data",
          "data": {
            "text/plain": [
              "<Figure size 1600x500 with 1 Axes>"
            ],
            "image/png": "[encoded data removed]"
          },
          "metadata": {}
        }
      ],
      "source": [
        "#Non-Racist/Sexist Tweets\n",
        "a = nltk.FreqDist(HT_non_racist)\n",
        "d = pd.DataFrame({'Hashtag': list(a.keys()),\n",
        "                  'Count': list(a.values())})\n",
        "# selecting top 10 most frequent hashtags\n",
        "d = d.nlargest(columns=\"Count\", n = 10)\n",
        "plt.figure(figsize=(16,5))\n",
        "ax = sns.barplot(data=d, x= \"Hashtag\", y = \"Count\")\n",
        "ax.set(ylabel = 'Count')\n",
        "plt.show()"
      ]
    },
    {
      "cell_type": "markdown",
      "metadata": {
        "id": "q30NWJD-VUKc"
      },
      "source": [
        "**Observatation:**\n",
        "\n",
        "1] trump word tweeted most of the time with # trend.\n",
        "\n",
        "2] hate word tweeted mininmum time with # trend"
      ]
    },
    {
      "cell_type": "code",
      "execution_count": 46,
      "metadata": {
        "id": "KZFZXLkgsuel",
        "colab": {
          "base_uri": "https://localhost:8080/",
          "height": 465
        },
        "outputId": "76883453-2404-4679-d70d-4b216eaee6fa"
      },
      "outputs": [
        {
          "output_type": "display_data",
          "data": {
            "text/plain": [
              "<Figure size 1600x500 with 1 Axes>"
            ],
            "image/png": "[encoded data removed]"
          },
          "metadata": {}
        }
      ],
      "source": [
        "\n",
        "#Racist/Sexist Tweets\n",
        "\n",
        "b = nltk.FreqDist(HT_racist)\n",
        "e = pd.DataFrame({'Hashtag': list(b.keys()), 'Count': list(b.values())})\n",
        "# selecting top 10 most frequent hashtags\n",
        "e = e.nlargest(columns=\"Count\", n = 10)\n",
        "plt.figure(figsize=(16,5))\n",
        "ax = sns.barplot(data=e, x= \"Hashtag\", y = \"Count\")\n",
        "ax.set(ylabel = 'Count')\n",
        "plt.show()"
      ]
    },
    {
      "cell_type": "markdown",
      "metadata": {
        "id": "8teJ5xJYPDiZ"
      },
      "source": [
        "**obeservation**\n",
        "\n",
        "1] trump word tweeted most of the time with # trend.\n",
        "\n",
        "2] hate word tweeted mininmum time with # trend."
      ]
    },
    {
      "cell_type": "code",
      "execution_count": 47,
      "metadata": {
        "id": "8LnQQ6ZRV9c6",
        "colab": {
          "base_uri": "https://localhost:8080/",
          "height": 576
        },
        "outputId": "d5c43094-99ca-4c3b-b9c8-6155d6d4f8bc"
      },
      "outputs": [
        {
          "output_type": "display_data",
          "data": {
            "text/plain": [
              "<Figure size 1000x600 with 1 Axes>"
            ],
            "image/png": "[encoded data removed]"
          },
          "metadata": {}
        }
      ],
      "source": [
        "plt.figure(figsize=(10, 6))\n",
        "color = sns.color_palette()[0]\n",
        "order = df['label'].value_counts().index\n",
        "ax = sns.countplot(data=df, x='label', color=color, order=order)\n",
        "plt.xlabel('label')\n",
        "plt.ylabel('Count of Feedback')\n",
        "plt.title('Feedback Count by Course Code')\n",
        "plt.xticks(rotation=45)\n",
        "ax.bar_label(ax.containers[0], fmt='%.0f', label_type='edge')\n",
        "plt.show()"
      ]
    },
    {
      "cell_type": "code",
      "execution_count": 48,
      "metadata": {
        "id": "E0OrwjkvXEyX",
        "colab": {
          "base_uri": "https://localhost:8080/",
          "height": 473
        },
        "outputId": "30933bd8-2a40-4e38-aacc-5c374a94278c"
      },
      "outputs": [
        {
          "output_type": "display_data",
          "data": {
            "text/plain": [
              "<Figure size 640x480 with 1 Axes>"
            ],
            "image/png": "[encoded data removed]"
          },
          "metadata": {}
        }
      ],
      "source": [
        "# Pie chart for Gender distribution\n",
        "counts = df['label'].value_counts()\n",
        "labels = [f\"{label}\\n{count / len(df) * 100:.1f}%\" for label, count in counts.items()]\n",
        "fig, ax = plt.subplots()\n",
        "ax.pie(counts, labels=labels, startangle=50, counterclock=False, pctdistance=0.8, labeldistance=1.2)\n",
        "centre_circle = plt.Circle((0,0),0.70,fc='white')\n",
        "fig.gca().add_artist(centre_circle)\n",
        "ax.set_title('label Distribution', fontsize=16, loc='left', pad=30)\n",
        "ax.axis('equal')\n",
        "plt.show()"
      ]
    },
    {
      "cell_type": "markdown",
      "metadata": {
        "id": "YF-HjrnYZOjo"
      },
      "source": [
        "## **Extracting Features from Cleaned Tweets**"
      ]
    },
    {
      "cell_type": "markdown",
      "metadata": {
        "id": "iP464QAnZrQ4"
      },
      "source": [
        "**1. Bag-of-Words Features**"
      ]
    },
    {
      "cell_type": "code",
      "execution_count": 49,
      "metadata": {
        "id": "qBxDT-N7uXc9"
      },
      "outputs": [],
      "source": [
        "from sklearn.feature_extraction.text import CountVectorizer\n",
        "bow_vectorizer = CountVectorizer(max_df=0.90, min_df=2,max_features=1000, stop_words='english')\n",
        "# bag-of-words feature matrix\n",
        "bow = bow_vectorizer.fit_transform(df['tweet'])\n",
        "bow_array = bow.toarray()\n",
        "df1 = pd.DataFrame(data=bow_array,columns = bow_vectorizer.vocabulary_.keys())"
      ]
    },
    {
      "cell_type": "code",
      "execution_count": 50,
      "metadata": {
        "id": "aDNEHOy9pcy6",
        "colab": {
          "base_uri": "https://localhost:8080/",
          "height": 235
        },
        "outputId": "b4bc7091-3b2e-486f-fc5f-2872dc327724"
      },
      "outputs": [
        {
          "output_type": "execute_result",
          "data": {
            "text/plain": [
              "   father  kid  run  thanks  cause  offer  bihday  model  love  time  ...  \\\n",
              "0       0    0    0       0      0      0       0      0     0     0  ...   \n",
              "1       0    0    0       0      0      0       0      0     0     0  ...   \n",
              "2       0    0    0       0      0      0       0      0     0     0  ...   \n",
              "3       0    0    0       0      0      0       0      0     0     0  ...   \n",
              "4       0    0    0       0      0      0       0      0     0     0  ...   \n",
              "\n",
              "   nail  man  gif  fit  info  english  link  sound  trending  plus  \n",
              "0     0    0    0    0     0        0     0      0         0     0  \n",
              "1     0    0    0    0     0        0     0      0         0     0  \n",
              "2     0    0    0    0     0        0     0      0         0     0  \n",
              "3     0    0    0    0     0        0     0      0         0     0  \n",
              "4     0    0    0    0     0        0     0      0         0     0  \n",
              "\n",
              "[5 rows x 1000 columns]"
            ],
            "text/html": [
              "\n",
              "  <div id=\"df-e7f5e660-3875-4140-975f-a35099b82b30\" class=\"colab-df-container\">\n",
              "    <div>\n",
              "<style scoped>\n",
              "    .dataframe tbody tr th:only-of-type {\n",
              "        vertical-align: middle;\n",
              "    }\n",
              "\n",
              "    .dataframe tbody tr th {\n",
              "        vertical-align: top;\n",
              "    }\n",
              "\n",
              "    .dataframe thead th {\n",
              "        text-align: right;\n",
              "    }\n",
              "</style>\n",
              "<table border=\"1\" class=\"dataframe\">\n",
              "  <thead>\n",
              "    <tr style=\"text-align: right;\">\n",
              "      <th></th>\n",
              "      <th>father</th>\n",
              "      <th>kid</th>\n",
              "      <th>run</th>\n",
              "      <th>thanks</th>\n",
              "      <th>cause</th>\n",
              "      <th>offer</th>\n",
              "      <th>bihday</th>\n",
              "      <th>model</th>\n",
              "      <th>love</th>\n",
              "      <th>time</th>\n",
              "      <th>...</th>\n",
              "      <th>nail</th>\n",
              "      <th>man</th>\n",
              "      <th>gif</th>\n",
              "      <th>fit</th>\n",
              "      <th>info</th>\n",
              "      <th>english</th>\n",
              "      <th>link</th>\n",
              "      <th>sound</th>\n",
              "      <th>trending</th>\n",
              "      <th>plus</th>\n",
              "    </tr>\n",
              "  </thead>\n",
              "  <tbody>\n",
              "    <tr>\n",
              "      <th>0</th>\n",
              "      <td>0</td>\n",
              "      <td>0</td>\n",
              "      <td>0</td>\n",
              "      <td>0</td>\n",
              "      <td>0</td>\n",
              "      <td>0</td>\n",
              "      <td>0</td>\n",
              "      <td>0</td>\n",
              "      <td>0</td>\n",
              "      <td>0</td>\n",
              "      <td>...</td>\n",
              "      <td>0</td>\n",
              "      <td>0</td>\n",
              "      <td>0</td>\n",
              "      <td>0</td>\n",
              "      <td>0</td>\n",
              "      <td>0</td>\n",
              "      <td>0</td>\n",
              "      <td>0</td>\n",
              "      <td>0</td>\n",
              "      <td>0</td>\n",
              "    </tr>\n",
              "    <tr>\n",
              "      <th>1</th>\n",
              "      <td>0</td>\n",
              "      <td>0</td>\n",
              "      <td>0</td>\n",
              "      <td>0</td>\n",
              "      <td>0</td>\n",
              "      <td>0</td>\n",
              "      <td>0</td>\n",
              "      <td>0</td>\n",
              "      <td>0</td>\n",
              "      <td>0</td>\n",
              "      <td>...</td>\n",
              "      <td>0</td>\n",
              "      <td>0</td>\n",
              "      <td>0</td>\n",
              "      <td>0</td>\n",
              "      <td>0</td>\n",
              "      <td>0</td>\n",
              "      <td>0</td>\n",
              "      <td>0</td>\n",
              "      <td>0</td>\n",
              "      <td>0</td>\n",
              "    </tr>\n",
              "    <tr>\n",
              "      <th>2</th>\n",
              "      <td>0</td>\n",
              "      <td>0</td>\n",
              "      <td>0</td>\n",
              "      <td>0</td>\n",
              "      <td>0</td>\n",
              "      <td>0</td>\n",
              "      <td>0</td>\n",
              "      <td>0</td>\n",
              "      <td>0</td>\n",
              "      <td>0</td>\n",
              "      <td>...</td>\n",
              "      <td>0</td>\n",
              "      <td>0</td>\n",
              "      <td>0</td>\n",
              "      <td>0</td>\n",
              "      <td>0</td>\n",
              "      <td>0</td>\n",
              "      <td>0</td>\n",
              "      <td>0</td>\n",
              "      <td>0</td>\n",
              "      <td>0</td>\n",
              "    </tr>\n",
              "    <tr>\n",
              "      <th>3</th>\n",
              "      <td>0</td>\n",
              "      <td>0</td>\n",
              "      <td>0</td>\n",
              "      <td>0</td>\n",
              "      <td>0</td>\n",
              "      <td>0</td>\n",
              "      <td>0</td>\n",
              "      <td>0</td>\n",
              "      <td>0</td>\n",
              "      <td>0</td>\n",
              "      <td>...</td>\n",
              "      <td>0</td>\n",
              "      <td>0</td>\n",
              "      <td>0</td>\n",
              "      <td>0</td>\n",
              "      <td>0</td>\n",
              "      <td>0</td>\n",
              "      <td>0</td>\n",
              "      <td>0</td>\n",
              "      <td>0</td>\n",
              "      <td>0</td>\n",
              "    </tr>\n",
              "    <tr>\n",
              "      <th>4</th>\n",
              "      <td>0</td>\n",
              "      <td>0</td>\n",
              "      <td>0</td>\n",
              "      <td>0</td>\n",
              "      <td>0</td>\n",
              "      <td>0</td>\n",
              "      <td>0</td>\n",
              "      <td>0</td>\n",
              "      <td>0</td>\n",
              "      <td>0</td>\n",
              "      <td>...</td>\n",
              "      <td>0</td>\n",
              "      <td>0</td>\n",
              "      <td>0</td>\n",
              "      <td>0</td>\n",
              "      <td>0</td>\n",
              "      <td>0</td>\n",
              "      <td>0</td>\n",
              "      <td>0</td>\n",
              "      <td>0</td>\n",
              "      <td>0</td>\n",
              "    </tr>\n",
              "  </tbody>\n",
              "</table>\n",
              "<p>5 rows × 1000 columns</p>\n",
              "</div>\n",
              "    <div class=\"colab-df-buttons\">\n",
              "\n",
              "  <div class=\"colab-df-container\">\n",
              "    <button class=\"colab-df-convert\" onclick=\"convertToInteractive('df-e7f5e660-3875-4140-975f-a35099b82b30')\"\n",
              "            title=\"Convert this dataframe to an interactive table.\"\n",
              "            style=\"display:none;\">\n",
              "\n",
              "  <svg xmlns=\"http://www.w3.org/2000/svg\" height=\"24px\" viewBox=\"0 -960 960 960\">\n",
              "    <path d=\"M120-120v-720h720v720H120Zm60-500h600v-160H180v160Zm220 220h160v-160H400v160Zm0 220h160v-160H400v160ZM180-400h160v-160H180v160Zm440 0h160v-160H620v160ZM180-180h160v-160H180v160Zm440 0h160v-160H620v160Z\"/>\n",
              "  </svg>\n",
              "    </button>\n",
              "\n",
              "  <style>\n",
              "    .colab-df-container {\n",
              "      display:flex;\n",
              "      gap: 12px;\n",
              "    }\n",
              "\n",
              "    .colab-df-convert {\n",
              "      background-color: #E8F0FE;\n",
              "      border: none;\n",
              "      border-radius: 50%;\n",
              "      cursor: pointer;\n",
              "      display: none;\n",
              "      fill: #1967D2;\n",
              "      height: 32px;\n",
              "      padding: 0 0 0 0;\n",
              "      width: 32px;\n",
              "    }\n",
              "\n",
              "    .colab-df-convert:hover {\n",
              "      background-color: #E2EBFA;\n",
              "      box-shadow: 0px 1px 2px rgba(60, 64, 67, 0.3), 0px 1px 3px 1px rgba(60, 64, 67, 0.15);\n",
              "      fill: #174EA6;\n",
              "    }\n",
              "\n",
              "    .colab-df-buttons div {\n",
              "      margin-bottom: 4px;\n",
              "    }\n",
              "\n",
              "    [theme=dark] .colab-df-convert {\n",
              "      background-color: #3B4455;\n",
              "      fill: #D2E3FC;\n",
              "    }\n",
              "\n",
              "    [theme=dark] .colab-df-convert:hover {\n",
              "      background-color: #434B5C;\n",
              "      box-shadow: 0px 1px 3px 1px rgba(0, 0, 0, 0.15);\n",
              "      filter: drop-shadow(0px 1px 2px rgba(0, 0, 0, 0.3));\n",
              "      fill: #FFFFFF;\n",
              "    }\n",
              "  </style>\n",
              "\n",
              "    <script>\n",
              "      const buttonEl =\n",
              "        document.querySelector('#df-e7f5e660-3875-4140-975f-a35099b82b30 button.colab-df-convert');\n",
              "      buttonEl.style.display =\n",
              "        google.colab.kernel.accessAllowed ? 'block' : 'none';\n",
              "\n",
              "      async function convertToInteractive(key) {\n",
              "        const element = document.querySelector('#df-e7f5e660-3875-4140-975f-a35099b82b30');\n",
              "        const dataTable =\n",
              "          await google.colab.kernel.invokeFunction('convertToInteractive',\n",
              "                                                    [key], {});\n",
              "        if (!dataTable) return;\n",
              "\n",
              "        const docLinkHtml = 'Like what you see? Visit the ' +\n",
              "          '<a target=\"_blank\" href=https://colab.research.google.com/notebooks/data_table.ipynb>data table notebook</a>'\n",
              "          + ' to learn more about interactive tables.';\n",
              "        element.innerHTML = '';\n",
              "        dataTable['output_type'] = 'display_data';\n",
              "        await google.colab.output.renderOutput(dataTable, element);\n",
              "        const docLink = document.createElement('div');\n",
              "        docLink.innerHTML = docLinkHtml;\n",
              "        element.appendChild(docLink);\n",
              "      }\n",
              "    </script>\n",
              "  </div>\n",
              "\n",
              "\n",
              "<div id=\"df-80892602-231f-4581-ab47-31a946e62648\">\n",
              "  <button class=\"colab-df-quickchart\" onclick=\"quickchart('df-80892602-231f-4581-ab47-31a946e62648')\"\n",
              "            title=\"Suggest charts.\"\n",
              "            style=\"display:none;\">\n",
              "\n",
              "<svg xmlns=\"http://www.w3.org/2000/svg\" height=\"24px\"viewBox=\"0 0 24 24\"\n",
              "     width=\"24px\">\n",
              "    <g>\n",
              "        <path d=\"M19 3H5c-1.1 0-2 .9-2 2v14c0 1.1.9 2 2 2h14c1.1 0 2-.9 2-2V5c0-1.1-.9-2-2-2zM9 17H7v-7h2v7zm4 0h-2V7h2v10zm4 0h-2v-4h2v4z\"/>\n",
              "    </g>\n",
              "</svg>\n",
              "  </button>\n",
              "\n",
              "<style>\n",
              "  .colab-df-quickchart {\n",
              "      --bg-color: #E8F0FE;\n",
              "      --fill-color: #1967D2;\n",
              "      --hover-bg-color: #E2EBFA;\n",
              "      --hover-fill-color: #174EA6;\n",
              "      --disabled-fill-color: #AAA;\n",
              "      --disabled-bg-color: #DDD;\n",
              "  }\n",
              "\n",
              "  [theme=dark] .colab-df-quickchart {\n",
              "      --bg-color: #3B4455;\n",
              "      --fill-color: #D2E3FC;\n",
              "      --hover-bg-color: #434B5C;\n",
              "      --hover-fill-color: #FFFFFF;\n",
              "      --disabled-bg-color: #3B4455;\n",
              "      --disabled-fill-color: #666;\n",
              "  }\n",
              "\n",
              "  .colab-df-quickchart {\n",
              "    background-color: var(--bg-color);\n",
              "    border: none;\n",
              "    border-radius: 50%;\n",
              "    cursor: pointer;\n",
              "    display: none;\n",
              "    fill: var(--fill-color);\n",
              "    height: 32px;\n",
              "    padding: 0;\n",
              "    width: 32px;\n",
              "  }\n",
              "\n",
              "  .colab-df-quickchart:hover {\n",
              "    background-color: var(--hover-bg-color);\n",
              "    box-shadow: 0 1px 2px rgba(60, 64, 67, 0.3), 0 1px 3px 1px rgba(60, 64, 67, 0.15);\n",
              "    fill: var(--button-hover-fill-color);\n",
              "  }\n",
              "\n",
              "  .colab-df-quickchart-complete:disabled,\n",
              "  .colab-df-quickchart-complete:disabled:hover {\n",
              "    background-color: var(--disabled-bg-color);\n",
              "    fill: var(--disabled-fill-color);\n",
              "    box-shadow: none;\n",
              "  }\n",
              "\n",
              "  .colab-df-spinner {\n",
              "    border: 2px solid var(--fill-color);\n",
              "    border-color: transparent;\n",
              "    border-bottom-color: var(--fill-color);\n",
              "    animation:\n",
              "      spin 1s steps(1) infinite;\n",
              "  }\n",
              "\n",
              "  @keyframes spin {\n",
              "    0% {\n",
              "      border-color: transparent;\n",
              "      border-bottom-color: var(--fill-color);\n",
              "      border-left-color: var(--fill-color);\n",
              "    }\n",
              "    20% {\n",
              "      border-color: transparent;\n",
              "      border-left-color: var(--fill-color);\n",
              "      border-top-color: var(--fill-color);\n",
              "    }\n",
              "    30% {\n",
              "      border-color: transparent;\n",
              "      border-left-color: var(--fill-color);\n",
              "      border-top-color: var(--fill-color);\n",
              "      border-right-color: var(--fill-color);\n",
              "    }\n",
              "    40% {\n",
              "      border-color: transparent;\n",
              "      border-right-color: var(--fill-color);\n",
              "      border-top-color: var(--fill-color);\n",
              "    }\n",
              "    60% {\n",
              "      border-color: transparent;\n",
              "      border-right-color: var(--fill-color);\n",
              "    }\n",
              "    80% {\n",
              "      border-color: transparent;\n",
              "      border-right-color: var(--fill-color);\n",
              "      border-bottom-color: var(--fill-color);\n",
              "    }\n",
              "    90% {\n",
              "      border-color: transparent;\n",
              "      border-bottom-color: var(--fill-color);\n",
              "    }\n",
              "  }\n",
              "</style>\n",
              "\n",
              "  <script>\n",
              "    async function quickchart(key) {\n",
              "      const quickchartButtonEl =\n",
              "        document.querySelector('#' + key + ' button');\n",
              "      quickchartButtonEl.disabled = true;  // To prevent multiple clicks.\n",
              "      quickchartButtonEl.classList.add('colab-df-spinner');\n",
              "      try {\n",
              "        const charts = await google.colab.kernel.invokeFunction(\n",
              "            'suggestCharts', [key], {});\n",
              "      } catch (error) {\n",
              "        console.error('Error during call to suggestCharts:', error);\n",
              "      }\n",
              "      quickchartButtonEl.classList.remove('colab-df-spinner');\n",
              "      quickchartButtonEl.classList.add('colab-df-quickchart-complete');\n",
              "    }\n",
              "    (() => {\n",
              "      let quickchartButtonEl =\n",
              "        document.querySelector('#df-80892602-231f-4581-ab47-31a946e62648 button');\n",
              "      quickchartButtonEl.style.display =\n",
              "        google.colab.kernel.accessAllowed ? 'block' : 'none';\n",
              "    })();\n",
              "  </script>\n",
              "</div>\n",
              "    </div>\n",
              "  </div>\n"
            ]
          },
          "metadata": {},
          "execution_count": 50
        }
      ],
      "source": [
        "df1.head()"
      ]
    },
    {
      "cell_type": "code",
      "execution_count": 51,
      "metadata": {
        "id": "Z-svJKHxaBBh"
      },
      "outputs": [],
      "source": [
        "train_bow = df1.iloc[:31962,:]\n",
        "test_bow = df1.iloc[31962:,:]"
      ]
    },
    {
      "cell_type": "code",
      "execution_count": null,
      "metadata": {
        "id": "cL-qabHOowV9"
      },
      "outputs": [],
      "source": []
    },
    {
      "cell_type": "code",
      "execution_count": 52,
      "metadata": {
        "id": "BM02YmFghuAW",
        "colab": {
          "base_uri": "https://localhost:8080/"
        },
        "outputId": "9cb18414-5b32-473c-c797-f7380d7cd669"
      },
      "outputs": [
        {
          "output_type": "execute_result",
          "data": {
            "text/plain": [
              "(17197, 1000)"
            ]
          },
          "metadata": {},
          "execution_count": 52
        }
      ],
      "source": [
        "test_bow.shape"
      ]
    },
    {
      "cell_type": "code",
      "execution_count": 53,
      "metadata": {
        "id": "1LQItR4UJD4-",
        "colab": {
          "base_uri": "https://localhost:8080/"
        },
        "outputId": "c5d6bbea-81b1-40c1-f901-2b7af5976228"
      },
      "outputs": [
        {
          "output_type": "execute_result",
          "data": {
            "text/plain": [
              "pandas.core.frame.DataFrame"
            ]
          },
          "metadata": {},
          "execution_count": 53
        }
      ],
      "source": [
        "type(train_bow)"
      ]
    },
    {
      "cell_type": "markdown",
      "metadata": {
        "id": "eoS0Gg3QW_xQ"
      },
      "source": [
        "## **Data Balancing**\n"
      ]
    },
    {
      "cell_type": "markdown",
      "metadata": {
        "id": "wdWmJHdVRs3B"
      },
      "source": [
        "**By Upsampling**"
      ]
    },
    {
      "cell_type": "code",
      "execution_count": 54,
      "metadata": {
        "id": "e9m244H2nwr0"
      },
      "outputs": [],
      "source": [
        "train_df = pd.concat([train_bow,train_data[\"label\"]],axis = 1)"
      ]
    },
    {
      "cell_type": "code",
      "execution_count": 55,
      "metadata": {
        "id": "AEniPXCXluRx",
        "colab": {
          "base_uri": "https://localhost:8080/",
          "height": 235
        },
        "outputId": "20fe693b-6297-47b0-c8b9-01a4cca48202"
      },
      "outputs": [
        {
          "output_type": "execute_result",
          "data": {
            "text/plain": [
              "   father  kid  run  thanks  cause  offer  bihday  model  love  time  ...  \\\n",
              "0       0    0    0       0      0      0       0      0     0     0  ...   \n",
              "1       0    0    0       0      0      0       0      0     0     0  ...   \n",
              "2       0    0    0       0      0      0       0      0     0     0  ...   \n",
              "3       0    0    0       0      0      0       0      0     0     0  ...   \n",
              "4       0    0    0       0      0      0       0      0     0     0  ...   \n",
              "\n",
              "   man  gif  fit  info  english  link  sound  trending  plus  label  \n",
              "0    0    0    0     0        0     0      0         0     0      0  \n",
              "1    0    0    0     0        0     0      0         0     0      0  \n",
              "2    0    0    0     0        0     0      0         0     0      0  \n",
              "3    0    0    0     0        0     0      0         0     0      0  \n",
              "4    0    0    0     0        0     0      0         0     0      0  \n",
              "\n",
              "[5 rows x 1001 columns]"
            ],
            "text/html": [
              "\n",
              "  <div id=\"df-64eeedf2-7810-4c34-baa6-f7721503fa13\" class=\"colab-df-container\">\n",
              "    <div>\n",
              "<style scoped>\n",
              "    .dataframe tbody tr th:only-of-type {\n",
              "        vertical-align: middle;\n",
              "    }\n",
              "\n",
              "    .dataframe tbody tr th {\n",
              "        vertical-align: top;\n",
              "    }\n",
              "\n",
              "    .dataframe thead th {\n",
              "        text-align: right;\n",
              "    }\n",
              "</style>\n",
              "<table border=\"1\" class=\"dataframe\">\n",
              "  <thead>\n",
              "    <tr style=\"text-align: right;\">\n",
              "      <th></th>\n",
              "      <th>father</th>\n",
              "      <th>kid</th>\n",
              "      <th>run</th>\n",
              "      <th>thanks</th>\n",
              "      <th>cause</th>\n",
              "      <th>offer</th>\n",
              "      <th>bihday</th>\n",
              "      <th>model</th>\n",
              "      <th>love</th>\n",
              "      <th>time</th>\n",
              "      <th>...</th>\n",
              "      <th>man</th>\n",
              "      <th>gif</th>\n",
              "      <th>fit</th>\n",
              "      <th>info</th>\n",
              "      <th>english</th>\n",
              "      <th>link</th>\n",
              "      <th>sound</th>\n",
              "      <th>trending</th>\n",
              "      <th>plus</th>\n",
              "      <th>label</th>\n",
              "    </tr>\n",
              "  </thead>\n",
              "  <tbody>\n",
              "    <tr>\n",
              "      <th>0</th>\n",
              "      <td>0</td>\n",
              "      <td>0</td>\n",
              "      <td>0</td>\n",
              "      <td>0</td>\n",
              "      <td>0</td>\n",
              "      <td>0</td>\n",
              "      <td>0</td>\n",
              "      <td>0</td>\n",
              "      <td>0</td>\n",
              "      <td>0</td>\n",
              "      <td>...</td>\n",
              "      <td>0</td>\n",
              "      <td>0</td>\n",
              "      <td>0</td>\n",
              "      <td>0</td>\n",
              "      <td>0</td>\n",
              "      <td>0</td>\n",
              "      <td>0</td>\n",
              "      <td>0</td>\n",
              "      <td>0</td>\n",
              "      <td>0</td>\n",
              "    </tr>\n",
              "    <tr>\n",
              "      <th>1</th>\n",
              "      <td>0</td>\n",
              "      <td>0</td>\n",
              "      <td>0</td>\n",
              "      <td>0</td>\n",
              "      <td>0</td>\n",
              "      <td>0</td>\n",
              "      <td>0</td>\n",
              "      <td>0</td>\n",
              "      <td>0</td>\n",
              "      <td>0</td>\n",
              "      <td>...</td>\n",
              "      <td>0</td>\n",
              "      <td>0</td>\n",
              "      <td>0</td>\n",
              "      <td>0</td>\n",
              "      <td>0</td>\n",
              "      <td>0</td>\n",
              "      <td>0</td>\n",
              "      <td>0</td>\n",
              "      <td>0</td>\n",
              "      <td>0</td>\n",
              "    </tr>\n",
              "    <tr>\n",
              "      <th>2</th>\n",
              "      <td>0</td>\n",
              "      <td>0</td>\n",
              "      <td>0</td>\n",
              "      <td>0</td>\n",
              "      <td>0</td>\n",
              "      <td>0</td>\n",
              "      <td>0</td>\n",
              "      <td>0</td>\n",
              "      <td>0</td>\n",
              "      <td>0</td>\n",
              "      <td>...</td>\n",
              "      <td>0</td>\n",
              "      <td>0</td>\n",
              "      <td>0</td>\n",
              "      <td>0</td>\n",
              "      <td>0</td>\n",
              "      <td>0</td>\n",
              "      <td>0</td>\n",
              "      <td>0</td>\n",
              "      <td>0</td>\n",
              "      <td>0</td>\n",
              "    </tr>\n",
              "    <tr>\n",
              "      <th>3</th>\n",
              "      <td>0</td>\n",
              "      <td>0</td>\n",
              "      <td>0</td>\n",
              "      <td>0</td>\n",
              "      <td>0</td>\n",
              "      <td>0</td>\n",
              "      <td>0</td>\n",
              "      <td>0</td>\n",
              "      <td>0</td>\n",
              "      <td>0</td>\n",
              "      <td>...</td>\n",
              "      <td>0</td>\n",
              "      <td>0</td>\n",
              "      <td>0</td>\n",
              "      <td>0</td>\n",
              "      <td>0</td>\n",
              "      <td>0</td>\n",
              "      <td>0</td>\n",
              "      <td>0</td>\n",
              "      <td>0</td>\n",
              "      <td>0</td>\n",
              "    </tr>\n",
              "    <tr>\n",
              "      <th>4</th>\n",
              "      <td>0</td>\n",
              "      <td>0</td>\n",
              "      <td>0</td>\n",
              "      <td>0</td>\n",
              "      <td>0</td>\n",
              "      <td>0</td>\n",
              "      <td>0</td>\n",
              "      <td>0</td>\n",
              "      <td>0</td>\n",
              "      <td>0</td>\n",
              "      <td>...</td>\n",
              "      <td>0</td>\n",
              "      <td>0</td>\n",
              "      <td>0</td>\n",
              "      <td>0</td>\n",
              "      <td>0</td>\n",
              "      <td>0</td>\n",
              "      <td>0</td>\n",
              "      <td>0</td>\n",
              "      <td>0</td>\n",
              "      <td>0</td>\n",
              "    </tr>\n",
              "  </tbody>\n",
              "</table>\n",
              "<p>5 rows × 1001 columns</p>\n",
              "</div>\n",
              "    <div class=\"colab-df-buttons\">\n",
              "\n",
              "  <div class=\"colab-df-container\">\n",
              "    <button class=\"colab-df-convert\" onclick=\"convertToInteractive('df-64eeedf2-7810-4c34-baa6-f7721503fa13')\"\n",
              "            title=\"Convert this dataframe to an interactive table.\"\n",
              "            style=\"display:none;\">\n",
              "\n",
              "  <svg xmlns=\"http://www.w3.org/2000/svg\" height=\"24px\" viewBox=\"0 -960 960 960\">\n",
              "    <path d=\"M120-120v-720h720v720H120Zm60-500h600v-160H180v160Zm220 220h160v-160H400v160Zm0 220h160v-160H400v160ZM180-400h160v-160H180v160Zm440 0h160v-160H620v160ZM180-180h160v-160H180v160Zm440 0h160v-160H620v160Z\"/>\n",
              "  </svg>\n",
              "    </button>\n",
              "\n",
              "  <style>\n",
              "    .colab-df-container {\n",
              "      display:flex;\n",
              "      gap: 12px;\n",
              "    }\n",
              "\n",
              "    .colab-df-convert {\n",
              "      background-color: #E8F0FE;\n",
              "      border: none;\n",
              "      border-radius: 50%;\n",
              "      cursor: pointer;\n",
              "      display: none;\n",
              "      fill: #1967D2;\n",
              "      height: 32px;\n",
              "      padding: 0 0 0 0;\n",
              "      width: 32px;\n",
              "    }\n",
              "\n",
              "    .colab-df-convert:hover {\n",
              "      background-color: #E2EBFA;\n",
              "      box-shadow: 0px 1px 2px rgba(60, 64, 67, 0.3), 0px 1px 3px 1px rgba(60, 64, 67, 0.15);\n",
              "      fill: #174EA6;\n",
              "    }\n",
              "\n",
              "    .colab-df-buttons div {\n",
              "      margin-bottom: 4px;\n",
              "    }\n",
              "\n",
              "    [theme=dark] .colab-df-convert {\n",
              "      background-color: #3B4455;\n",
              "      fill: #D2E3FC;\n",
              "    }\n",
              "\n",
              "    [theme=dark] .colab-df-convert:hover {\n",
              "      background-color: #434B5C;\n",
              "      box-shadow: 0px 1px 3px 1px rgba(0, 0, 0, 0.15);\n",
              "      filter: drop-shadow(0px 1px 2px rgba(0, 0, 0, 0.3));\n",
              "      fill: #FFFFFF;\n",
              "    }\n",
              "  </style>\n",
              "\n",
              "    <script>\n",
              "      const buttonEl =\n",
              "        document.querySelector('#df-64eeedf2-7810-4c34-baa6-f7721503fa13 button.colab-df-convert');\n",
              "      buttonEl.style.display =\n",
              "        google.colab.kernel.accessAllowed ? 'block' : 'none';\n",
              "\n",
              "      async function convertToInteractive(key) {\n",
              "        const element = document.querySelector('#df-64eeedf2-7810-4c34-baa6-f7721503fa13');\n",
              "        const dataTable =\n",
              "          await google.colab.kernel.invokeFunction('convertToInteractive',\n",
              "                                                    [key], {});\n",
              "        if (!dataTable) return;\n",
              "\n",
              "        const docLinkHtml = 'Like what you see? Visit the ' +\n",
              "          '<a target=\"_blank\" href=https://colab.research.google.com/notebooks/data_table.ipynb>data table notebook</a>'\n",
              "          + ' to learn more about interactive tables.';\n",
              "        element.innerHTML = '';\n",
              "        dataTable['output_type'] = 'display_data';\n",
              "        await google.colab.output.renderOutput(dataTable, element);\n",
              "        const docLink = document.createElement('div');\n",
              "        docLink.innerHTML = docLinkHtml;\n",
              "        element.appendChild(docLink);\n",
              "      }\n",
              "    </script>\n",
              "  </div>\n",
              "\n",
              "\n",
              "<div id=\"df-6ac6d08f-49b0-472b-962b-8ee05f4bfbdd\">\n",
              "  <button class=\"colab-df-quickchart\" onclick=\"quickchart('df-6ac6d08f-49b0-472b-962b-8ee05f4bfbdd')\"\n",
              "            title=\"Suggest charts.\"\n",
              "            style=\"display:none;\">\n",
              "\n",
              "<svg xmlns=\"http://www.w3.org/2000/svg\" height=\"24px\"viewBox=\"0 0 24 24\"\n",
              "     width=\"24px\">\n",
              "    <g>\n",
              "        <path d=\"M19 3H5c-1.1 0-2 .9-2 2v14c0 1.1.9 2 2 2h14c1.1 0 2-.9 2-2V5c0-1.1-.9-2-2-2zM9 17H7v-7h2v7zm4 0h-2V7h2v10zm4 0h-2v-4h2v4z\"/>\n",
              "    </g>\n",
              "</svg>\n",
              "  </button>\n",
              "\n",
              "<style>\n",
              "  .colab-df-quickchart {\n",
              "      --bg-color: #E8F0FE;\n",
              "      --fill-color: #1967D2;\n",
              "      --hover-bg-color: #E2EBFA;\n",
              "      --hover-fill-color: #174EA6;\n",
              "      --disabled-fill-color: #AAA;\n",
              "      --disabled-bg-color: #DDD;\n",
              "  }\n",
              "\n",
              "  [theme=dark] .colab-df-quickchart {\n",
              "      --bg-color: #3B4455;\n",
              "      --fill-color: #D2E3FC;\n",
              "      --hover-bg-color: #434B5C;\n",
              "      --hover-fill-color: #FFFFFF;\n",
              "      --disabled-bg-color: #3B4455;\n",
              "      --disabled-fill-color: #666;\n",
              "  }\n",
              "\n",
              "  .colab-df-quickchart {\n",
              "    background-color: var(--bg-color);\n",
              "    border: none;\n",
              "    border-radius: 50%;\n",
              "    cursor: pointer;\n",
              "    display: none;\n",
              "    fill: var(--fill-color);\n",
              "    height: 32px;\n",
              "    padding: 0;\n",
              "    width: 32px;\n",
              "  }\n",
              "\n",
              "  .colab-df-quickchart:hover {\n",
              "    background-color: var(--hover-bg-color);\n",
              "    box-shadow: 0 1px 2px rgba(60, 64, 67, 0.3), 0 1px 3px 1px rgba(60, 64, 67, 0.15);\n",
              "    fill: var(--button-hover-fill-color);\n",
              "  }\n",
              "\n",
              "  .colab-df-quickchart-complete:disabled,\n",
              "  .colab-df-quickchart-complete:disabled:hover {\n",
              "    background-color: var(--disabled-bg-color);\n",
              "    fill: var(--disabled-fill-color);\n",
              "    box-shadow: none;\n",
              "  }\n",
              "\n",
              "  .colab-df-spinner {\n",
              "    border: 2px solid var(--fill-color);\n",
              "    border-color: transparent;\n",
              "    border-bottom-color: var(--fill-color);\n",
              "    animation:\n",
              "      spin 1s steps(1) infinite;\n",
              "  }\n",
              "\n",
              "  @keyframes spin {\n",
              "    0% {\n",
              "      border-color: transparent;\n",
              "      border-bottom-color: var(--fill-color);\n",
              "      border-left-color: var(--fill-color);\n",
              "    }\n",
              "    20% {\n",
              "      border-color: transparent;\n",
              "      border-left-color: var(--fill-color);\n",
              "      border-top-color: var(--fill-color);\n",
              "    }\n",
              "    30% {\n",
              "      border-color: transparent;\n",
              "      border-left-color: var(--fill-color);\n",
              "      border-top-color: var(--fill-color);\n",
              "      border-right-color: var(--fill-color);\n",
              "    }\n",
              "    40% {\n",
              "      border-color: transparent;\n",
              "      border-right-color: var(--fill-color);\n",
              "      border-top-color: var(--fill-color);\n",
              "    }\n",
              "    60% {\n",
              "      border-color: transparent;\n",
              "      border-right-color: var(--fill-color);\n",
              "    }\n",
              "    80% {\n",
              "      border-color: transparent;\n",
              "      border-right-color: var(--fill-color);\n",
              "      border-bottom-color: var(--fill-color);\n",
              "    }\n",
              "    90% {\n",
              "      border-color: transparent;\n",
              "      border-bottom-color: var(--fill-color);\n",
              "    }\n",
              "  }\n",
              "</style>\n",
              "\n",
              "  <script>\n",
              "    async function quickchart(key) {\n",
              "      const quickchartButtonEl =\n",
              "        document.querySelector('#' + key + ' button');\n",
              "      quickchartButtonEl.disabled = true;  // To prevent multiple clicks.\n",
              "      quickchartButtonEl.classList.add('colab-df-spinner');\n",
              "      try {\n",
              "        const charts = await google.colab.kernel.invokeFunction(\n",
              "            'suggestCharts', [key], {});\n",
              "      } catch (error) {\n",
              "        console.error('Error during call to suggestCharts:', error);\n",
              "      }\n",
              "      quickchartButtonEl.classList.remove('colab-df-spinner');\n",
              "      quickchartButtonEl.classList.add('colab-df-quickchart-complete');\n",
              "    }\n",
              "    (() => {\n",
              "      let quickchartButtonEl =\n",
              "        document.querySelector('#df-6ac6d08f-49b0-472b-962b-8ee05f4bfbdd button');\n",
              "      quickchartButtonEl.style.display =\n",
              "        google.colab.kernel.accessAllowed ? 'block' : 'none';\n",
              "    })();\n",
              "  </script>\n",
              "</div>\n",
              "    </div>\n",
              "  </div>\n"
            ]
          },
          "metadata": {},
          "execution_count": 55
        }
      ],
      "source": [
        "train_df.head()"
      ]
    },
    {
      "cell_type": "code",
      "execution_count": 56,
      "metadata": {
        "id": "F4kD_LkCdxH4",
        "colab": {
          "base_uri": "https://localhost:8080/"
        },
        "outputId": "b67df761-105d-4bad-d792-5375a37584a6"
      },
      "outputs": [
        {
          "output_type": "execute_result",
          "data": {
            "text/plain": [
              "(31962, 1001)"
            ]
          },
          "metadata": {},
          "execution_count": 56
        }
      ],
      "source": [
        "train_df.shape"
      ]
    },
    {
      "cell_type": "code",
      "execution_count": 57,
      "metadata": {
        "id": "8e_noERYXDy9",
        "colab": {
          "base_uri": "https://localhost:8080/"
        },
        "outputId": "241fa5e4-1454-4ed0-a222-e3a54c8b537d"
      },
      "outputs": [
        {
          "output_type": "execute_result",
          "data": {
            "text/plain": [
              "0.0    29720\n",
              "1.0     2242\n",
              "Name: label, dtype: int64"
            ]
          },
          "metadata": {},
          "execution_count": 57
        }
      ],
      "source": [
        "df[\"label\"].value_counts()"
      ]
    },
    {
      "cell_type": "code",
      "execution_count": 58,
      "metadata": {
        "id": "48LMQomXUoob"
      },
      "outputs": [],
      "source": [
        "possitive_tweet = train_df[train_df[\"label\"] == 1.0]\n",
        "negative_tweet  = train_df[train_df[\"label\"] == 0.0]"
      ]
    },
    {
      "cell_type": "code",
      "execution_count": 59,
      "metadata": {
        "id": "wjPeh-kaUxQX",
        "colab": {
          "base_uri": "https://localhost:8080/"
        },
        "outputId": "bf0888c3-c39c-40aa-9ace-1a0ec9a92d40"
      },
      "outputs": [
        {
          "output_type": "stream",
          "name": "stdout",
          "text": [
            "(29720, 1001)\n"
          ]
        }
      ],
      "source": [
        "from sklearn.utils import resample\n",
        "tweet_upsample = resample(possitive_tweet,n_samples=len(negative_tweet),random_state=42)\n",
        "\n",
        "print(tweet_upsample.shape)"
      ]
    },
    {
      "cell_type": "code",
      "execution_count": 60,
      "metadata": {
        "id": "v_VbgOyeR2-t",
        "colab": {
          "base_uri": "https://localhost:8080/"
        },
        "outputId": "20e95463-3e13-4b02-8fa2-3fdef6cdecdd"
      },
      "outputs": [
        {
          "output_type": "stream",
          "name": "stdout",
          "text": [
            "(29720, 1001)\n"
          ]
        }
      ],
      "source": [
        "from sklearn.utils import resample\n",
        "tweet_upsample = resample(possitive_tweet,replace=True,n_samples=len(negative_tweet),random_state=42)\n",
        "\n",
        "print(tweet_upsample.shape)"
      ]
    },
    {
      "cell_type": "code",
      "execution_count": 61,
      "metadata": {
        "id": "0iRGkYpmYkLQ",
        "colab": {
          "base_uri": "https://localhost:8080/",
          "height": 475
        },
        "outputId": "8c1cc49a-6549-4ee9-ffe0-beaa73d5ab3a"
      },
      "outputs": [
        {
          "output_type": "stream",
          "name": "stdout",
          "text": [
            "0    29720\n",
            "1    29720\n",
            "Name: label, dtype: int64\n"
          ]
        },
        {
          "output_type": "execute_result",
          "data": {
            "text/plain": [
              "<Axes: ylabel='Type'>"
            ]
          },
          "metadata": {},
          "execution_count": 61
        },
        {
          "output_type": "display_data",
          "data": {
            "text/plain": [
              "<Figure size 640x480 with 1 Axes>"
            ],
            "image/png": "[encoded data removed]"
          },
          "metadata": {}
        }
      ],
      "source": [
        "data_upsampled = pd.concat([negative_tweet, tweet_upsample])\n",
        "\n",
        "print(data_upsampled[\"label\"].value_counts())\n",
        "\n",
        "data_upsampled.groupby('label').size().plot(kind='pie',\n",
        "                                       y = \"v1\",\n",
        "                                       label = \"Type\",\n",
        "                                       autopct='%1.1f%%')"
      ]
    },
    {
      "cell_type": "markdown",
      "metadata": {
        "id": "H8VC5AOaW4_K"
      },
      "source": [
        "## **Model Fitting**"
      ]
    },
    {
      "cell_type": "code",
      "execution_count": 62,
      "metadata": {
        "id": "w7Qrig-3DpwD"
      },
      "outputs": [],
      "source": [
        "from sklearn.model_selection import train_test_split\n",
        "\n",
        "x = data_upsampled.drop(\"label\", axis='columns')\n",
        "y = data_upsampled[\"label\"]\n",
        "\n",
        "# splitting data into training and validation set\n",
        "#x_train, x_test, y_train, y_test = train_test_split(x,y, random_state=42, test_size=0.20)"
      ]
    },
    {
      "cell_type": "code",
      "execution_count": 63,
      "metadata": {
        "id": "5sBVV5BE13ny"
      },
      "outputs": [],
      "source": [
        "# splitting data into training, testing and validation set\n",
        "X_train, X_test, y_train, y_test = train_test_split(x, y, test_size=0.1, random_state=0)\n",
        "\n",
        "X_train, X_val, y_train, y_val = train_test_split(X_train, y_train, test_size=0.1, random_state=0)"
      ]
    },
    {
      "cell_type": "code",
      "execution_count": 64,
      "metadata": {
        "id": "yHLE2nw1zWqY"
      },
      "outputs": [],
      "source": [
        "# X_train.to_csv(\"x_train_csv\",index = False)\n",
        "# X_test.to_csv(\"x_test_csv\", index = False)\n",
        "# X_val.to_csv(\"x_val_csv\", index = False)\n",
        "# y_train.to_csv(\"y_train_csv\", index = False)\n",
        "# y_test.to_csv(\"y_test_csv\", index = False)\n",
        "# y_val.to_csv(\"y_val_csv\", index = False)"
      ]
    },
    {
      "cell_type": "code",
      "execution_count": 65,
      "metadata": {
        "id": "c-DF6FjN0E1K"
      },
      "outputs": [],
      "source": [
        "# test_bow.to_csv(\"inferance_data\", index = False)"
      ]
    },
    {
      "cell_type": "markdown",
      "metadata": {
        "id": "EWr0cvSQ0O4z"
      },
      "source": [
        "**1.Logistic Regression by using Upsampling**\n",
        "\n"
      ]
    },
    {
      "cell_type": "code",
      "execution_count": 66,
      "metadata": {
        "id": "ftWvpUrmZV73",
        "colab": {
          "base_uri": "https://localhost:8080/"
        },
        "outputId": "4b10b83b-3cdf-4513-b265-ae2c0f82c572"
      },
      "outputs": [
        {
          "output_type": "stream",
          "name": "stderr",
          "text": [
            "/usr/local/lib/python3.10/dist-packages/sklearn/linear_model/_logistic.py:458: ConvergenceWarning: lbfgs failed to converge (status=1):\n",
            "STOP: TOTAL NO. of ITERATIONS REACHED LIMIT.\n",
            "\n",
            "Increase the number of iterations (max_iter) or scale the data as shown in:\n",
            "    https://scikit-learn.org/stable/modules/preprocessing.html\n",
            "Please also refer to the documentation for alternative solver options:\n",
            "    https://scikit-learn.org/stable/modules/linear_model.html#logistic-regression\n",
            "  n_iter_i = _check_optimize_result(\n"
          ]
        },
        {
          "output_type": "stream",
          "name": "stdout",
          "text": [
            "0.8772991151107521\n"
          ]
        },
        {
          "output_type": "stream",
          "name": "stderr",
          "text": [
            "<ipython-input-66-4f46bd502cbf>:15: DeprecationWarning: `np.int` is a deprecated alias for the builtin `int`. To silence this warning, use `int` by itself. Doing this will not modify any behavior and is safe. When replacing `np.int`, you may wish to use e.g. `np.int64` or `np.int32` to specify the precision. If you wish to review your current use, check the release note link for additional information.\n",
            "Deprecated in NumPy 1.20; for more details and guidance: https://numpy.org/devdocs/release/1.20.0-notes.html#deprecations\n",
            "  prediction_int_train = prediction_int_train.astype(np.int)\n",
            "<ipython-input-66-4f46bd502cbf>:21: DeprecationWarning: `np.int` is a deprecated alias for the builtin `int`. To silence this warning, use `int` by itself. Doing this will not modify any behavior and is safe. When replacing `np.int`, you may wish to use e.g. `np.int64` or `np.int32` to specify the precision. If you wish to review your current use, check the release note link for additional information.\n",
            "Deprecated in NumPy 1.20; for more details and guidance: https://numpy.org/devdocs/release/1.20.0-notes.html#deprecations\n",
            "  prediction_int = prediction_int.astype(np.int)\n"
          ]
        },
        {
          "output_type": "execute_result",
          "data": {
            "text/plain": [
              "0.8782660332541569"
            ]
          },
          "metadata": {},
          "execution_count": 66
        }
      ],
      "source": [
        "from sklearn.linear_model import LogisticRegression\n",
        "from sklearn.model_selection import train_test_split\n",
        "from sklearn.metrics import f1_score\n",
        "\n",
        "x = data_upsampled.drop(\"label\", axis='columns')\n",
        "y = data_upsampled[\"label\"]\n",
        "\n",
        "# splitting data into training and validation set\n",
        "x_train, x_test, y_train, y_test = train_test_split(x,y, random_state=42, test_size=0.20)\n",
        "\n",
        "lreg = LogisticRegression()\n",
        "lreg.fit(x_train, y_train) # training the model\n",
        "prediction = lreg.predict_proba(x_train)\n",
        "prediction_int_train = prediction[:,1] >= 0.3 # if prediction is greater than or equal to 0.3 than 1 else 0\n",
        "prediction_int_train = prediction_int_train.astype(np.int)\n",
        "\n",
        "print(f1_score(y_train, prediction_int_train))\n",
        "\n",
        "prediction = lreg.predict_proba(x_test) # predicting on the validation set\n",
        "prediction_int = prediction[:,1] >= 0.3 # if prediction is greater than or equal to 0.3 than 1 else 0\n",
        "prediction_int = prediction_int.astype(np.int)\n",
        "\n",
        "f1_score(y_test, prediction_int) # calculating f1 score"
      ]
    },
    {
      "cell_type": "markdown",
      "metadata": {
        "id": "nDhYKrhtXPYF"
      },
      "source": [
        "**2. Random Forest**"
      ]
    },
    {
      "cell_type": "code",
      "execution_count": 68,
      "metadata": {
        "id": "PwUGiqYKZTdh",
        "colab": {
          "base_uri": "https://localhost:8080/",
          "height": 390
        },
        "outputId": "552cac36-b167-4723-ea1a-a4c6647b00e7"
      },
      "outputs": [
        {
          "output_type": "error",
          "ename": "KeyboardInterrupt",
          "evalue": "ignored",
          "traceback": [
            "\u001b[0;31m---------------------------------------------------------------------------\u001b[0m",
            "\u001b[0;31mKeyboardInterrupt\u001b[0m                         Traceback (most recent call last)",
            "\u001b[0;32m<ipython-input-68-9e6e8b88cb96>\u001b[0m in \u001b[0;36m<cell line: 2>\u001b[0;34m()\u001b[0m\n\u001b[1;32m      1\u001b[0m \u001b[0;32mfrom\u001b[0m \u001b[0msklearn\u001b[0m\u001b[0;34m.\u001b[0m\u001b[0mensemble\u001b[0m \u001b[0;32mimport\u001b[0m \u001b[0mRandomForestClassifier\u001b[0m\u001b[0;34m\u001b[0m\u001b[0;34m\u001b[0m\u001b[0m\n\u001b[0;32m----> 2\u001b[0;31m \u001b[0mrf\u001b[0m \u001b[0;34m=\u001b[0m \u001b[0mRandomForestClassifier\u001b[0m\u001b[0;34m(\u001b[0m\u001b[0mn_estimators\u001b[0m\u001b[0;34m=\u001b[0m\u001b[0;36m1000\u001b[0m\u001b[0;34m,\u001b[0m\u001b[0mmax_depth\u001b[0m\u001b[0;34m=\u001b[0m\u001b[0;36m100\u001b[0m\u001b[0;34m,\u001b[0m\u001b[0mrandom_state\u001b[0m\u001b[0;34m=\u001b[0m\u001b[0;36m0\u001b[0m\u001b[0;34m)\u001b[0m\u001b[0;34m.\u001b[0m\u001b[0mfit\u001b[0m\u001b[0;34m(\u001b[0m\u001b[0mx_train\u001b[0m\u001b[0;34m,\u001b[0m \u001b[0my_train\u001b[0m\u001b[0;34m)\u001b[0m\u001b[0;34m\u001b[0m\u001b[0;34m\u001b[0m\u001b[0m\n\u001b[0m\u001b[1;32m      3\u001b[0m \u001b[0mtrain_pred\u001b[0m \u001b[0;34m=\u001b[0m \u001b[0mrf\u001b[0m\u001b[0;34m.\u001b[0m\u001b[0mpredict\u001b[0m\u001b[0;34m(\u001b[0m\u001b[0mx_train\u001b[0m\u001b[0;34m)\u001b[0m\u001b[0;34m\u001b[0m\u001b[0;34m\u001b[0m\u001b[0m\n\u001b[1;32m      4\u001b[0m \u001b[0mprediction\u001b[0m \u001b[0;34m=\u001b[0m \u001b[0mrf\u001b[0m\u001b[0;34m.\u001b[0m\u001b[0mpredict\u001b[0m\u001b[0;34m(\u001b[0m\u001b[0mx_test\u001b[0m\u001b[0;34m)\u001b[0m\u001b[0;34m\u001b[0m\u001b[0;34m\u001b[0m\u001b[0m\n\u001b[1;32m      5\u001b[0m \u001b[0mprint\u001b[0m\u001b[0;34m(\u001b[0m\u001b[0mf1_score\u001b[0m\u001b[0;34m(\u001b[0m\u001b[0my_train\u001b[0m\u001b[0;34m,\u001b[0m \u001b[0mtrain_pred\u001b[0m\u001b[0;34m)\u001b[0m\u001b[0;34m)\u001b[0m\u001b[0;34m\u001b[0m\u001b[0;34m\u001b[0m\u001b[0m\n",
            "\u001b[0;32m/usr/local/lib/python3.10/dist-packages/sklearn/ensemble/_forest.py\u001b[0m in \u001b[0;36mfit\u001b[0;34m(self, X, y, sample_weight)\u001b[0m\n\u001b[1;32m    471\u001b[0m             \u001b[0;31m# parallel_backend contexts set at a higher level,\u001b[0m\u001b[0;34m\u001b[0m\u001b[0;34m\u001b[0m\u001b[0m\n\u001b[1;32m    472\u001b[0m             \u001b[0;31m# since correctness does not rely on using threads.\u001b[0m\u001b[0;34m\u001b[0m\u001b[0;34m\u001b[0m\u001b[0m\n\u001b[0;32m--> 473\u001b[0;31m             trees = Parallel(\n\u001b[0m\u001b[1;32m    474\u001b[0m                 \u001b[0mn_jobs\u001b[0m\u001b[0;34m=\u001b[0m\u001b[0mself\u001b[0m\u001b[0;34m.\u001b[0m\u001b[0mn_jobs\u001b[0m\u001b[0;34m,\u001b[0m\u001b[0;34m\u001b[0m\u001b[0;34m\u001b[0m\u001b[0m\n\u001b[1;32m    475\u001b[0m                 \u001b[0mverbose\u001b[0m\u001b[0;34m=\u001b[0m\u001b[0mself\u001b[0m\u001b[0;34m.\u001b[0m\u001b[0mverbose\u001b[0m\u001b[0;34m,\u001b[0m\u001b[0;34m\u001b[0m\u001b[0;34m\u001b[0m\u001b[0m\n",
            "\u001b[0;32m/usr/local/lib/python3.10/dist-packages/sklearn/utils/parallel.py\u001b[0m in \u001b[0;36m__call__\u001b[0;34m(self, iterable)\u001b[0m\n\u001b[1;32m     61\u001b[0m             \u001b[0;32mfor\u001b[0m \u001b[0mdelayed_func\u001b[0m\u001b[0;34m,\u001b[0m \u001b[0margs\u001b[0m\u001b[0;34m,\u001b[0m \u001b[0mkwargs\u001b[0m \u001b[0;32min\u001b[0m \u001b[0miterable\u001b[0m\u001b[0;34m\u001b[0m\u001b[0;34m\u001b[0m\u001b[0m\n\u001b[1;32m     62\u001b[0m         )\n\u001b[0;32m---> 63\u001b[0;31m         \u001b[0;32mreturn\u001b[0m \u001b[0msuper\u001b[0m\u001b[0;34m(\u001b[0m\u001b[0;34m)\u001b[0m\u001b[0;34m.\u001b[0m\u001b[0m__call__\u001b[0m\u001b[0;34m(\u001b[0m\u001b[0miterable_with_config\u001b[0m\u001b[0;34m)\u001b[0m\u001b[0;34m\u001b[0m\u001b[0;34m\u001b[0m\u001b[0m\n\u001b[0m\u001b[1;32m     64\u001b[0m \u001b[0;34m\u001b[0m\u001b[0m\n\u001b[1;32m     65\u001b[0m \u001b[0;34m\u001b[0m\u001b[0m\n",
            "\u001b[0;32m/usr/local/lib/python3.10/dist-packages/joblib/parallel.py\u001b[0m in \u001b[0;36m__call__\u001b[0;34m(self, iterable)\u001b[0m\n\u001b[1;32m   1861\u001b[0m             \u001b[0moutput\u001b[0m \u001b[0;34m=\u001b[0m \u001b[0mself\u001b[0m\u001b[0;34m.\u001b[0m\u001b[0m_get_sequential_output\u001b[0m\u001b[0;34m(\u001b[0m\u001b[0miterable\u001b[0m\u001b[0;34m)\u001b[0m\u001b[0;34m\u001b[0m\u001b[0;34m\u001b[0m\u001b[0m\n\u001b[1;32m   1862\u001b[0m             \u001b[0mnext\u001b[0m\u001b[0;34m(\u001b[0m\u001b[0moutput\u001b[0m\u001b[0;34m)\u001b[0m\u001b[0;34m\u001b[0m\u001b[0;34m\u001b[0m\u001b[0m\n\u001b[0;32m-> 1863\u001b[0;31m             \u001b[0;32mreturn\u001b[0m \u001b[0moutput\u001b[0m \u001b[0;32mif\u001b[0m \u001b[0mself\u001b[0m\u001b[0;34m.\u001b[0m\u001b[0mreturn_generator\u001b[0m \u001b[0;32melse\u001b[0m \u001b[0mlist\u001b[0m\u001b[0;34m(\u001b[0m\u001b[0moutput\u001b[0m\u001b[0;34m)\u001b[0m\u001b[0;34m\u001b[0m\u001b[0;34m\u001b[0m\u001b[0m\n\u001b[0m\u001b[1;32m   1864\u001b[0m \u001b[0;34m\u001b[0m\u001b[0m\n\u001b[1;32m   1865\u001b[0m         \u001b[0;31m# Let's create an ID that uniquely identifies the current call. If the\u001b[0m\u001b[0;34m\u001b[0m\u001b[0;34m\u001b[0m\u001b[0m\n",
            "\u001b[0;32m/usr/local/lib/python3.10/dist-packages/joblib/parallel.py\u001b[0m in \u001b[0;36m_get_sequential_output\u001b[0;34m(self, iterable)\u001b[0m\n\u001b[1;32m   1790\u001b[0m                 \u001b[0mself\u001b[0m\u001b[0;34m.\u001b[0m\u001b[0mn_dispatched_batches\u001b[0m \u001b[0;34m+=\u001b[0m \u001b[0;36m1\u001b[0m\u001b[0;34m\u001b[0m\u001b[0;34m\u001b[0m\u001b[0m\n\u001b[1;32m   1791\u001b[0m                 \u001b[0mself\u001b[0m\u001b[0;34m.\u001b[0m\u001b[0mn_dispatched_tasks\u001b[0m \u001b[0;34m+=\u001b[0m \u001b[0;36m1\u001b[0m\u001b[0;34m\u001b[0m\u001b[0;34m\u001b[0m\u001b[0m\n\u001b[0;32m-> 1792\u001b[0;31m                 \u001b[0mres\u001b[0m \u001b[0;34m=\u001b[0m \u001b[0mfunc\u001b[0m\u001b[0;34m(\u001b[0m\u001b[0;34m*\u001b[0m\u001b[0margs\u001b[0m\u001b[0;34m,\u001b[0m \u001b[0;34m**\u001b[0m\u001b[0mkwargs\u001b[0m\u001b[0;34m)\u001b[0m\u001b[0;34m\u001b[0m\u001b[0;34m\u001b[0m\u001b[0m\n\u001b[0m\u001b[1;32m   1793\u001b[0m                 \u001b[0mself\u001b[0m\u001b[0;34m.\u001b[0m\u001b[0mn_completed_tasks\u001b[0m \u001b[0;34m+=\u001b[0m \u001b[0;36m1\u001b[0m\u001b[0;34m\u001b[0m\u001b[0;34m\u001b[0m\u001b[0m\n\u001b[1;32m   1794\u001b[0m                 \u001b[0mself\u001b[0m\u001b[0;34m.\u001b[0m\u001b[0mprint_progress\u001b[0m\u001b[0;34m(\u001b[0m\u001b[0;34m)\u001b[0m\u001b[0;34m\u001b[0m\u001b[0;34m\u001b[0m\u001b[0m\n",
            "\u001b[0;32m/usr/local/lib/python3.10/dist-packages/sklearn/utils/parallel.py\u001b[0m in \u001b[0;36m__call__\u001b[0;34m(self, *args, **kwargs)\u001b[0m\n\u001b[1;32m    121\u001b[0m             \u001b[0mconfig\u001b[0m \u001b[0;34m=\u001b[0m \u001b[0;34m{\u001b[0m\u001b[0;34m}\u001b[0m\u001b[0;34m\u001b[0m\u001b[0;34m\u001b[0m\u001b[0m\n\u001b[1;32m    122\u001b[0m         \u001b[0;32mwith\u001b[0m \u001b[0mconfig_context\u001b[0m\u001b[0;34m(\u001b[0m\u001b[0;34m**\u001b[0m\u001b[0mconfig\u001b[0m\u001b[0;34m)\u001b[0m\u001b[0;34m:\u001b[0m\u001b[0;34m\u001b[0m\u001b[0;34m\u001b[0m\u001b[0m\n\u001b[0;32m--> 123\u001b[0;31m             \u001b[0;32mreturn\u001b[0m \u001b[0mself\u001b[0m\u001b[0;34m.\u001b[0m\u001b[0mfunction\u001b[0m\u001b[0;34m(\u001b[0m\u001b[0;34m*\u001b[0m\u001b[0margs\u001b[0m\u001b[0;34m,\u001b[0m \u001b[0;34m**\u001b[0m\u001b[0mkwargs\u001b[0m\u001b[0;34m)\u001b[0m\u001b[0;34m\u001b[0m\u001b[0;34m\u001b[0m\u001b[0m\n\u001b[0m",
            "\u001b[0;32m/usr/local/lib/python3.10/dist-packages/sklearn/ensemble/_forest.py\u001b[0m in \u001b[0;36m_parallel_build_trees\u001b[0;34m(tree, bootstrap, X, y, sample_weight, tree_idx, n_trees, verbose, class_weight, n_samples_bootstrap)\u001b[0m\n\u001b[1;32m    182\u001b[0m             \u001b[0mcurr_sample_weight\u001b[0m \u001b[0;34m*=\u001b[0m \u001b[0mcompute_sample_weight\u001b[0m\u001b[0;34m(\u001b[0m\u001b[0;34m\"balanced\"\u001b[0m\u001b[0;34m,\u001b[0m \u001b[0my\u001b[0m\u001b[0;34m,\u001b[0m \u001b[0mindices\u001b[0m\u001b[0;34m=\u001b[0m\u001b[0mindices\u001b[0m\u001b[0;34m)\u001b[0m\u001b[0;34m\u001b[0m\u001b[0;34m\u001b[0m\u001b[0m\n\u001b[1;32m    183\u001b[0m \u001b[0;34m\u001b[0m\u001b[0m\n\u001b[0;32m--> 184\u001b[0;31m         \u001b[0mtree\u001b[0m\u001b[0;34m.\u001b[0m\u001b[0mfit\u001b[0m\u001b[0;34m(\u001b[0m\u001b[0mX\u001b[0m\u001b[0;34m,\u001b[0m \u001b[0my\u001b[0m\u001b[0;34m,\u001b[0m \u001b[0msample_weight\u001b[0m\u001b[0;34m=\u001b[0m\u001b[0mcurr_sample_weight\u001b[0m\u001b[0;34m,\u001b[0m \u001b[0mcheck_input\u001b[0m\u001b[0;34m=\u001b[0m\u001b[0;32mFalse\u001b[0m\u001b[0;34m)\u001b[0m\u001b[0;34m\u001b[0m\u001b[0;34m\u001b[0m\u001b[0m\n\u001b[0m\u001b[1;32m    185\u001b[0m     \u001b[0;32melse\u001b[0m\u001b[0;34m:\u001b[0m\u001b[0;34m\u001b[0m\u001b[0;34m\u001b[0m\u001b[0m\n\u001b[1;32m    186\u001b[0m         \u001b[0mtree\u001b[0m\u001b[0;34m.\u001b[0m\u001b[0mfit\u001b[0m\u001b[0;34m(\u001b[0m\u001b[0mX\u001b[0m\u001b[0;34m,\u001b[0m \u001b[0my\u001b[0m\u001b[0;34m,\u001b[0m \u001b[0msample_weight\u001b[0m\u001b[0;34m=\u001b[0m\u001b[0msample_weight\u001b[0m\u001b[0;34m,\u001b[0m \u001b[0mcheck_input\u001b[0m\u001b[0;34m=\u001b[0m\u001b[0;32mFalse\u001b[0m\u001b[0;34m)\u001b[0m\u001b[0;34m\u001b[0m\u001b[0;34m\u001b[0m\u001b[0m\n",
            "\u001b[0;32m/usr/local/lib/python3.10/dist-packages/sklearn/tree/_classes.py\u001b[0m in \u001b[0;36mfit\u001b[0;34m(self, X, y, sample_weight, check_input)\u001b[0m\n\u001b[1;32m    887\u001b[0m         \"\"\"\n\u001b[1;32m    888\u001b[0m \u001b[0;34m\u001b[0m\u001b[0m\n\u001b[0;32m--> 889\u001b[0;31m         super().fit(\n\u001b[0m\u001b[1;32m    890\u001b[0m             \u001b[0mX\u001b[0m\u001b[0;34m,\u001b[0m\u001b[0;34m\u001b[0m\u001b[0;34m\u001b[0m\u001b[0m\n\u001b[1;32m    891\u001b[0m             \u001b[0my\u001b[0m\u001b[0;34m,\u001b[0m\u001b[0;34m\u001b[0m\u001b[0;34m\u001b[0m\u001b[0m\n",
            "\u001b[0;32m/usr/local/lib/python3.10/dist-packages/sklearn/tree/_classes.py\u001b[0m in \u001b[0;36mfit\u001b[0;34m(self, X, y, sample_weight, check_input)\u001b[0m\n\u001b[1;32m    377\u001b[0m             )\n\u001b[1;32m    378\u001b[0m \u001b[0;34m\u001b[0m\u001b[0m\n\u001b[0;32m--> 379\u001b[0;31m         \u001b[0mbuilder\u001b[0m\u001b[0;34m.\u001b[0m\u001b[0mbuild\u001b[0m\u001b[0;34m(\u001b[0m\u001b[0mself\u001b[0m\u001b[0;34m.\u001b[0m\u001b[0mtree_\u001b[0m\u001b[0;34m,\u001b[0m \u001b[0mX\u001b[0m\u001b[0;34m,\u001b[0m \u001b[0my\u001b[0m\u001b[0;34m,\u001b[0m \u001b[0msample_weight\u001b[0m\u001b[0;34m)\u001b[0m\u001b[0;34m\u001b[0m\u001b[0;34m\u001b[0m\u001b[0m\n\u001b[0m\u001b[1;32m    380\u001b[0m \u001b[0;34m\u001b[0m\u001b[0m\n\u001b[1;32m    381\u001b[0m         \u001b[0;32mif\u001b[0m \u001b[0mself\u001b[0m\u001b[0;34m.\u001b[0m\u001b[0mn_outputs_\u001b[0m \u001b[0;34m==\u001b[0m \u001b[0;36m1\u001b[0m \u001b[0;32mand\u001b[0m \u001b[0mis_classifier\u001b[0m\u001b[0;34m(\u001b[0m\u001b[0mself\u001b[0m\u001b[0;34m)\u001b[0m\u001b[0;34m:\u001b[0m\u001b[0;34m\u001b[0m\u001b[0;34m\u001b[0m\u001b[0m\n",
            "\u001b[0;31mKeyboardInterrupt\u001b[0m: "
          ]
        }
      ],
      "source": [
        "from sklearn.ensemble import RandomForestClassifier\n",
        "rf = RandomForestClassifier(n_estimators=1000,max_depth=100,random_state=0).fit(x_train, y_train)\n",
        "train_pred = rf.predict(x_train)\n",
        "prediction = rf.predict(x_test)\n",
        "print(f1_score(y_train, train_pred))\n",
        "print(f1_score(y_test, prediction))"
      ]
    },
    {
      "cell_type": "markdown",
      "source": [
        "**Confussion Matrix On Test Data**"
      ],
      "metadata": {
        "id": "tG-fWj_GR7s4"
      }
    },
    {
      "cell_type": "code",
      "source": [
        "from sklearn.metrics import confusion_matrix\n",
        "from sklearn.metrics import accuracy_score, precision_score, recall_score, f1_score\n",
        "cm = confusion_matrix(y_test,prediction)\n",
        "sns.heatmap(cm,\n",
        "            annot=True,\n",
        "            fmt='g',\n",
        "            xticklabels=['y_test', 'prediction'],\n",
        "            yticklabels=['y_test', 'prediction'])\n",
        "plt.ylabel('Prediction',fontsize=13)\n",
        "plt.xlabel('Actual',fontsize=13)\n",
        "plt.title('Confusion Matrix',fontsize=17)\n",
        "plt.show()\n",
        "\n",
        "\n",
        "# Finding precision and recall\n",
        "accuracy = accuracy_score(y_test, prediction)\n",
        "print(\"Accuracy   :\", accuracy)\n",
        "precision = precision_score(y_test, prediction)\n",
        "print(\"Precision :\", precision)\n",
        "recall = recall_score(y_test,prediction)"
      ],
      "metadata": {
        "id": "Eh3sl-WGRicO"
      },
      "execution_count": null,
      "outputs": []
    },
    {
      "cell_type": "markdown",
      "metadata": {
        "id": "6tXpjb6QXkG6"
      },
      "source": [
        "**3. XGBoost Classifier**"
      ]
    },
    {
      "cell_type": "code",
      "execution_count": null,
      "metadata": {
        "id": "YHeQcUUX4fVw"
      },
      "outputs": [],
      "source": [
        "from xgboost import XGBClassifier"
      ]
    },
    {
      "cell_type": "code",
      "execution_count": null,
      "metadata": {
        "id": "jV4BVBxq4bB4"
      },
      "outputs": [],
      "source": [
        "xgb_model = XGBClassifier(max_depth=3, n_estimators=1000).fit(x_train, y_train)\n",
        "train_pred = xgb_model.predict(x_train)\n",
        "test_pred1 = xgb_model.predict(x_test)\n",
        "print(f1_score(y_train, train_pred))\n",
        "print(f1_score(y_test, test_pred1))\n"
      ]
    },
    {
      "cell_type": "markdown",
      "metadata": {
        "id": "oiKOQCBFEni1"
      },
      "source": [
        "**4. Implementation of LightGBM Model**"
      ]
    },
    {
      "cell_type": "code",
      "execution_count": null,
      "metadata": {
        "id": "-ie3y27WC8Jo"
      },
      "outputs": [],
      "source": [
        "from lightgbm import LGBMClassifier\n",
        "model = LGBMClassifier()\n",
        "model.fit(x_train, y_train)"
      ]
    },
    {
      "cell_type": "code",
      "execution_count": null,
      "metadata": {
        "id": "8c-8LZGAD9N1"
      },
      "outputs": [],
      "source": [
        "from sklearn.metrics import f1_score\n",
        "lgm_train_pred = model.predict(x_train)\n",
        "lgm_test_pred = model.predict(x_test)\n",
        "print(f1_score(y_train, lgm_train_pred))\n",
        "print(f1_score(y_test, lgm_test_pred))"
      ]
    },
    {
      "cell_type": "markdown",
      "source": [
        "### **5. DNN Implimentation**\n",
        "**Building and Training the Neural Network**\n",
        "\n",
        "There are two types of models available in keras: the Model Sequential API and the Functional API.\n",
        "\n",
        "For more complex deep learning models, you should use the Functional API because Sequential API does not allow you to create models that share layers or have multiple inputs or outputs."
      ],
      "metadata": {
        "id": "hcjKhkWuAQip"
      }
    },
    {
      "cell_type": "code",
      "source": [
        "#Set your model as the sequential model by running this command in a new cell:\n",
        "model = models.Sequential()\n"
      ],
      "metadata": {
        "id": "qZddcE28AvDg"
      },
      "execution_count": null,
      "outputs": []
    },
    {
      "cell_type": "markdown",
      "source": [
        "**Creating Layers For Neural Network**\n"
      ],
      "metadata": {
        "id": "XnfK0WEtBYd4"
      }
    },
    {
      "cell_type": "code",
      "source": [
        "# Input - Layer\n",
        "model.add(layers.Dense(50, activation = \"relu\", input_shape=(1000, )))\n",
        "# Hidden - Layers\n",
        "model.add(layers.Dropout(0.3, noise_shape=None, seed=None))\n",
        "model.add(layers.Dense(50, activation = \"relu\"))\n",
        "model.add(layers.Dropout(0.2, noise_shape=None, seed=None))\n",
        "model.add(layers.Dense(50, activation = \"relu\"))\n",
        "# Output- Layer\n",
        "model.add(layers.Dense(1, activation = \"sigmoid\"))\n",
        "model.summary()"
      ],
      "metadata": {
        "id": "vHqiJsneAvAp"
      },
      "execution_count": null,
      "outputs": []
    },
    {
      "cell_type": "markdown",
      "source": [
        "**Model Compilation**\n",
        "\n",
        "The compile() function defines the model architecture. You implement the adam algorithm as your model’s optimizer in this definition. This algorithm is a gradient descent method based on approximating first-order and second-order moments. The metrics and loss parameters are very closely related. While the metric parameter defines how to judge your model’s performance, the loss parameter defines the quantity that the model seeks to minimize during training. The metric here is accuracy (the fraction of predictions the model gets correctly), while the loss is binary_crossentropy (a metric between the labels and predictions used when there are only two label classes [the positive 1 and the negative 0])."
      ],
      "metadata": {
        "id": "FEPzFMovBoOa"
      }
    },
    {
      "cell_type": "code",
      "source": [
        "model.compile(optimizer = \"adam\",loss = \"binary_crossentropy\",metrics = [\"accuracy\"])\n"
      ],
      "metadata": {
        "id": "htKuh0HKAu-V"
      },
      "execution_count": null,
      "outputs": []
    },
    {
      "cell_type": "markdown",
      "source": [
        "**Model Traning With Neural Networks¶**"
      ],
      "metadata": {
        "id": "sVyb76G-B-78"
      }
    },
    {
      "cell_type": "code",
      "source": [
        "results = model.fit(x_train,y_train,epochs= 3,batch_size = 32,validation_data = (X_val,y_val))"
      ],
      "metadata": {
        "id": "0W_i2yBxCHCE"
      },
      "execution_count": null,
      "outputs": []
    },
    {
      "cell_type": "markdown",
      "source": [
        "**Model Evaluation**"
      ],
      "metadata": {
        "id": "EGt9fquQCKUr"
      }
    },
    {
      "cell_type": "code",
      "source": [
        "scores=model.evaluate(x_train,y_train,verbose=0)\n",
        "print(\"Accuracy: %.2f%%\" % (scores[1]*100))"
      ],
      "metadata": {
        "id": "Fue1MwnRCR3R"
      },
      "execution_count": null,
      "outputs": []
    },
    {
      "cell_type": "code",
      "source": [
        "scores=model.evaluate(x_test,y_test,verbose=0)\n",
        "print(\"Accuracy: %.2f%%\" % (scores[1]*100))"
      ],
      "metadata": {
        "id": "lu9p5ij3CX4R"
      },
      "execution_count": null,
      "outputs": []
    },
    {
      "cell_type": "markdown",
      "source": [
        "**Model Prediction o inferance data**"
      ],
      "metadata": {
        "id": "30Uy_aoJChVh"
      }
    },
    {
      "cell_type": "code",
      "source": [
        "pred_infer = model.predict(test_bow)"
      ],
      "metadata": {
        "id": "G14gV4QiCmXw"
      },
      "execution_count": null,
      "outputs": []
    },
    {
      "cell_type": "code",
      "source": [
        "pred_infer"
      ],
      "metadata": {
        "id": "crpVeXgvDV98"
      },
      "execution_count": null,
      "outputs": []
    }
  ],
  "metadata": {
    "colab": {
      "provenance": [],
      "include_colab_link": true
    },
    "kernelspec": {
      "display_name": "Python 3",
      "name": "python3"
    },
    "language_info": {
      "name": "python"
    }
  },
  "nbformat": 4,
  "nbformat_minor": 0
}